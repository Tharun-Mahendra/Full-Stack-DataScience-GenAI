{
 "cells": [
  {
   "cell_type": "markdown",
   "id": "a67842d3-859e-4079-b197-b6d590dd24de",
   "metadata": {},
   "source": [
    "# DataTypes"
   ]
  },
  {
   "cell_type": "markdown",
   "id": "2ac604bb-23b0-4907-b7e0-297e6da55d3d",
   "metadata": {},
   "source": [
    "#### Int"
   ]
  },
  {
   "cell_type": "code",
   "execution_count": 1,
   "id": "f1784cdd-eb75-4667-8ffa-4323dccc84d9",
   "metadata": {},
   "outputs": [
    {
     "data": {
      "text/plain": [
       "int"
      ]
     },
     "execution_count": 1,
     "metadata": {},
     "output_type": "execute_result"
    }
   ],
   "source": [
    "i=25 #value without decimal is integer\n",
    "type(i)"
   ]
  },
  {
   "cell_type": "code",
   "execution_count": 2,
   "id": "71b4966a-aee4-4d83-a5c4-65b7d28583ee",
   "metadata": {},
   "outputs": [
    {
     "name": "stdout",
     "output_type": "stream",
     "text": [
      "<class 'int'>\n"
     ]
    }
   ],
   "source": [
    "print(type(i))"
   ]
  },
  {
   "cell_type": "markdown",
   "id": "aa97ab90-1218-4191-9756-f6bb98122e41",
   "metadata": {},
   "source": [
    "#### Float"
   ]
  },
  {
   "cell_type": "code",
   "execution_count": 3,
   "id": "d64effbe-77ce-41fb-86d4-ec995cabb079",
   "metadata": {},
   "outputs": [
    {
     "data": {
      "text/plain": [
       "float"
      ]
     },
     "execution_count": 3,
     "metadata": {},
     "output_type": "execute_result"
    }
   ],
   "source": [
    "petrol=109.5 #value with decimal is float\n",
    "type(petrol)"
   ]
  },
  {
   "cell_type": "code",
   "execution_count": 4,
   "id": "c63626e9-916d-4dea-81dc-207a5259f875",
   "metadata": {},
   "outputs": [
    {
     "name": "stdout",
     "output_type": "stream",
     "text": [
      "<class 'float'>\n"
     ]
    }
   ],
   "source": [
    "print(type(petrol))"
   ]
  },
  {
   "cell_type": "markdown",
   "id": "cf88a663-653d-42c1-af91-8f2205664667",
   "metadata": {},
   "source": [
    "#### Boolean"
   ]
  },
  {
   "cell_type": "code",
   "execution_count": 5,
   "id": "956dff6a-9eca-4664-89ed-acf62b1c5ce8",
   "metadata": {},
   "outputs": [
    {
     "data": {
      "text/plain": [
       "bool"
      ]
     },
     "execution_count": 5,
     "metadata": {},
     "output_type": "execute_result"
    }
   ],
   "source": [
    "b=True #true or false \n",
    "type(b)"
   ]
  },
  {
   "cell_type": "code",
   "execution_count": 6,
   "id": "31aedf0c-1e3d-4b5d-84b8-af002802c0d5",
   "metadata": {},
   "outputs": [
    {
     "data": {
      "text/plain": [
       "1"
      ]
     },
     "execution_count": 6,
     "metadata": {},
     "output_type": "execute_result"
    }
   ],
   "source": [
    "True+False #(0+1)"
   ]
  },
  {
   "cell_type": "code",
   "execution_count": 7,
   "id": "9dfc70b6-5952-4754-9644-4541c80f9589",
   "metadata": {},
   "outputs": [
    {
     "data": {
      "text/plain": [
       "0"
      ]
     },
     "execution_count": 7,
     "metadata": {},
     "output_type": "execute_result"
    }
   ],
   "source": [
    "True-True"
   ]
  },
  {
   "cell_type": "code",
   "execution_count": 8,
   "id": "b6c09c24-48d7-4076-a3f7-00a8a88e8aad",
   "metadata": {},
   "outputs": [
    {
     "data": {
      "text/plain": [
       "0"
      ]
     },
     "execution_count": 8,
     "metadata": {},
     "output_type": "execute_result"
    }
   ],
   "source": [
    "True*False"
   ]
  },
  {
   "cell_type": "code",
   "execution_count": 9,
   "id": "ea22d84f-984c-410e-bcaf-1652384b831a",
   "metadata": {},
   "outputs": [
    {
     "data": {
      "text/plain": [
       "0.0"
      ]
     },
     "execution_count": 9,
     "metadata": {},
     "output_type": "execute_result"
    }
   ],
   "source": [
    "False/True"
   ]
  },
  {
   "cell_type": "code",
   "execution_count": 10,
   "id": "8a516e7e-3f61-4078-ba0b-8c4a6d3043b9",
   "metadata": {},
   "outputs": [
    {
     "ename": "ZeroDivisionError",
     "evalue": "division by zero",
     "output_type": "error",
     "traceback": [
      "\u001b[1;31m---------------------------------------------------------------------------\u001b[0m",
      "\u001b[1;31mZeroDivisionError\u001b[0m                         Traceback (most recent call last)",
      "Cell \u001b[1;32mIn[10], line 1\u001b[0m\n\u001b[1;32m----> 1\u001b[0m \u001b[38;5;28;01mTrue\u001b[39;00m\u001b[38;5;241m/\u001b[39m\u001b[38;5;28;01mFalse\u001b[39;00m\n",
      "\u001b[1;31mZeroDivisionError\u001b[0m: division by zero"
     ]
    }
   ],
   "source": [
    "True/False"
   ]
  },
  {
   "cell_type": "markdown",
   "id": "3a26f099-5d36-4f36-abeb-d8c1fd240827",
   "metadata": {},
   "source": [
    "#### Complex"
   ]
  },
  {
   "cell_type": "code",
   "execution_count": 11,
   "id": "6a976ac0-0726-4345-bc7b-e337629fd69a",
   "metadata": {},
   "outputs": [
    {
     "data": {
      "text/plain": [
       "(10+20j)"
      ]
     },
     "execution_count": 11,
     "metadata": {},
     "output_type": "execute_result"
    }
   ],
   "source": [
    "c=10+20j #complex number real+imaginary part\n",
    "c"
   ]
  },
  {
   "cell_type": "code",
   "execution_count": 12,
   "id": "37cf0181-a149-4c3b-bf46-44b37ec84081",
   "metadata": {},
   "outputs": [
    {
     "data": {
      "text/plain": [
       "complex"
      ]
     },
     "execution_count": 12,
     "metadata": {},
     "output_type": "execute_result"
    }
   ],
   "source": [
    "type(c)"
   ]
  },
  {
   "cell_type": "code",
   "execution_count": 13,
   "id": "2c574851-f08e-4137-a578-1ee52efd5f33",
   "metadata": {},
   "outputs": [
    {
     "data": {
      "text/plain": [
       "10.0"
      ]
     },
     "execution_count": 13,
     "metadata": {},
     "output_type": "execute_result"
    }
   ],
   "source": [
    "c.real"
   ]
  },
  {
   "cell_type": "code",
   "execution_count": 14,
   "id": "58f8b216-0d9c-41a0-a55a-8ef7487674ce",
   "metadata": {},
   "outputs": [
    {
     "data": {
      "text/plain": [
       "20.0"
      ]
     },
     "execution_count": 14,
     "metadata": {},
     "output_type": "execute_result"
    }
   ],
   "source": [
    "c.imag"
   ]
  },
  {
   "cell_type": "code",
   "execution_count": 15,
   "id": "d4e8c048-96d9-4c39-91e4-f1fe3a3a0bc5",
   "metadata": {},
   "outputs": [],
   "source": [
    "d=20+30j"
   ]
  },
  {
   "cell_type": "code",
   "execution_count": 16,
   "id": "936c28db-b30f-47b5-944a-67503185eb4e",
   "metadata": {},
   "outputs": [
    {
     "data": {
      "text/plain": [
       "(30+50j)"
      ]
     },
     "execution_count": 16,
     "metadata": {},
     "output_type": "execute_result"
    }
   ],
   "source": [
    "c+d"
   ]
  },
  {
   "cell_type": "code",
   "execution_count": 17,
   "id": "8e75a022-aeda-4114-8066-e2222eda9c98",
   "metadata": {},
   "outputs": [
    {
     "data": {
      "text/plain": [
       "(-10-10j)"
      ]
     },
     "execution_count": 17,
     "metadata": {},
     "output_type": "execute_result"
    }
   ],
   "source": [
    "c-d"
   ]
  },
  {
   "cell_type": "code",
   "execution_count": 18,
   "id": "dfb35b94-6d0e-45fe-874f-52d2df76a973",
   "metadata": {},
   "outputs": [
    {
     "data": {
      "text/plain": [
       "(10+10j)"
      ]
     },
     "execution_count": 18,
     "metadata": {},
     "output_type": "execute_result"
    }
   ],
   "source": [
    "d-c"
   ]
  },
  {
   "cell_type": "code",
   "execution_count": 19,
   "id": "fd160e80-b8a0-43a6-8d58-1d5c35bcdedc",
   "metadata": {},
   "outputs": [
    {
     "name": "stdout",
     "output_type": "stream",
     "text": [
      "(10+20j)\n",
      "(20+30j)\n"
     ]
    }
   ],
   "source": [
    "print(c)\n",
    "print(d)"
   ]
  },
  {
   "cell_type": "code",
   "execution_count": 20,
   "id": "486a0f59-d257-4651-9be1-e918dd7efdf1",
   "metadata": {},
   "outputs": [
    {
     "data": {
      "text/plain": [
       "(-400+700j)"
      ]
     },
     "execution_count": 20,
     "metadata": {},
     "output_type": "execute_result"
    }
   ],
   "source": [
    "c*d"
   ]
  },
  {
   "cell_type": "markdown",
   "id": "0f018820-614a-4ec8-b17d-222b3db3141d",
   "metadata": {},
   "source": [
    "#### String"
   ]
  },
  {
   "cell_type": "code",
   "execution_count": 21,
   "id": "98e8cabd-a247-4c2f-8ca7-32dbad703834",
   "metadata": {},
   "outputs": [
    {
     "data": {
      "text/plain": [
       "str"
      ]
     },
     "execution_count": 21,
     "metadata": {},
     "output_type": "execute_result"
    }
   ],
   "source": [
    "a='tharun' # SingleLine Comments\n",
    "type(a)"
   ]
  },
  {
   "cell_type": "code",
   "execution_count": 22,
   "id": "4590a298-a223-4656-b168-ada712bfd837",
   "metadata": {},
   "outputs": [
    {
     "data": {
      "text/plain": [
       "'tharun'"
      ]
     },
     "execution_count": 22,
     "metadata": {},
     "output_type": "execute_result"
    }
   ],
   "source": [
    "a"
   ]
  },
  {
   "cell_type": "code",
   "execution_count": 23,
   "id": "1c2733ba-1aab-4db7-9b12-0e7df92845f9",
   "metadata": {},
   "outputs": [],
   "source": [
    "b=\"tharun\" "
   ]
  },
  {
   "cell_type": "code",
   "execution_count": 24,
   "id": "d61ca164-c5ff-4aaf-921b-f8048db179aa",
   "metadata": {},
   "outputs": [
    {
     "data": {
      "text/plain": [
       "'tharun'"
      ]
     },
     "execution_count": 24,
     "metadata": {},
     "output_type": "execute_result"
    }
   ],
   "source": [
    "b"
   ]
  },
  {
   "cell_type": "code",
   "execution_count": 25,
   "id": "9cf5022f-bf76-47ba-9bf5-6db0281f2b08",
   "metadata": {},
   "outputs": [],
   "source": [
    "c='''First Line\n",
    "     Second Line''' # MultiLine Comments"
   ]
  },
  {
   "cell_type": "code",
   "execution_count": 26,
   "id": "9edc5f48-d269-449a-80ed-83cd37415d2a",
   "metadata": {},
   "outputs": [
    {
     "data": {
      "text/plain": [
       "'First Line\\n     Second Line'"
      ]
     },
     "execution_count": 26,
     "metadata": {},
     "output_type": "execute_result"
    }
   ],
   "source": [
    "c"
   ]
  },
  {
   "cell_type": "code",
   "execution_count": 27,
   "id": "3cb97760-900e-4f36-bdb1-41a4592c00b8",
   "metadata": {},
   "outputs": [],
   "source": [
    "a='first' #String Concatenating\n",
    "b='second'"
   ]
  },
  {
   "cell_type": "code",
   "execution_count": 28,
   "id": "20706c8d-6e29-4f11-a987-20e205a83f27",
   "metadata": {},
   "outputs": [
    {
     "data": {
      "text/plain": [
       "'firstsecond'"
      ]
     },
     "execution_count": 28,
     "metadata": {},
     "output_type": "execute_result"
    }
   ],
   "source": [
    "c=a+b\n",
    "c"
   ]
  },
  {
   "cell_type": "code",
   "execution_count": 29,
   "id": "84013a0c-7a31-48a4-bb74-8034be720d43",
   "metadata": {},
   "outputs": [
    {
     "data": {
      "text/plain": [
       "11"
      ]
     },
     "execution_count": 29,
     "metadata": {},
     "output_type": "execute_result"
    }
   ],
   "source": [
    "len(c) # Length of String"
   ]
  },
  {
   "cell_type": "markdown",
   "id": "afdd324d-3818-4d52-b0f5-a16c1e3b437a",
   "metadata": {},
   "source": [
    "#### String Slicing [:]"
   ]
  },
  {
   "cell_type": "code",
   "execution_count": 30,
   "id": "0efe959b-c97b-4916-84c3-547d6bea8dc9",
   "metadata": {},
   "outputs": [],
   "source": [
    "a='python'"
   ]
  },
  {
   "cell_type": "code",
   "execution_count": 31,
   "id": "418cfd80-ef56-4712-8216-2cc18da6e381",
   "metadata": {},
   "outputs": [
    {
     "data": {
      "text/plain": [
       "'python'"
      ]
     },
     "execution_count": 31,
     "metadata": {},
     "output_type": "execute_result"
    }
   ],
   "source": [
    "a[:]"
   ]
  },
  {
   "cell_type": "code",
   "execution_count": 32,
   "id": "f6f39fd6-12da-424c-93b4-6e9998355dce",
   "metadata": {},
   "outputs": [
    {
     "name": "stdout",
     "output_type": "stream",
     "text": [
      "o\n",
      "t\n"
     ]
    }
   ],
   "source": [
    "print(a[4])\n",
    "print(a[-4])"
   ]
  },
  {
   "cell_type": "code",
   "execution_count": 33,
   "id": "bc47f371-c591-492c-bcf9-b096f51ce977",
   "metadata": {},
   "outputs": [
    {
     "data": {
      "text/plain": [
       "'ytho'"
      ]
     },
     "execution_count": 33,
     "metadata": {},
     "output_type": "execute_result"
    }
   ],
   "source": [
    "a[1:5] #i.e 1-(n-1);[1-4] forward index 0;1;2;3;4;5"
   ]
  },
  {
   "cell_type": "code",
   "execution_count": 34,
   "id": "79826004-9ba0-4290-ac93-dd22734c9867",
   "metadata": {},
   "outputs": [
    {
     "data": {
      "text/plain": [
       "'ytho'"
      ]
     },
     "execution_count": 34,
     "metadata": {},
     "output_type": "execute_result"
    }
   ],
   "source": [
    "a[-5:-1] #Backward index -6;-5;-4;-3;-2;-1"
   ]
  },
  {
   "cell_type": "code",
   "execution_count": 35,
   "id": "61ee2420-a764-42db-8168-929103ff0739",
   "metadata": {},
   "outputs": [
    {
     "data": {
      "text/plain": [
       "'pto'"
      ]
     },
     "execution_count": 35,
     "metadata": {},
     "output_type": "execute_result"
    }
   ],
   "source": [
    "# Skipping character while splitting Python strings\n",
    "a[0:6:2] ##[Start:End:Step]"
   ]
  },
  {
   "cell_type": "markdown",
   "id": "f4e70b75-ac60-4856-a249-09397b69c56f",
   "metadata": {},
   "source": [
    "#### List"
   ]
  },
  {
   "cell_type": "code",
   "execution_count": 36,
   "id": "fdd1fd04-74d7-4833-9655-289ffa6492eb",
   "metadata": {},
   "outputs": [
    {
     "data": {
      "text/plain": [
       "[1, 2, 3, 4]"
      ]
     },
     "execution_count": 36,
     "metadata": {},
     "output_type": "execute_result"
    }
   ],
   "source": [
    "a=[1,2,3,4]\n",
    "a"
   ]
  },
  {
   "cell_type": "code",
   "execution_count": 37,
   "id": "66ce3746-9698-4bb7-873e-c5facc08e3ea",
   "metadata": {},
   "outputs": [
    {
     "data": {
      "text/plain": [
       "list"
      ]
     },
     "execution_count": 37,
     "metadata": {},
     "output_type": "execute_result"
    }
   ],
   "source": [
    "type(a)"
   ]
  },
  {
   "cell_type": "markdown",
   "id": "a11b2161-2375-400f-8f0c-c87ee5926ea5",
   "metadata": {},
   "source": [
    "#### Dictionary"
   ]
  },
  {
   "cell_type": "code",
   "execution_count": 38,
   "id": "02941010-80fb-4ee7-981b-4d9b9442857f",
   "metadata": {},
   "outputs": [],
   "source": [
    "d={'name':'Tharun'} # Key:Value pairs "
   ]
  },
  {
   "cell_type": "code",
   "execution_count": 39,
   "id": "87168686-3024-4045-8cb6-06a21c716f40",
   "metadata": {},
   "outputs": [
    {
     "name": "stdout",
     "output_type": "stream",
     "text": [
      "<class 'dict'>\n"
     ]
    },
    {
     "data": {
      "text/plain": [
       "{'name': 'Tharun'}"
      ]
     },
     "execution_count": 39,
     "metadata": {},
     "output_type": "execute_result"
    }
   ],
   "source": [
    "print(type(d))\n",
    "d"
   ]
  },
  {
   "cell_type": "markdown",
   "id": "66ffee7c-56ad-4dc3-a4c4-9643f8443a59",
   "metadata": {},
   "source": [
    "#### Set"
   ]
  },
  {
   "cell_type": "code",
   "execution_count": 40,
   "id": "4e4cfdcd-10fa-4fda-ac03-9b7add42838d",
   "metadata": {},
   "outputs": [
    {
     "data": {
      "text/plain": [
       "{1, 2, 3}"
      ]
     },
     "execution_count": 40,
     "metadata": {},
     "output_type": "execute_result"
    }
   ],
   "source": [
    "S={1,2,3}\n",
    "S"
   ]
  },
  {
   "cell_type": "code",
   "execution_count": 41,
   "id": "630ba127-bff6-44c6-8979-a300acafde19",
   "metadata": {},
   "outputs": [
    {
     "data": {
      "text/plain": [
       "set"
      ]
     },
     "execution_count": 41,
     "metadata": {},
     "output_type": "execute_result"
    }
   ],
   "source": [
    "type(S)"
   ]
  },
  {
   "cell_type": "markdown",
   "id": "b8dffaee-d321-4937-b157-68d1b21347d3",
   "metadata": {},
   "source": [
    "#### Tuple"
   ]
  },
  {
   "cell_type": "code",
   "execution_count": 42,
   "id": "49853131-c799-43ee-9dcf-aa9b1984dfc5",
   "metadata": {},
   "outputs": [
    {
     "data": {
      "text/plain": [
       "(1, 2, 3)"
      ]
     },
     "execution_count": 42,
     "metadata": {},
     "output_type": "execute_result"
    }
   ],
   "source": [
    "T=(1,2,3)\n",
    "T"
   ]
  },
  {
   "cell_type": "code",
   "execution_count": 43,
   "id": "e8ed9360-5fad-4e2d-8e1a-3fdc1a8af3ec",
   "metadata": {},
   "outputs": [
    {
     "data": {
      "text/plain": [
       "tuple"
      ]
     },
     "execution_count": 43,
     "metadata": {},
     "output_type": "execute_result"
    }
   ],
   "source": [
    "type(T)"
   ]
  },
  {
   "cell_type": "markdown",
   "id": "9ac0d1e1-b794-48b5-8455-ddb2fe9d1501",
   "metadata": {},
   "source": [
    "# Arthimetic Operators"
   ]
  },
  {
   "cell_type": "code",
   "execution_count": 44,
   "id": "e6d07136-8455-428d-9edb-3f97944f49af",
   "metadata": {},
   "outputs": [
    {
     "name": "stdout",
     "output_type": "stream",
     "text": [
      "addition = 5\n",
      "subtraction = 1\n",
      "multiplication = 6\n",
      "floatDivision = 1.5\n",
      "exponent = 9\n",
      "remainder = 1\n",
      "intDivision = 1\n"
     ]
    }
   ],
   "source": [
    "print('addition =',3 + 2)   # addition(+)\n",
    "print('subtraction =',3 - 2)   # subtraction(-)\n",
    "print('multiplication =',3 * 2)   # multiplication(*)\n",
    "print('floatDivision =',3 / 2)   # division(/)\n",
    "print('exponent =',3 ** 2)  # exponential(**)\n",
    "print('remainder =',3 % 2)   # modulus(%)\n",
    "print('intDivision =',3 // 2)  # Floor division operator(//)"
   ]
  },
  {
   "cell_type": "code",
   "execution_count": 45,
   "id": "3b4262dd-0cb6-4bef-935f-9c3e57603c0c",
   "metadata": {},
   "outputs": [
    {
     "name": "stdout",
     "output_type": "stream",
     "text": [
      "Area of a circle: 314.0\n",
      "Area of rectangle: 200\n",
      "735.75 N\n"
     ]
    }
   ],
   "source": [
    "# Calculating area of a circle\n",
    "radius = 10 \n",
    "area_of_circle = 3.14*(radius**2) #Pi(r)**2\n",
    "print('Area of a circle:', area_of_circle)\n",
    "\n",
    "# Calculating area of a rectangle\n",
    "length = 10\n",
    "width = 20\n",
    "area_of_rectangle = length * width\n",
    "print('Area of rectangle:', area_of_rectangle)\n",
    "\n",
    "# Calculating a weight of an object\n",
    "mass = 75\n",
    "gravity = 9.81\n",
    "weight = mass * gravity\n",
    "print(weight, 'N')"
   ]
  },
  {
   "cell_type": "code",
   "execution_count": null,
   "id": "40c8b8d3-c650-4d21-9e34-0aabaea70e64",
   "metadata": {},
   "outputs": [],
   "source": []
  },
  {
   "cell_type": "code",
   "execution_count": null,
   "id": "4b89f070-db1a-45e8-a9a6-d36d60b87d29",
   "metadata": {},
   "outputs": [],
   "source": []
  }
 ],
 "metadata": {
  "kernelspec": {
   "display_name": "Python 3 (ipykernel)",
   "language": "python",
   "name": "python3"
  },
  "language_info": {
   "codemirror_mode": {
    "name": "ipython",
    "version": 3
   },
   "file_extension": ".py",
   "mimetype": "text/x-python",
   "name": "python",
   "nbconvert_exporter": "python",
   "pygments_lexer": "ipython3",
   "version": "3.12.7"
  }
 },
 "nbformat": 4,
 "nbformat_minor": 5
}
