{
 "cells": [
  {
   "cell_type": "markdown",
   "id": "b2ea09c7-47cc-4bbc-83c1-446d6c42cc99",
   "metadata": {},
   "source": [
    "# Variables"
   ]
  },
  {
   "cell_type": "markdown",
   "id": "7c5c3d84-9a50-47b6-a1b3-90503add298f",
   "metadata": {},
   "source": [
    "#### Variables are CaseSensitive"
   ]
  },
  {
   "cell_type": "code",
   "execution_count": 1,
   "id": "3bde2b47-4aa0-40bb-8797-b5780f4d1b30",
   "metadata": {},
   "outputs": [
    {
     "ename": "NameError",
     "evalue": "name 'CAPITAL_LETTERS' is not defined",
     "output_type": "error",
     "traceback": [
      "\u001b[1;31m---------------------------------------------------------------------------\u001b[0m",
      "\u001b[1;31mNameError\u001b[0m                                 Traceback (most recent call last)",
      "Cell \u001b[1;32mIn[1], line 2\u001b[0m\n\u001b[0;32m      1\u001b[0m small_letters\u001b[38;5;241m=\u001b[39m\u001b[38;5;241m10\u001b[39m\n\u001b[1;32m----> 2\u001b[0m CAPITAL_LETTERS\n",
      "\u001b[1;31mNameError\u001b[0m: name 'CAPITAL_LETTERS' is not defined"
     ]
    }
   ],
   "source": [
    "small_letters=10\n",
    "CAPITAL_LETTERS"
   ]
  },
  {
   "cell_type": "code",
   "execution_count": 2,
   "id": "a60ccea7-eef8-4373-affb-a2fc32557778",
   "metadata": {},
   "outputs": [
    {
     "data": {
      "text/plain": [
       "10"
      ]
     },
     "execution_count": 2,
     "metadata": {},
     "output_type": "execute_result"
    }
   ],
   "source": [
    "small_letters"
   ]
  },
  {
   "cell_type": "markdown",
   "id": "b0de650d-fb24-4875-99e3-0d528314388a",
   "metadata": {},
   "source": [
    "#### Variables cant start with digits but can end with digit"
   ]
  },
  {
   "cell_type": "code",
   "execution_count": 3,
   "id": "fd3d0290-40fa-4323-9fbd-468efff7a2ab",
   "metadata": {},
   "outputs": [
    {
     "ename": "SyntaxError",
     "evalue": "invalid decimal literal (2025420790.py, line 1)",
     "output_type": "error",
     "traceback": [
      "\u001b[1;36m  Cell \u001b[1;32mIn[3], line 1\u001b[1;36m\u001b[0m\n\u001b[1;33m    1a=10\u001b[0m\n\u001b[1;37m    ^\u001b[0m\n\u001b[1;31mSyntaxError\u001b[0m\u001b[1;31m:\u001b[0m invalid decimal literal\n"
     ]
    }
   ],
   "source": [
    "1a=10\n",
    "1a"
   ]
  },
  {
   "cell_type": "code",
   "execution_count": 4,
   "id": "b1ec1809-3a9d-48af-ba3e-85fd45c5d20d",
   "metadata": {},
   "outputs": [
    {
     "data": {
      "text/plain": [
       "10"
      ]
     },
     "execution_count": 4,
     "metadata": {},
     "output_type": "execute_result"
    }
   ],
   "source": [
    "a1=10\n",
    "a1"
   ]
  },
  {
   "cell_type": "markdown",
   "id": "040bcdce-1973-44fb-a144-6d40425b0492",
   "metadata": {},
   "source": [
    "#### special symbols are not allowed to define except \"___\""
   ]
  },
  {
   "cell_type": "code",
   "execution_count": 5,
   "id": "d88c0368-9b70-444f-b2fe-018f33b1020e",
   "metadata": {},
   "outputs": [
    {
     "ename": "SyntaxError",
     "evalue": "invalid syntax (1848654666.py, line 1)",
     "output_type": "error",
     "traceback": [
      "\u001b[1;36m  Cell \u001b[1;32mIn[5], line 1\u001b[1;36m\u001b[0m\n\u001b[1;33m    abs$=10\u001b[0m\n\u001b[1;37m       ^\u001b[0m\n\u001b[1;31mSyntaxError\u001b[0m\u001b[1;31m:\u001b[0m invalid syntax\n"
     ]
    }
   ],
   "source": [
    "abs$=10\n",
    "abs$"
   ]
  },
  {
   "cell_type": "code",
   "execution_count": 6,
   "id": "8d257c5c-fc9f-4b49-a6a4-f8b8ad766489",
   "metadata": {},
   "outputs": [
    {
     "data": {
      "text/plain": [
       "10"
      ]
     },
     "execution_count": 6,
     "metadata": {},
     "output_type": "execute_result"
    }
   ],
   "source": [
    "abs_bsx=10\n",
    "abs_bsx"
   ]
  },
  {
   "cell_type": "markdown",
   "id": "3443038e-fd81-40bf-965c-1d4e593fc21d",
   "metadata": {},
   "source": [
    "#### Keywords cant be used"
   ]
  },
  {
   "cell_type": "code",
   "execution_count": 7,
   "id": "d522b13e-00d6-4663-bc8e-08fe9e53c9c6",
   "metadata": {},
   "outputs": [
    {
     "ename": "SyntaxError",
     "evalue": "invalid syntax (2983687664.py, line 1)",
     "output_type": "error",
     "traceback": [
      "\u001b[1;36m  Cell \u001b[1;32mIn[7], line 1\u001b[1;36m\u001b[0m\n\u001b[1;33m    if=10\u001b[0m\n\u001b[1;37m      ^\u001b[0m\n\u001b[1;31mSyntaxError\u001b[0m\u001b[1;31m:\u001b[0m invalid syntax\n"
     ]
    }
   ],
   "source": [
    "if=10\n",
    "if"
   ]
  },
  {
   "cell_type": "code",
   "execution_count": 8,
   "id": "675c0e14-576e-4d54-88af-6ee077ecf137",
   "metadata": {},
   "outputs": [
    {
     "data": {
      "text/plain": [
       "['False',\n",
       " 'None',\n",
       " 'True',\n",
       " 'and',\n",
       " 'as',\n",
       " 'assert',\n",
       " 'async',\n",
       " 'await',\n",
       " 'break',\n",
       " 'class',\n",
       " 'continue',\n",
       " 'def',\n",
       " 'del',\n",
       " 'elif',\n",
       " 'else',\n",
       " 'except',\n",
       " 'finally',\n",
       " 'for',\n",
       " 'from',\n",
       " 'global',\n",
       " 'if',\n",
       " 'import',\n",
       " 'in',\n",
       " 'is',\n",
       " 'lambda',\n",
       " 'nonlocal',\n",
       " 'not',\n",
       " 'or',\n",
       " 'pass',\n",
       " 'raise',\n",
       " 'return',\n",
       " 'try',\n",
       " 'while',\n",
       " 'with',\n",
       " 'yield']"
      ]
     },
     "execution_count": 8,
     "metadata": {},
     "output_type": "execute_result"
    }
   ],
   "source": [
    "import keyword\n",
    "keyword.kwlist"
   ]
  },
  {
   "cell_type": "markdown",
   "id": "79feeede-19dc-4da5-865a-bb2ad2c81157",
   "metadata": {},
   "source": [
    "#### Sorting and printing value"
   ]
  },
  {
   "cell_type": "code",
   "execution_count": 9,
   "id": "babd5859-fda4-4961-9038-413018edb086",
   "metadata": {},
   "outputs": [
    {
     "name": "stdout",
     "output_type": "stream",
     "text": [
      "10\n"
     ]
    }
   ],
   "source": [
    "x=10\n",
    "print(x)"
   ]
  },
  {
   "cell_type": "markdown",
   "id": "d17f64b0-5d86-4afa-8d3f-93a10c751c92",
   "metadata": {},
   "source": [
    "#### Using Variables In Expressions"
   ]
  },
  {
   "cell_type": "code",
   "execution_count": 10,
   "id": "647e45c7-b639-4907-940d-e5435351e0ad",
   "metadata": {},
   "outputs": [
    {
     "name": "stdout",
     "output_type": "stream",
     "text": [
      "12\n"
     ]
    }
   ],
   "source": [
    "a=5\n",
    "b=7\n",
    "print(a+b)"
   ]
  },
  {
   "cell_type": "markdown",
   "id": "00d3757e-8814-4aed-850b-badb71d108a3",
   "metadata": {},
   "source": [
    "#### Changing Value of a Variable"
   ]
  },
  {
   "cell_type": "code",
   "execution_count": 11,
   "id": "8614eb4e-6b5f-4905-934c-25f871cf088b",
   "metadata": {},
   "outputs": [
    {
     "data": {
      "text/plain": [
       "100"
      ]
     },
     "execution_count": 11,
     "metadata": {},
     "output_type": "execute_result"
    }
   ],
   "source": [
    "value=100\n",
    "value"
   ]
  },
  {
   "cell_type": "code",
   "execution_count": 12,
   "id": "526cca52-a215-4257-8a19-b7ca05d50168",
   "metadata": {},
   "outputs": [],
   "source": [
    "value=150"
   ]
  },
  {
   "cell_type": "code",
   "execution_count": 13,
   "id": "61a65ed8-6c36-4ba0-ad27-5ef4669c274d",
   "metadata": {},
   "outputs": [
    {
     "data": {
      "text/plain": [
       "150"
      ]
     },
     "execution_count": 13,
     "metadata": {},
     "output_type": "execute_result"
    }
   ],
   "source": [
    "value"
   ]
  },
  {
   "cell_type": "code",
   "execution_count": 14,
   "id": "4bd78914-3f76-4ea4-a6c0-5081782a78ec",
   "metadata": {},
   "outputs": [
    {
     "name": "stdout",
     "output_type": "stream",
     "text": [
      "First\n",
      "Second\n"
     ]
    }
   ],
   "source": [
    "a='First'\n",
    "b='Second'\n",
    "print(a)\n",
    "print(b)"
   ]
  },
  {
   "cell_type": "code",
   "execution_count": 15,
   "id": "64519e0c-8ea8-40d2-b153-d4b12b0175bc",
   "metadata": {},
   "outputs": [
    {
     "data": {
      "text/plain": [
       "'FirstSecond'"
      ]
     },
     "execution_count": 15,
     "metadata": {},
     "output_type": "execute_result"
    }
   ],
   "source": [
    "c=a+b\n",
    "c"
   ]
  }
 ],
 "metadata": {
  "kernelspec": {
   "display_name": "Python 3 (ipykernel)",
   "language": "python",
   "name": "python3"
  },
  "language_info": {
   "codemirror_mode": {
    "name": "ipython",
    "version": 3
   },
   "file_extension": ".py",
   "mimetype": "text/x-python",
   "name": "python",
   "nbconvert_exporter": "python",
   "pygments_lexer": "ipython3",
   "version": "3.12.7"
  }
 },
 "nbformat": 4,
 "nbformat_minor": 5
}
