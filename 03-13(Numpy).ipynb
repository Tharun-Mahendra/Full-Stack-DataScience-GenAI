{
 "cells": [
  {
   "cell_type": "code",
   "execution_count": 1,
   "id": "51885fef-567a-4dea-828d-b06004ba3c6b",
   "metadata": {},
   "outputs": [],
   "source": [
    "import numpy as np"
   ]
  },
  {
   "cell_type": "code",
   "execution_count": 2,
   "id": "76ae1fff-87e7-4fa4-9d35-707ff434b574",
   "metadata": {},
   "outputs": [
    {
     "data": {
      "text/plain": [
       "array([[20, 12, 24, 15, 11, 13, 23, 25, 13, 18],\n",
       "       [23, 17, 11, 17, 15, 20, 29, 14, 22, 22],\n",
       "       [28, 29, 27, 12, 13, 15, 25, 28, 17, 27],\n",
       "       [25, 13, 25, 24, 20, 24, 22, 21, 21, 10],\n",
       "       [21, 17, 14, 20, 20, 28, 23, 19, 15, 16],\n",
       "       [17, 29, 18, 20, 18, 19, 25, 20, 12, 10],\n",
       "       [25, 10, 21, 16, 28, 16, 10, 16, 17, 12],\n",
       "       [10, 27, 28, 28, 22, 20, 18, 15, 22, 10],\n",
       "       [26, 27, 21, 16, 26, 24, 15, 11, 27, 21],\n",
       "       [23, 14, 21, 25, 25, 29, 18, 21, 19, 15]])"
      ]
     },
     "execution_count": 2,
     "metadata": {},
     "output_type": "execute_result"
    }
   ],
   "source": [
    "np.random.randint(10,30,(10,10))"
   ]
  },
  {
   "cell_type": "code",
   "execution_count": 3,
   "id": "072bddab-93aa-4e8c-a1c6-cfa3a3ad2661",
   "metadata": {},
   "outputs": [
    {
     "data": {
      "text/plain": [
       "array([ 1,  2,  3,  4,  5,  6,  7,  8,  9, 10, 11, 12])"
      ]
     },
     "execution_count": 3,
     "metadata": {},
     "output_type": "execute_result"
    }
   ],
   "source": [
    "np.arange(1,13)"
   ]
  },
  {
   "cell_type": "code",
   "execution_count": 4,
   "id": "a80d4aaf-54bc-41ac-befe-46649d100acf",
   "metadata": {},
   "outputs": [
    {
     "data": {
      "text/plain": [
       "array([[ 1,  2],\n",
       "       [ 3,  4],\n",
       "       [ 5,  6],\n",
       "       [ 7,  8],\n",
       "       [ 9, 10],\n",
       "       [11, 12]])"
      ]
     },
     "execution_count": 4,
     "metadata": {},
     "output_type": "execute_result"
    }
   ],
   "source": [
    "np.arange(1,13).reshape(6,2)"
   ]
  },
  {
   "cell_type": "code",
   "execution_count": 5,
   "id": "35c85eb3-345d-44d4-8f02-c48ed0b3ff03",
   "metadata": {},
   "outputs": [
    {
     "data": {
      "text/plain": [
       "array([[ 1,  2,  3,  4],\n",
       "       [ 5,  6,  7,  8],\n",
       "       [ 9, 10, 11, 12]])"
      ]
     },
     "execution_count": 5,
     "metadata": {},
     "output_type": "execute_result"
    }
   ],
   "source": [
    "np.arange(1,13).reshape(3,4)"
   ]
  },
  {
   "cell_type": "markdown",
   "id": "e4a2b9a8-37f8-4b29-ae52-478a302ed75e",
   "metadata": {},
   "source": [
    "## Slicing In matrix"
   ]
  },
  {
   "cell_type": "code",
   "execution_count": 6,
   "id": "d61b5fdd-4441-4624-9a98-8fd85fc0fe12",
   "metadata": {},
   "outputs": [],
   "source": [
    "a=np.random.randint(10,20,(5,4))"
   ]
  },
  {
   "cell_type": "code",
   "execution_count": 7,
   "id": "f05e02b7-e105-4b23-a2d2-d9c6795c6f71",
   "metadata": {},
   "outputs": [
    {
     "data": {
      "text/plain": [
       "array([[17, 16, 15, 12],\n",
       "       [12, 13, 16, 14],\n",
       "       [13, 10, 18, 15],\n",
       "       [18, 10, 16, 13],\n",
       "       [17, 19, 19, 18]])"
      ]
     },
     "execution_count": 7,
     "metadata": {},
     "output_type": "execute_result"
    }
   ],
   "source": [
    "a"
   ]
  },
  {
   "cell_type": "code",
   "execution_count": 8,
   "id": "52bd6c98-01cf-4dab-bff6-68567824a3d0",
   "metadata": {},
   "outputs": [
    {
     "data": {
      "text/plain": [
       "numpy.ndarray"
      ]
     },
     "execution_count": 8,
     "metadata": {},
     "output_type": "execute_result"
    }
   ],
   "source": [
    "type(a)"
   ]
  },
  {
   "cell_type": "code",
   "execution_count": 9,
   "id": "8ccc8287-2880-4f34-85a4-fb0424113c9a",
   "metadata": {},
   "outputs": [
    {
     "data": {
      "text/plain": [
       "array([[17, 16, 15, 12],\n",
       "       [12, 13, 16, 14],\n",
       "       [13, 10, 18, 15],\n",
       "       [18, 10, 16, 13],\n",
       "       [17, 19, 19, 18]])"
      ]
     },
     "execution_count": 9,
     "metadata": {},
     "output_type": "execute_result"
    }
   ],
   "source": [
    "a[:] #':'slicing "
   ]
  },
  {
   "cell_type": "code",
   "execution_count": 10,
   "id": "207dfa0b-9e1d-4307-8698-fdb705a2ad1e",
   "metadata": {},
   "outputs": [
    {
     "data": {
      "text/plain": [
       "array([[12, 13, 16, 14],\n",
       "       [13, 10, 18, 15]])"
      ]
     },
     "execution_count": 10,
     "metadata": {},
     "output_type": "execute_result"
    }
   ],
   "source": [
    "a[1:3] #prints 1 t0 3-1 rows"
   ]
  },
  {
   "cell_type": "code",
   "execution_count": 11,
   "id": "cfc71d8e-5fe9-4f1d-b170-04c099b76ab8",
   "metadata": {},
   "outputs": [
    {
     "data": {
      "text/plain": [
       "array([[17, 16, 15, 12],\n",
       "       [12, 13, 16, 14],\n",
       "       [13, 10, 18, 15]])"
      ]
     },
     "execution_count": 11,
     "metadata": {},
     "output_type": "execute_result"
    }
   ],
   "source": [
    "a[0:3] #0 t0 2 rows"
   ]
  },
  {
   "cell_type": "code",
   "execution_count": 12,
   "id": "414d563e-4555-4452-a836-8dc985238772",
   "metadata": {},
   "outputs": [
    {
     "data": {
      "text/plain": [
       "16"
      ]
     },
     "execution_count": 12,
     "metadata": {},
     "output_type": "execute_result"
    }
   ],
   "source": [
    "a[1,2] #1row,2column element"
   ]
  },
  {
   "cell_type": "code",
   "execution_count": 13,
   "id": "5b5abe9f-e3a5-41f9-bea4-33f9426a6558",
   "metadata": {},
   "outputs": [
    {
     "data": {
      "text/plain": [
       "array([[17, 16, 15, 12],\n",
       "       [12, 13, 16, 14],\n",
       "       [13, 10, 18, 15],\n",
       "       [18, 10, 16, 13],\n",
       "       [17, 19, 19, 18]])"
      ]
     },
     "execution_count": 13,
     "metadata": {},
     "output_type": "execute_result"
    }
   ],
   "source": [
    "a"
   ]
  },
  {
   "cell_type": "code",
   "execution_count": 14,
   "id": "de4fea22-69d6-4cc4-a925-632d1d9b55b6",
   "metadata": {},
   "outputs": [
    {
     "data": {
      "text/plain": [
       "14"
      ]
     },
     "execution_count": 14,
     "metadata": {},
     "output_type": "execute_result"
    }
   ],
   "source": [
    "a[1,-1] #1row,-1column i.e lastcoulmn backward slicing"
   ]
  },
  {
   "cell_type": "code",
   "execution_count": 15,
   "id": "a3112c87-47af-4ec9-b777-02997dcc83c0",
   "metadata": {},
   "outputs": [
    {
     "data": {
      "text/plain": [
       "array([[13, 10, 18, 15]])"
      ]
     },
     "execution_count": 15,
     "metadata": {},
     "output_type": "execute_result"
    }
   ],
   "source": [
    "a[2:3] #2 row"
   ]
  },
  {
   "cell_type": "code",
   "execution_count": 16,
   "id": "bf3ee6b5-7152-4cfd-822f-1634dddc8461",
   "metadata": {},
   "outputs": [
    {
     "data": {
      "text/plain": [
       "array([[17, 16, 15, 12],\n",
       "       [12, 13, 16, 14],\n",
       "       [13, 10, 18, 15],\n",
       "       [18, 10, 16, 13],\n",
       "       [17, 19, 19, 18]])"
      ]
     },
     "execution_count": 16,
     "metadata": {},
     "output_type": "execute_result"
    }
   ],
   "source": [
    "a"
   ]
  },
  {
   "cell_type": "code",
   "execution_count": 17,
   "id": "b9131dcd-ae20-4403-a095-be2cfe3ef9ca",
   "metadata": {},
   "outputs": [
    {
     "data": {
      "text/plain": [
       "array([[17, 16, 15, 12],\n",
       "       [12, 13, 16, 14],\n",
       "       [13, 10, 18, 15]])"
      ]
     },
     "execution_count": 17,
     "metadata": {},
     "output_type": "execute_result"
    }
   ],
   "source": [
    "a[0:-2]"
   ]
  },
  {
   "cell_type": "code",
   "execution_count": 18,
   "id": "d0c1903d-977a-436f-b1e5-eda3f2a727d1",
   "metadata": {},
   "outputs": [
    {
     "data": {
      "text/plain": [
       "array([[12, 13, 16, 14],\n",
       "       [13, 10, 18, 15],\n",
       "       [18, 10, 16, 13]])"
      ]
     },
     "execution_count": 18,
     "metadata": {},
     "output_type": "execute_result"
    }
   ],
   "source": [
    "a[-4:4]"
   ]
  },
  {
   "cell_type": "code",
   "execution_count": 19,
   "id": "5648e728-224c-4368-8667-154c416ef5a3",
   "metadata": {},
   "outputs": [],
   "source": [
    "b=np.random.randint(10,50,(10,10))"
   ]
  },
  {
   "cell_type": "code",
   "execution_count": 20,
   "id": "5403e888-42c0-4c3a-989d-9ddf53f3b89c",
   "metadata": {},
   "outputs": [
    {
     "data": {
      "text/plain": [
       "array([[27, 45, 19, 28, 38, 34, 48, 30, 44, 12],\n",
       "       [19, 48, 33, 39, 48, 14, 31, 35, 37, 16],\n",
       "       [16, 17, 12, 33, 25, 16, 25, 14, 19, 15],\n",
       "       [17, 45, 41, 32, 47, 41, 28, 33, 37, 36],\n",
       "       [26, 38, 40, 14, 10, 15, 18, 18, 26, 12],\n",
       "       [13, 32, 27, 49, 11, 16, 11, 47, 13, 16],\n",
       "       [10, 42, 16, 12, 44, 47, 48, 49, 47, 43],\n",
       "       [24, 42, 15, 19, 37, 21, 11, 19, 46, 36],\n",
       "       [46, 38, 35, 20, 15, 34, 24, 40, 21, 49],\n",
       "       [18, 38, 36, 29, 18, 29, 13, 34, 45, 14]])"
      ]
     },
     "execution_count": 20,
     "metadata": {},
     "output_type": "execute_result"
    }
   ],
   "source": [
    "b"
   ]
  },
  {
   "cell_type": "code",
   "execution_count": 21,
   "id": "987c4d88-3299-48fd-8ebe-61f2987bdfa8",
   "metadata": {},
   "outputs": [
    {
     "data": {
      "text/plain": [
       "array([0, 1, 2, 3, 4, 5])"
      ]
     },
     "execution_count": 21,
     "metadata": {},
     "output_type": "execute_result"
    }
   ],
   "source": [
    "arr=np.array([0,1,2,3,4,5])\n",
    "arr"
   ]
  },
  {
   "cell_type": "code",
   "execution_count": 22,
   "id": "9927f2bf-b80b-4d69-9d00-2a5c1cfad85d",
   "metadata": {},
   "outputs": [
    {
     "data": {
      "text/plain": [
       "array([[18, 38, 36, 29, 18, 29, 13, 34, 45, 14],\n",
       "       [46, 38, 35, 20, 15, 34, 24, 40, 21, 49],\n",
       "       [24, 42, 15, 19, 37, 21, 11, 19, 46, 36],\n",
       "       [10, 42, 16, 12, 44, 47, 48, 49, 47, 43],\n",
       "       [13, 32, 27, 49, 11, 16, 11, 47, 13, 16],\n",
       "       [26, 38, 40, 14, 10, 15, 18, 18, 26, 12],\n",
       "       [17, 45, 41, 32, 47, 41, 28, 33, 37, 36],\n",
       "       [16, 17, 12, 33, 25, 16, 25, 14, 19, 15],\n",
       "       [19, 48, 33, 39, 48, 14, 31, 35, 37, 16],\n",
       "       [27, 45, 19, 28, 38, 34, 48, 30, 44, 12]])"
      ]
     },
     "execution_count": 22,
     "metadata": {},
     "output_type": "execute_result"
    }
   ],
   "source": [
    "b[::-1] #reverse an matrixx"
   ]
  },
  {
   "cell_type": "code",
   "execution_count": 23,
   "id": "60d1e00f-50a1-418e-8df2-1bde5cdb2af0",
   "metadata": {},
   "outputs": [
    {
     "data": {
      "text/plain": [
       "array([[18, 38, 36, 29, 18, 29, 13, 34, 45, 14],\n",
       "       [24, 42, 15, 19, 37, 21, 11, 19, 46, 36],\n",
       "       [13, 32, 27, 49, 11, 16, 11, 47, 13, 16],\n",
       "       [17, 45, 41, 32, 47, 41, 28, 33, 37, 36],\n",
       "       [19, 48, 33, 39, 48, 14, 31, 35, 37, 16]])"
      ]
     },
     "execution_count": 23,
     "metadata": {},
     "output_type": "execute_result"
    }
   ],
   "source": [
    "b[::-2]"
   ]
  },
  {
   "cell_type": "code",
   "execution_count": 24,
   "id": "0f261554-ed34-4e3e-bee8-6593f3b50faa",
   "metadata": {},
   "outputs": [
    {
     "data": {
      "text/plain": [
       "array([[27, 45, 19, 28, 38, 34, 48, 30, 44, 12],\n",
       "       [16, 17, 12, 33, 25, 16, 25, 14, 19, 15],\n",
       "       [26, 38, 40, 14, 10, 15, 18, 18, 26, 12],\n",
       "       [10, 42, 16, 12, 44, 47, 48, 49, 47, 43],\n",
       "       [46, 38, 35, 20, 15, 34, 24, 40, 21, 49]])"
      ]
     },
     "execution_count": 24,
     "metadata": {},
     "output_type": "execute_result"
    }
   ],
   "source": [
    "b[0:9:2]"
   ]
  },
  {
   "cell_type": "code",
   "execution_count": 25,
   "id": "2f77be0c-8060-4538-9d7f-2c342c33a49e",
   "metadata": {},
   "outputs": [
    {
     "data": {
      "text/plain": [
       "array([[27, 45, 19, 28, 38, 34, 48, 30, 44, 12],\n",
       "       [19, 48, 33, 39, 48, 14, 31, 35, 37, 16],\n",
       "       [16, 17, 12, 33, 25, 16, 25, 14, 19, 15],\n",
       "       [17, 45, 41, 32, 47, 41, 28, 33, 37, 36],\n",
       "       [26, 38, 40, 14, 10, 15, 18, 18, 26, 12],\n",
       "       [13, 32, 27, 49, 11, 16, 11, 47, 13, 16],\n",
       "       [10, 42, 16, 12, 44, 47, 48, 49, 47, 43],\n",
       "       [24, 42, 15, 19, 37, 21, 11, 19, 46, 36],\n",
       "       [46, 38, 35, 20, 15, 34, 24, 40, 21, 49],\n",
       "       [18, 38, 36, 29, 18, 29, 13, 34, 45, 14]])"
      ]
     },
     "execution_count": 25,
     "metadata": {},
     "output_type": "execute_result"
    }
   ],
   "source": [
    "b"
   ]
  },
  {
   "cell_type": "code",
   "execution_count": 26,
   "id": "0494742b-f600-4912-b58a-5e832d0f4c13",
   "metadata": {},
   "outputs": [
    {
     "data": {
      "text/plain": [
       "array([10, 42, 16, 12, 44, 47, 48, 49, 47, 43])"
      ]
     },
     "execution_count": 26,
     "metadata": {},
     "output_type": "execute_result"
    }
   ],
   "source": [
    "b[6,:] #7th row"
   ]
  },
  {
   "cell_type": "code",
   "execution_count": 27,
   "id": "803e772c-5a09-4c30-93f1-c2159c525467",
   "metadata": {},
   "outputs": [
    {
     "data": {
      "text/plain": [
       "array([48, 31, 25, 28, 18, 11, 48, 11, 24, 13])"
      ]
     },
     "execution_count": 27,
     "metadata": {},
     "output_type": "execute_result"
    }
   ],
   "source": [
    "b[:,6] #7th column"
   ]
  },
  {
   "cell_type": "code",
   "execution_count": 28,
   "id": "c81eda91-dfd2-4d6d-b76b-2908a6c6bfae",
   "metadata": {},
   "outputs": [
    {
     "data": {
      "text/plain": [
       "array([[27, 45, 19, 28, 38, 34, 48, 30, 44, 12],\n",
       "       [19, 48, 33, 39, 48, 14, 31, 35, 37, 16],\n",
       "       [16, 17, 12, 33, 25, 16, 25, 14, 19, 15],\n",
       "       [17, 45, 41, 32, 47, 41, 28, 33, 37, 36],\n",
       "       [26, 38, 40, 14, 10, 15, 18, 18, 26, 12],\n",
       "       [13, 32, 27, 49, 11, 16, 11, 47, 13, 16]])"
      ]
     },
     "execution_count": 28,
     "metadata": {},
     "output_type": "execute_result"
    }
   ],
   "source": [
    "b[:6] #0 to 5 rows"
   ]
  },
  {
   "cell_type": "code",
   "execution_count": 29,
   "id": "c01b9241-334a-44bb-8fd1-92aaf5dbbfc7",
   "metadata": {},
   "outputs": [
    {
     "data": {
      "text/plain": [
       "array([[10, 42, 16, 12, 44, 47, 48, 49, 47, 43],\n",
       "       [24, 42, 15, 19, 37, 21, 11, 19, 46, 36],\n",
       "       [46, 38, 35, 20, 15, 34, 24, 40, 21, 49],\n",
       "       [18, 38, 36, 29, 18, 29, 13, 34, 45, 14]])"
      ]
     },
     "execution_count": 29,
     "metadata": {},
     "output_type": "execute_result"
    }
   ],
   "source": [
    "b[6:] #6 to remaining rows"
   ]
  },
  {
   "cell_type": "code",
   "execution_count": 30,
   "id": "9fa01118-4fc0-4186-8152-cf48d7c1c860",
   "metadata": {},
   "outputs": [
    {
     "data": {
      "text/plain": [
       "array([[27, 45, 19, 28, 38, 34, 48, 30, 44, 12],\n",
       "       [19, 48, 33, 39, 48, 14, 31, 35, 37, 16],\n",
       "       [16, 17, 12, 33, 25, 16, 25, 14, 19, 15],\n",
       "       [17, 45, 41, 32, 47, 41, 28, 33, 37, 36],\n",
       "       [26, 38, 40, 14, 10, 15, 18, 18, 26, 12],\n",
       "       [13, 32, 27, 49, 11, 16, 11, 47, 13, 16],\n",
       "       [10, 42, 16, 12, 44, 47, 48, 49, 47, 43],\n",
       "       [24, 42, 15, 19, 37, 21, 11, 19, 46, 36],\n",
       "       [46, 38, 35, 20, 15, 34, 24, 40, 21, 49],\n",
       "       [18, 38, 36, 29, 18, 29, 13, 34, 45, 14]])"
      ]
     },
     "execution_count": 30,
     "metadata": {},
     "output_type": "execute_result"
    }
   ],
   "source": [
    "b"
   ]
  },
  {
   "cell_type": "code",
   "execution_count": 31,
   "id": "1915a4d1-79b1-4270-a629-0322f55b51c8",
   "metadata": {},
   "outputs": [
    {
     "data": {
      "text/plain": [
       "array([[27, 45, 19],\n",
       "       [19, 48, 33]])"
      ]
     },
     "execution_count": 31,
     "metadata": {},
     "output_type": "execute_result"
    }
   ],
   "source": [
    "b[0:2,0:3] #specifed row,column"
   ]
  },
  {
   "cell_type": "code",
   "execution_count": 32,
   "id": "35d4ee82-28af-4b73-9451-56f7b3030344",
   "metadata": {},
   "outputs": [
    {
     "data": {
      "text/plain": [
       "16"
      ]
     },
     "execution_count": 32,
     "metadata": {},
     "output_type": "execute_result"
    }
   ],
   "source": [
    "b[5,5] #6th row*6th column element"
   ]
  },
  {
   "cell_type": "markdown",
   "id": "ff649f7c-863b-4441-8d0f-3de32ba9605a",
   "metadata": {},
   "source": [
    "## Operations"
   ]
  },
  {
   "cell_type": "code",
   "execution_count": 33,
   "id": "2f56e5dd-3b7f-4840-82c2-8ffee9c069cd",
   "metadata": {},
   "outputs": [
    {
     "data": {
      "text/plain": [
       "array([0, 1, 2, 3, 4, 5])"
      ]
     },
     "execution_count": 33,
     "metadata": {},
     "output_type": "execute_result"
    }
   ],
   "source": [
    "arr"
   ]
  },
  {
   "cell_type": "code",
   "execution_count": 34,
   "id": "1ad6294a-f834-4791-bb71-ef4887171f12",
   "metadata": {},
   "outputs": [
    {
     "data": {
      "text/plain": [
       "2146108320112"
      ]
     },
     "execution_count": 34,
     "metadata": {},
     "output_type": "execute_result"
    }
   ],
   "source": [
    "id(arr)"
   ]
  },
  {
   "cell_type": "code",
   "execution_count": 35,
   "id": "87989e5f-4faa-4678-8aea-22dd5aac4a7c",
   "metadata": {},
   "outputs": [
    {
     "data": {
      "text/plain": [
       "5"
      ]
     },
     "execution_count": 35,
     "metadata": {},
     "output_type": "execute_result"
    }
   ],
   "source": [
    "arr.max()"
   ]
  },
  {
   "cell_type": "code",
   "execution_count": 36,
   "id": "9b0e5bf8-ce20-4819-a7a7-98d9f4ca6cd4",
   "metadata": {},
   "outputs": [
    {
     "data": {
      "text/plain": [
       "0"
      ]
     },
     "execution_count": 36,
     "metadata": {},
     "output_type": "execute_result"
    }
   ],
   "source": [
    "arr.min()"
   ]
  },
  {
   "cell_type": "code",
   "execution_count": 37,
   "id": "12beea2c-ee40-4873-b4d4-2ee809ecea20",
   "metadata": {},
   "outputs": [
    {
     "data": {
      "text/plain": [
       "2.5"
      ]
     },
     "execution_count": 37,
     "metadata": {},
     "output_type": "execute_result"
    }
   ],
   "source": [
    "arr.mean()"
   ]
  },
  {
   "cell_type": "code",
   "execution_count": 38,
   "id": "58960dc5-82e7-4356-b6e4-cb53362127ad",
   "metadata": {},
   "outputs": [
    {
     "ename": "AttributeError",
     "evalue": "'numpy.ndarray' object has no attribute 'median'",
     "output_type": "error",
     "traceback": [
      "\u001b[1;31m---------------------------------------------------------------------------\u001b[0m",
      "\u001b[1;31mAttributeError\u001b[0m                            Traceback (most recent call last)",
      "Cell \u001b[1;32mIn[38], line 1\u001b[0m\n\u001b[1;32m----> 1\u001b[0m arr\u001b[38;5;241m.\u001b[39mmedian()\n",
      "\u001b[1;31mAttributeError\u001b[0m: 'numpy.ndarray' object has no attribute 'median'"
     ]
    }
   ],
   "source": [
    "arr.median()"
   ]
  },
  {
   "cell_type": "code",
   "execution_count": 39,
   "id": "79ae4088-5efe-4cf4-a708-355355653940",
   "metadata": {},
   "outputs": [],
   "source": [
    "#to execute median we should import all functions of numpy\n",
    "from numpy import *"
   ]
  },
  {
   "cell_type": "code",
   "execution_count": 40,
   "id": "d19594c4-da0a-4ce0-b243-e6c81d6ebc5c",
   "metadata": {},
   "outputs": [
    {
     "data": {
      "text/plain": [
       "array([0, 1, 2, 3, 4, 5])"
      ]
     },
     "execution_count": 40,
     "metadata": {},
     "output_type": "execute_result"
    }
   ],
   "source": [
    "arr"
   ]
  },
  {
   "cell_type": "code",
   "execution_count": 41,
   "id": "8ed45a9f-4a29-498e-b1aa-83fbbdc6e95c",
   "metadata": {},
   "outputs": [
    {
     "data": {
      "text/plain": [
       "2.5"
      ]
     },
     "execution_count": 41,
     "metadata": {},
     "output_type": "execute_result"
    }
   ],
   "source": [
    "median(arr)"
   ]
  },
  {
   "cell_type": "code",
   "execution_count": 42,
   "id": "ecfa7d7d-e232-46f8-80c9-5d75de6f9050",
   "metadata": {},
   "outputs": [
    {
     "data": {
      "text/plain": [
       "array([[0, 1, 2],\n",
       "       [3, 4, 5]])"
      ]
     },
     "execution_count": 42,
     "metadata": {},
     "output_type": "execute_result"
    }
   ],
   "source": [
    "arr.reshape(2,3)"
   ]
  },
  {
   "cell_type": "code",
   "execution_count": 43,
   "id": "bca3e4f4-c725-43a1-8b04-3c34bf8f09a4",
   "metadata": {},
   "outputs": [
    {
     "data": {
      "text/plain": [
       "array([[0, 1, 2],\n",
       "       [3, 4, 5]])"
      ]
     },
     "execution_count": 43,
     "metadata": {},
     "output_type": "execute_result"
    }
   ],
   "source": [
    "arr.reshape(2,3,order='C')"
   ]
  },
  {
   "cell_type": "code",
   "execution_count": 44,
   "id": "4fbcca44-a909-44e4-a61d-3fb094e16e82",
   "metadata": {},
   "outputs": [
    {
     "data": {
      "text/plain": [
       "array([[0, 2, 4],\n",
       "       [1, 3, 5]])"
      ]
     },
     "execution_count": 44,
     "metadata": {},
     "output_type": "execute_result"
    }
   ],
   "source": [
    "arr.reshape(2,3,order='F')"
   ]
  },
  {
   "cell_type": "markdown",
   "id": "3a570779-9f4a-42d7-9e06-885c1b958664",
   "metadata": {},
   "source": [
    "### Masking"
   ]
  },
  {
   "cell_type": "code",
   "execution_count": 45,
   "id": "f455580c-cccc-4084-b242-7b27978f0806",
   "metadata": {},
   "outputs": [],
   "source": [
    "a=np.arange(1,101).reshape(10,10)"
   ]
  },
  {
   "cell_type": "code",
   "execution_count": 46,
   "id": "4c159899-0340-48f8-b895-5b5e1174bedf",
   "metadata": {},
   "outputs": [
    {
     "data": {
      "text/plain": [
       "array([[  1,   2,   3,   4,   5,   6,   7,   8,   9,  10],\n",
       "       [ 11,  12,  13,  14,  15,  16,  17,  18,  19,  20],\n",
       "       [ 21,  22,  23,  24,  25,  26,  27,  28,  29,  30],\n",
       "       [ 31,  32,  33,  34,  35,  36,  37,  38,  39,  40],\n",
       "       [ 41,  42,  43,  44,  45,  46,  47,  48,  49,  50],\n",
       "       [ 51,  52,  53,  54,  55,  56,  57,  58,  59,  60],\n",
       "       [ 61,  62,  63,  64,  65,  66,  67,  68,  69,  70],\n",
       "       [ 71,  72,  73,  74,  75,  76,  77,  78,  79,  80],\n",
       "       [ 81,  82,  83,  84,  85,  86,  87,  88,  89,  90],\n",
       "       [ 91,  92,  93,  94,  95,  96,  97,  98,  99, 100]])"
      ]
     },
     "execution_count": 46,
     "metadata": {},
     "output_type": "execute_result"
    }
   ],
   "source": [
    "a"
   ]
  },
  {
   "cell_type": "code",
   "execution_count": 47,
   "id": "4410a353-c97b-44cd-9547-6bf0f00e36db",
   "metadata": {},
   "outputs": [
    {
     "data": {
      "text/plain": [
       "array([[False, False, False, False, False, False, False, False, False,\n",
       "        False],\n",
       "       [False, False, False, False, False, False, False, False, False,\n",
       "        False],\n",
       "       [False, False, False, False, False, False, False, False, False,\n",
       "        False],\n",
       "       [False, False, False, False, False, False, False, False, False,\n",
       "        False],\n",
       "       [False, False, False, False, False, False, False, False, False,\n",
       "        False],\n",
       "       [ True,  True,  True,  True,  True,  True,  True,  True,  True,\n",
       "         True],\n",
       "       [ True,  True,  True,  True,  True,  True,  True,  True,  True,\n",
       "         True],\n",
       "       [ True,  True,  True,  True,  True,  True,  True,  True,  True,\n",
       "         True],\n",
       "       [ True,  True,  True,  True,  True,  True,  True,  True,  True,\n",
       "         True],\n",
       "       [ True,  True,  True,  True,  True,  True,  True,  True,  True,\n",
       "         True]])"
      ]
     },
     "execution_count": 47,
     "metadata": {},
     "output_type": "execute_result"
    }
   ],
   "source": [
    "a>50"
   ]
  },
  {
   "cell_type": "code",
   "execution_count": 48,
   "id": "746cfff7-dd39-49b9-a41f-afe5356be7af",
   "metadata": {},
   "outputs": [
    {
     "data": {
      "text/plain": [
       "array([ 51,  52,  53,  54,  55,  56,  57,  58,  59,  60,  61,  62,  63,\n",
       "        64,  65,  66,  67,  68,  69,  70,  71,  72,  73,  74,  75,  76,\n",
       "        77,  78,  79,  80,  81,  82,  83,  84,  85,  86,  87,  88,  89,\n",
       "        90,  91,  92,  93,  94,  95,  96,  97,  98,  99, 100])"
      ]
     },
     "execution_count": 48,
     "metadata": {},
     "output_type": "execute_result"
    }
   ],
   "source": [
    "a[a>50]"
   ]
  },
  {
   "cell_type": "code",
   "execution_count": 49,
   "id": "30a15530-16d1-41ef-9e74-322bde417359",
   "metadata": {},
   "outputs": [
    {
     "data": {
      "text/plain": [
       "array([ 1,  2,  3,  4,  5,  6,  7,  8,  9, 10, 11, 12, 13, 14, 15, 16, 17,\n",
       "       18, 19, 20, 21, 22, 23, 24, 25, 26, 27, 28, 29, 30, 31, 32, 33, 34,\n",
       "       35, 36, 37, 38, 39, 40, 41, 42, 43, 44, 45, 46, 47, 48, 49])"
      ]
     },
     "execution_count": 49,
     "metadata": {},
     "output_type": "execute_result"
    }
   ],
   "source": [
    "a[a<50]"
   ]
  }
 ],
 "metadata": {
  "kernelspec": {
   "display_name": "Python 3 (ipykernel)",
   "language": "python",
   "name": "python3"
  },
  "language_info": {
   "codemirror_mode": {
    "name": "ipython",
    "version": 3
   },
   "file_extension": ".py",
   "mimetype": "text/x-python",
   "name": "python",
   "nbconvert_exporter": "python",
   "pygments_lexer": "ipython3",
   "version": "3.12.7"
  }
 },
 "nbformat": 4,
 "nbformat_minor": 5
}
