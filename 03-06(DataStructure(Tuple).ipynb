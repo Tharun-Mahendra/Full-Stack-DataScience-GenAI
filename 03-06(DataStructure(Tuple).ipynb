{
 "cells": [
  {
   "cell_type": "markdown",
   "id": "cbeafe0a-5401-44cc-8564-5d3265ae0788",
   "metadata": {},
   "source": [
    "# Tuple"
   ]
  },
  {
   "cell_type": "code",
   "execution_count": 1,
   "id": "ef603e88-5b86-4b2d-9a8d-623d6f1e06f6",
   "metadata": {},
   "outputs": [
    {
     "data": {
      "text/plain": [
       "()"
      ]
     },
     "execution_count": 1,
     "metadata": {},
     "output_type": "execute_result"
    }
   ],
   "source": [
    "t=() #empty tuple\n",
    "t"
   ]
  },
  {
   "cell_type": "code",
   "execution_count": 2,
   "id": "d52398c9-df0e-4abd-8fd5-bd59466b6baf",
   "metadata": {},
   "outputs": [
    {
     "data": {
      "text/plain": [
       "tuple"
      ]
     },
     "execution_count": 2,
     "metadata": {},
     "output_type": "execute_result"
    }
   ],
   "source": [
    "type(t)"
   ]
  },
  {
   "cell_type": "code",
   "execution_count": 3,
   "id": "b2b19522-10e5-4315-ab79-7600d5a92dec",
   "metadata": {},
   "outputs": [
    {
     "data": {
      "text/plain": [
       "(10, 20, 30, 40, 50, 10)"
      ]
     },
     "execution_count": 3,
     "metadata": {},
     "output_type": "execute_result"
    }
   ],
   "source": [
    "t1=(10,20,30,40,50,10) #can have Repeated values\n",
    "t1"
   ]
  },
  {
   "cell_type": "code",
   "execution_count": 4,
   "id": "ab9fd273-d3b4-4efc-a9ad-a4e572966c36",
   "metadata": {},
   "outputs": [
    {
     "data": {
      "text/plain": [
       "(100, 3.45, 'str', True, (1+2j))"
      ]
     },
     "execution_count": 4,
     "metadata": {},
     "output_type": "execute_result"
    }
   ],
   "source": [
    "t2=(100,3.45,'str',True,1+2j) #Multiple datatypes are allowed\n",
    "t2"
   ]
  },
  {
   "cell_type": "code",
   "execution_count": 5,
   "id": "c6ce4ba3-1d6a-4510-9325-bcbe1590d67a",
   "metadata": {},
   "outputs": [
    {
     "data": {
      "text/plain": [
       "((1, 2, 3), [8, 1, 4, 9], ('str', 'abc'))"
      ]
     },
     "execution_count": 5,
     "metadata": {},
     "output_type": "execute_result"
    }
   ],
   "source": [
    "t3=((1,2,3),[8,1,4,9],('str','abc')) #Nested Tuple\n",
    "t3"
   ]
  },
  {
   "cell_type": "code",
   "execution_count": 6,
   "id": "6f71a11a-745f-4ab5-9336-3bc0a50cdbfc",
   "metadata": {},
   "outputs": [
    {
     "data": {
      "text/plain": [
       "tuple"
      ]
     },
     "execution_count": 6,
     "metadata": {},
     "output_type": "execute_result"
    }
   ],
   "source": [
    "type(t3)"
   ]
  },
  {
   "cell_type": "code",
   "execution_count": 7,
   "id": "d0dea3b6-e8d2-40be-b579-8cc784683e30",
   "metadata": {},
   "outputs": [
    {
     "data": {
      "text/plain": [
       "6"
      ]
     },
     "execution_count": 7,
     "metadata": {},
     "output_type": "execute_result"
    }
   ],
   "source": [
    "len(t1) #length"
   ]
  },
  {
   "cell_type": "markdown",
   "id": "6ac8ad08-f04e-462c-a4fd-6be0d5e2244b",
   "metadata": {},
   "source": [
    "#### count()"
   ]
  },
  {
   "cell_type": "code",
   "execution_count": 8,
   "id": "a5977dca-66f5-4743-8d7f-e89d2a29b207",
   "metadata": {},
   "outputs": [
    {
     "data": {
      "text/plain": [
       "2"
      ]
     },
     "execution_count": 8,
     "metadata": {},
     "output_type": "execute_result"
    }
   ],
   "source": [
    "t1.count(10) #no.of times the element contained "
   ]
  },
  {
   "cell_type": "code",
   "execution_count": 9,
   "id": "7b687310-bfda-4692-9fed-1cddf5b568de",
   "metadata": {},
   "outputs": [
    {
     "data": {
      "text/plain": [
       "(10, 20, 30, 40, 50, 10)"
      ]
     },
     "execution_count": 9,
     "metadata": {},
     "output_type": "execute_result"
    }
   ],
   "source": [
    "t1"
   ]
  },
  {
   "cell_type": "markdown",
   "id": "9dd2fb84-6a94-44e5-8222-57063a849b35",
   "metadata": {},
   "source": [
    "#### index()"
   ]
  },
  {
   "cell_type": "code",
   "execution_count": 10,
   "id": "5a746a67-1b72-4cd4-9e55-ce095961136e",
   "metadata": {},
   "outputs": [
    {
     "data": {
      "text/plain": [
       "3"
      ]
     },
     "execution_count": 10,
     "metadata": {},
     "output_type": "execute_result"
    }
   ],
   "source": [
    "t1.index(40) #returns index value"
   ]
  },
  {
   "cell_type": "code",
   "execution_count": 11,
   "id": "7861b92b-83ee-4c3e-8c8d-cd3b4173c5e8",
   "metadata": {},
   "outputs": [
    {
     "data": {
      "text/plain": [
       "(10, 20, 30, 40, 50, 10)"
      ]
     },
     "execution_count": 11,
     "metadata": {},
     "output_type": "execute_result"
    }
   ],
   "source": [
    "t1"
   ]
  },
  {
   "cell_type": "code",
   "execution_count": 12,
   "id": "188b1e20-7d65-4a20-99aa-6d75bc7ca59f",
   "metadata": {},
   "outputs": [
    {
     "data": {
      "text/plain": [
       "10"
      ]
     },
     "execution_count": 12,
     "metadata": {},
     "output_type": "execute_result"
    }
   ],
   "source": [
    "t1[0] #indexing"
   ]
  },
  {
   "cell_type": "code",
   "execution_count": 13,
   "id": "0515ec82-f49a-48e2-b108-7d39c2585b1e",
   "metadata": {},
   "outputs": [
    {
     "data": {
      "text/plain": [
       "40"
      ]
     },
     "execution_count": 13,
     "metadata": {},
     "output_type": "execute_result"
    }
   ],
   "source": [
    "t1[3]"
   ]
  },
  {
   "cell_type": "markdown",
   "id": "7a7834bf-95ae-4995-891a-a7623b970582",
   "metadata": {},
   "source": [
    "## Tuple is Immutable"
   ]
  },
  {
   "cell_type": "code",
   "execution_count": 14,
   "id": "13eb3ae7-5582-44bc-97ef-f609a9c5d079",
   "metadata": {},
   "outputs": [
    {
     "data": {
      "text/plain": [
       "20"
      ]
     },
     "execution_count": 14,
     "metadata": {},
     "output_type": "execute_result"
    }
   ],
   "source": [
    "t1[1]"
   ]
  },
  {
   "cell_type": "code",
   "execution_count": 15,
   "id": "157bbfeb-7c26-4839-a275-9575a818e9fe",
   "metadata": {},
   "outputs": [
    {
     "ename": "TypeError",
     "evalue": "'tuple' object does not support item assignment",
     "output_type": "error",
     "traceback": [
      "\u001b[1;31m---------------------------------------------------------------------------\u001b[0m",
      "\u001b[1;31mTypeError\u001b[0m                                 Traceback (most recent call last)",
      "Cell \u001b[1;32mIn[15], line 1\u001b[0m\n\u001b[1;32m----> 1\u001b[0m t1[\u001b[38;5;241m1\u001b[39m]\u001b[38;5;241m=\u001b[39m\u001b[38;5;241m1000\u001b[39m\n",
      "\u001b[1;31mTypeError\u001b[0m: 'tuple' object does not support item assignment"
     ]
    }
   ],
   "source": [
    "t1[1]=1000  #we cant assign/change the value"
   ]
  },
  {
   "cell_type": "code",
   "execution_count": 16,
   "id": "ae24ae70-b1c9-4a18-b47c-215159105a74",
   "metadata": {},
   "outputs": [
    {
     "data": {
      "text/plain": [
       "(254816291860, 'niz481397', '04/04/2000', 184269)"
      ]
     },
     "execution_count": 16,
     "metadata": {},
     "output_type": "execute_result"
    }
   ],
   "source": [
    "sbi=(254816291860,'niz481397','04/04/2000',184269)\n",
    "sbi"
   ]
  },
  {
   "cell_type": "code",
   "execution_count": 17,
   "id": "270b381e-73e6-458f-9c59-13490ec8904e",
   "metadata": {},
   "outputs": [
    {
     "ename": "TypeError",
     "evalue": "'tuple' object does not support item assignment",
     "output_type": "error",
     "traceback": [
      "\u001b[1;31m---------------------------------------------------------------------------\u001b[0m",
      "\u001b[1;31mTypeError\u001b[0m                                 Traceback (most recent call last)",
      "Cell \u001b[1;32mIn[17], line 1\u001b[0m\n\u001b[1;32m----> 1\u001b[0m sbi[\u001b[38;5;241m0\u001b[39m]\u001b[38;5;241m=\u001b[39m\u001b[38;5;241m151438231846\u001b[39m\n",
      "\u001b[1;31mTypeError\u001b[0m: 'tuple' object does not support item assignment"
     ]
    }
   ],
   "source": [
    "sbi[0]=151438231846"
   ]
  },
  {
   "cell_type": "code",
   "execution_count": 18,
   "id": "cb94877a-bde2-4638-b42c-11aa71e7a22d",
   "metadata": {},
   "outputs": [
    {
     "ename": "TypeError",
     "evalue": "'tuple' object doesn't support item deletion",
     "output_type": "error",
     "traceback": [
      "\u001b[1;31m---------------------------------------------------------------------------\u001b[0m",
      "\u001b[1;31mTypeError\u001b[0m                                 Traceback (most recent call last)",
      "Cell \u001b[1;32mIn[18], line 1\u001b[0m\n\u001b[1;32m----> 1\u001b[0m \u001b[38;5;28;01mdel\u001b[39;00m sbi[\u001b[38;5;241m0\u001b[39m]\n",
      "\u001b[1;31mTypeError\u001b[0m: 'tuple' object doesn't support item deletion"
     ]
    }
   ],
   "source": [
    "del sbi[0]"
   ]
  },
  {
   "cell_type": "markdown",
   "id": "51497c6c-1d52-4405-b643-faf1875738ac",
   "metadata": {},
   "source": [
    "##### Concatenate on tuple"
   ]
  },
  {
   "cell_type": "code",
   "execution_count": 19,
   "id": "ccbdd3e8-8b0e-45c1-914c-cae187cb3533",
   "metadata": {},
   "outputs": [
    {
     "data": {
      "text/plain": [
       "(10, 20, 30, 40, 50, 10)"
      ]
     },
     "execution_count": 19,
     "metadata": {},
     "output_type": "execute_result"
    }
   ],
   "source": [
    "t1"
   ]
  },
  {
   "cell_type": "code",
   "execution_count": 20,
   "id": "ce67115c-bf8a-4eb7-a536-d1fea1226dab",
   "metadata": {},
   "outputs": [
    {
     "data": {
      "text/plain": [
       "(10, 20, 30, 40, 50, 10, 10, 20, 30, 40, 50, 10, 10, 20, 30, 40, 50, 10)"
      ]
     },
     "execution_count": 20,
     "metadata": {},
     "output_type": "execute_result"
    }
   ],
   "source": [
    "t4=t1*3\n",
    "t4"
   ]
  },
  {
   "cell_type": "code",
   "execution_count": 21,
   "id": "67a85b98-5624-4450-95f5-4c80d9a8f144",
   "metadata": {},
   "outputs": [
    {
     "ename": "TypeError",
     "evalue": "can only concatenate tuple (not \"int\") to tuple",
     "output_type": "error",
     "traceback": [
      "\u001b[1;31m---------------------------------------------------------------------------\u001b[0m",
      "\u001b[1;31mTypeError\u001b[0m                                 Traceback (most recent call last)",
      "Cell \u001b[1;32mIn[21], line 1\u001b[0m\n\u001b[1;32m----> 1\u001b[0m t5\u001b[38;5;241m=\u001b[39mt1\u001b[38;5;241m+\u001b[39m\u001b[38;5;241m2\u001b[39m\n",
      "\u001b[1;31mTypeError\u001b[0m: can only concatenate tuple (not \"int\") to tuple"
     ]
    }
   ],
   "source": [
    "t5=t1+2"
   ]
  },
  {
   "cell_type": "markdown",
   "id": "882c8cd7-4873-4bcb-9d5f-d20fc868efb9",
   "metadata": {},
   "source": [
    "### Slicing"
   ]
  },
  {
   "cell_type": "code",
   "execution_count": 22,
   "id": "f76511ce-28b3-4a6c-9b9b-9f6b445ba7b5",
   "metadata": {},
   "outputs": [
    {
     "data": {
      "text/plain": [
       "(10, 20, 30, 40, 50, 10)"
      ]
     },
     "execution_count": 22,
     "metadata": {},
     "output_type": "execute_result"
    }
   ],
   "source": [
    "t1[:]"
   ]
  },
  {
   "cell_type": "code",
   "execution_count": 23,
   "id": "c1f08721-d52a-4c42-811c-2ce631b6265c",
   "metadata": {},
   "outputs": [
    {
     "data": {
      "text/plain": [
       "(40, 50, 10)"
      ]
     },
     "execution_count": 23,
     "metadata": {},
     "output_type": "execute_result"
    }
   ],
   "source": [
    "t1[3:]"
   ]
  },
  {
   "cell_type": "code",
   "execution_count": 24,
   "id": "02f27729-790d-4b68-ac6b-93acf9e4acce",
   "metadata": {},
   "outputs": [
    {
     "data": {
      "text/plain": [
       "(10, 20, 30, 40)"
      ]
     },
     "execution_count": 24,
     "metadata": {},
     "output_type": "execute_result"
    }
   ],
   "source": [
    "t1[:4]"
   ]
  },
  {
   "cell_type": "code",
   "execution_count": 25,
   "id": "70ff7092-0f33-4f93-88ac-54c37844f79f",
   "metadata": {},
   "outputs": [
    {
     "data": {
      "text/plain": [
       "(10, 30, 50)"
      ]
     },
     "execution_count": 25,
     "metadata": {},
     "output_type": "execute_result"
    }
   ],
   "source": [
    "t1[::2]"
   ]
  },
  {
   "cell_type": "markdown",
   "id": "2450b8e9-2d64-454a-b124-67b38414cd51",
   "metadata": {},
   "source": [
    "#### Loop through Tuple"
   ]
  },
  {
   "cell_type": "code",
   "execution_count": 26,
   "id": "e5a915d2-e2f4-45fe-8369-ce89c62b548d",
   "metadata": {},
   "outputs": [
    {
     "data": {
      "text/plain": [
       "(10, 20, 30, 40, 50, 10)"
      ]
     },
     "execution_count": 26,
     "metadata": {},
     "output_type": "execute_result"
    }
   ],
   "source": [
    "t1"
   ]
  },
  {
   "cell_type": "code",
   "execution_count": 27,
   "id": "bfa25bfd-ed51-4382-97b8-169943a3e2e6",
   "metadata": {},
   "outputs": [
    {
     "name": "stdout",
     "output_type": "stream",
     "text": [
      "10\n",
      "20\n",
      "30\n",
      "40\n",
      "50\n",
      "10\n"
     ]
    }
   ],
   "source": [
    "for i in t1:\n",
    "    print(i)"
   ]
  },
  {
   "cell_type": "code",
   "execution_count": 28,
   "id": "5fd8fb95-1bc9-4a28-b690-b4aa79ef8189",
   "metadata": {},
   "outputs": [
    {
     "data": {
      "text/plain": [
       "((1, 2, 3), [8, 1, 4, 9], ('str', 'abc'))"
      ]
     },
     "execution_count": 28,
     "metadata": {},
     "output_type": "execute_result"
    }
   ],
   "source": [
    "t3"
   ]
  },
  {
   "cell_type": "code",
   "execution_count": 29,
   "id": "41f4ee46-74ba-4360-b802-f334f01b1b0f",
   "metadata": {},
   "outputs": [
    {
     "name": "stdout",
     "output_type": "stream",
     "text": [
      "(0, (1, 2, 3))\n",
      "(1, [8, 1, 4, 9])\n",
      "(2, ('str', 'abc'))\n"
     ]
    }
   ],
   "source": [
    "for i in enumerate(t3):\n",
    "    print(i)"
   ]
  },
  {
   "cell_type": "markdown",
   "id": "33aeb5c6-f714-4543-9fba-281ebddca7bd",
   "metadata": {},
   "source": [
    "#### Tuple Membership"
   ]
  },
  {
   "cell_type": "code",
   "execution_count": 30,
   "id": "46f7a1c7-b3b4-462c-af61-a46707b45470",
   "metadata": {},
   "outputs": [
    {
     "data": {
      "text/plain": [
       "(10, 20, 30, 40, 50, 10)"
      ]
     },
     "execution_count": 30,
     "metadata": {},
     "output_type": "execute_result"
    }
   ],
   "source": [
    "t1"
   ]
  },
  {
   "cell_type": "code",
   "execution_count": 31,
   "id": "8d94085e-de18-42e3-aa9e-82e197d0c5e5",
   "metadata": {},
   "outputs": [
    {
     "data": {
      "text/plain": [
       "True"
      ]
     },
     "execution_count": 31,
     "metadata": {},
     "output_type": "execute_result"
    }
   ],
   "source": [
    "10 in t1"
   ]
  },
  {
   "cell_type": "code",
   "execution_count": 32,
   "id": "91cf8eb7-0970-48cc-8f38-274fcd1142d3",
   "metadata": {},
   "outputs": [
    {
     "data": {
      "text/plain": [
       "False"
      ]
     },
     "execution_count": 32,
     "metadata": {},
     "output_type": "execute_result"
    }
   ],
   "source": [
    "155 in t1"
   ]
  },
  {
   "cell_type": "code",
   "execution_count": 33,
   "id": "ebaed317-87aa-4fde-b8f1-d3ec81fd21a1",
   "metadata": {},
   "outputs": [
    {
     "data": {
      "text/plain": [
       "(100, 3.45, 'str', True, (1+2j))"
      ]
     },
     "execution_count": 33,
     "metadata": {},
     "output_type": "execute_result"
    }
   ],
   "source": [
    "t2"
   ]
  },
  {
   "cell_type": "code",
   "execution_count": 34,
   "id": "8a9faabb-3ece-443a-a548-06aa54b1e2c2",
   "metadata": {},
   "outputs": [
    {
     "data": {
      "text/plain": [
       "True"
      ]
     },
     "execution_count": 34,
     "metadata": {},
     "output_type": "execute_result"
    }
   ],
   "source": [
    "'str' in t2"
   ]
  },
  {
   "cell_type": "markdown",
   "id": "7c7e55f4-ebe0-41f0-9089-4ff2994bf2ed",
   "metadata": {},
   "source": [
    "### Sorting"
   ]
  },
  {
   "cell_type": "code",
   "execution_count": 35,
   "id": "c177ef4d-762b-45e9-b641-5e658bf29bce",
   "metadata": {},
   "outputs": [
    {
     "data": {
      "text/plain": [
       "(10, 20, 30, 40, 50, 10, 10, 20, 30, 40, 50, 10, 10, 20, 30, 40, 50, 10)"
      ]
     },
     "execution_count": 35,
     "metadata": {},
     "output_type": "execute_result"
    }
   ],
   "source": [
    "t4 #there is no tuple inbuilt function to sort so we use sorted()"
   ]
  },
  {
   "cell_type": "code",
   "execution_count": 36,
   "id": "f48919a4-f6c2-44fc-87b0-8ba514f967b1",
   "metadata": {},
   "outputs": [
    {
     "data": {
      "text/plain": [
       "[10, 10, 10, 10, 10, 10, 20, 20, 20, 30, 30, 30, 40, 40, 40, 50, 50, 50]"
      ]
     },
     "execution_count": 36,
     "metadata": {},
     "output_type": "execute_result"
    }
   ],
   "source": [
    "sorted(t4) #gives output in list"
   ]
  }
 ],
 "metadata": {
  "kernelspec": {
   "display_name": "Python 3 (ipykernel)",
   "language": "python",
   "name": "python3"
  },
  "language_info": {
   "codemirror_mode": {
    "name": "ipython",
    "version": 3
   },
   "file_extension": ".py",
   "mimetype": "text/x-python",
   "name": "python",
   "nbconvert_exporter": "python",
   "pygments_lexer": "ipython3",
   "version": "3.12.7"
  }
 },
 "nbformat": 4,
 "nbformat_minor": 5
}
