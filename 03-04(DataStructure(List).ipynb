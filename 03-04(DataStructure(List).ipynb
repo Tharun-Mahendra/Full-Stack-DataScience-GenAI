{
 "cells": [
  {
   "cell_type": "code",
   "execution_count": 1,
   "id": "a3f60b4d-ab27-496a-b32f-927105dfde1f",
   "metadata": {},
   "outputs": [],
   "source": [
    "l=[10,20,30,40,50]"
   ]
  },
  {
   "cell_type": "code",
   "execution_count": 2,
   "id": "e5e64d26-b725-4cca-80ae-5d8623cd1480",
   "metadata": {},
   "outputs": [],
   "source": [
    "l1=[10,20,30,40,50.5,'hi',1+2j,True]"
   ]
  },
  {
   "cell_type": "code",
   "execution_count": 3,
   "id": "b033fb63-9284-468e-a0d6-1ad831abcf1f",
   "metadata": {},
   "outputs": [
    {
     "name": "stdout",
     "output_type": "stream",
     "text": [
      "5\n",
      "8\n"
     ]
    }
   ],
   "source": [
    "print(len(l))\n",
    "print(len(l1))"
   ]
  },
  {
   "cell_type": "code",
   "execution_count": 4,
   "id": "68a8ce3f-efa5-4b03-8120-819c21b3c2bf",
   "metadata": {},
   "outputs": [
    {
     "name": "stdout",
     "output_type": "stream",
     "text": [
      "10\n",
      "20\n",
      "30\n",
      "40\n",
      "50.5\n",
      "hi\n",
      "(1+2j)\n",
      "True\n"
     ]
    }
   ],
   "source": [
    "for i in l1:\n",
    "    print(i)"
   ]
  },
  {
   "cell_type": "markdown",
   "id": "84bca87e-7652-4bdd-9cc8-1f2e6302c52d",
   "metadata": {},
   "source": [
    "#### NestedList"
   ]
  },
  {
   "cell_type": "code",
   "execution_count": 5,
   "id": "96af6ab4-1335-4443-9fc3-8f1651ca3628",
   "metadata": {},
   "outputs": [
    {
     "data": {
      "text/plain": [
       "[10, 20, 30, 40, 50, [90, 54, 6, 7.5, 'hi']]"
      ]
     },
     "execution_count": 5,
     "metadata": {},
     "output_type": "execute_result"
    }
   ],
   "source": [
    "l.append([90,54,6,7.5,'hi'])\n",
    "l"
   ]
  },
  {
   "cell_type": "markdown",
   "id": "210cc6e6-37c8-441c-b0de-7341525823ba",
   "metadata": {},
   "source": [
    "#### remove()"
   ]
  },
  {
   "cell_type": "code",
   "execution_count": 6,
   "id": "f7f8a34f-039c-4073-9d39-b80e780ae3ac",
   "metadata": {},
   "outputs": [
    {
     "data": {
      "text/plain": [
       "[10, 20, 30, 40, [90, 54, 6, 7.5, 'hi']]"
      ]
     },
     "execution_count": 6,
     "metadata": {},
     "output_type": "execute_result"
    }
   ],
   "source": [
    "l.remove(50) #Remove first occurrence of value.\n",
    "l"
   ]
  },
  {
   "cell_type": "markdown",
   "id": "534f8145-e184-4e51-b402-b819f9cdb2b1",
   "metadata": {},
   "source": [
    "#### pop()"
   ]
  },
  {
   "cell_type": "code",
   "execution_count": 7,
   "id": "f43d7c91-b3a7-49b6-85a7-c09c4951c8f7",
   "metadata": {},
   "outputs": [
    {
     "data": {
      "text/plain": [
       "[90, 54, 6, 7.5, 'hi']"
      ]
     },
     "execution_count": 7,
     "metadata": {},
     "output_type": "execute_result"
    }
   ],
   "source": [
    "l.pop() #Remove and return item at index (default last)."
   ]
  },
  {
   "cell_type": "code",
   "execution_count": 8,
   "id": "2d278753-0604-48c3-bda4-2bc7c1e2ae90",
   "metadata": {},
   "outputs": [
    {
     "data": {
      "text/plain": [
       "[10, 20, 30, 40]"
      ]
     },
     "execution_count": 8,
     "metadata": {},
     "output_type": "execute_result"
    }
   ],
   "source": [
    "l"
   ]
  },
  {
   "cell_type": "code",
   "execution_count": 9,
   "id": "8f753b68-1524-49a2-b5f2-46d7e7240a85",
   "metadata": {},
   "outputs": [
    {
     "data": {
      "text/plain": [
       "[10, 20, 30, 40, 50.5, 'hi', (1+2j), True]"
      ]
     },
     "execution_count": 9,
     "metadata": {},
     "output_type": "execute_result"
    }
   ],
   "source": [
    "l1"
   ]
  },
  {
   "cell_type": "code",
   "execution_count": 10,
   "id": "1bcf05f5-fabb-437a-b7f7-471dbeafe928",
   "metadata": {},
   "outputs": [
    {
     "data": {
      "text/plain": [
       "30"
      ]
     },
     "execution_count": 10,
     "metadata": {},
     "output_type": "execute_result"
    }
   ],
   "source": [
    "l1.pop(2) #At index 2"
   ]
  },
  {
   "cell_type": "code",
   "execution_count": 11,
   "id": "21f91da0-5a50-43e3-acac-51fa1c29b091",
   "metadata": {},
   "outputs": [
    {
     "data": {
      "text/plain": [
       "[10, 20, 40, 50.5, 'hi', (1+2j), True]"
      ]
     },
     "execution_count": 11,
     "metadata": {},
     "output_type": "execute_result"
    }
   ],
   "source": [
    "l1"
   ]
  },
  {
   "cell_type": "markdown",
   "id": "504ee2ab-daf7-4d27-b556-3e8f83e9e14b",
   "metadata": {},
   "source": [
    "#### insert()"
   ]
  },
  {
   "cell_type": "code",
   "execution_count": 12,
   "id": "49973300-4d13-431f-a21f-2744073f8f45",
   "metadata": {},
   "outputs": [
    {
     "data": {
      "text/plain": [
       "[10, 20, 30, 40]"
      ]
     },
     "execution_count": 12,
     "metadata": {},
     "output_type": "execute_result"
    }
   ],
   "source": [
    "l"
   ]
  },
  {
   "cell_type": "code",
   "execution_count": 13,
   "id": "d1e0717f-3fca-4c40-9e2b-592c391bfa1b",
   "metadata": {},
   "outputs": [],
   "source": [
    "l.insert(3,35) #Insert object before index.\n",
    "#l.insert(index, object, /)"
   ]
  },
  {
   "cell_type": "code",
   "execution_count": 14,
   "id": "4b80a7c4-e2e6-42c9-b0b6-7a294e740207",
   "metadata": {},
   "outputs": [
    {
     "data": {
      "text/plain": [
       "[10, 20, 30, 35, 40]"
      ]
     },
     "execution_count": 14,
     "metadata": {},
     "output_type": "execute_result"
    }
   ],
   "source": [
    "l"
   ]
  },
  {
   "cell_type": "markdown",
   "id": "14f78b19-7939-415e-a8d2-e61eb82c8ad3",
   "metadata": {},
   "source": [
    "#### extend()"
   ]
  },
  {
   "cell_type": "code",
   "execution_count": 15,
   "id": "aa35849b-1e6a-4aed-9489-0e2796320151",
   "metadata": {},
   "outputs": [
    {
     "name": "stdout",
     "output_type": "stream",
     "text": [
      "[10, 20, 30, 35, 40]\n",
      "[10, 20, 40, 50.5, 'hi', (1+2j), True]\n"
     ]
    }
   ],
   "source": [
    "print(l)\n",
    "print(l1)"
   ]
  },
  {
   "cell_type": "code",
   "execution_count": 16,
   "id": "741cec81-a9e4-4911-ac57-c87ca5887d7d",
   "metadata": {},
   "outputs": [
    {
     "data": {
      "text/plain": [
       "[10, 20, 30, 35, 40, 10, 20, 40, 50.5, 'hi', (1+2j), True]"
      ]
     },
     "execution_count": 16,
     "metadata": {},
     "output_type": "execute_result"
    }
   ],
   "source": [
    "l.extend(l1) #Extend list by appending elements from the iterable.\n",
    "l"
   ]
  },
  {
   "cell_type": "markdown",
   "id": "9bb43ead-69ce-4fe0-b450-7c6ce0741621",
   "metadata": {},
   "source": [
    "#### index()"
   ]
  },
  {
   "cell_type": "code",
   "execution_count": 17,
   "id": "f81d55f9-17f9-40fc-b524-5aece637f604",
   "metadata": {},
   "outputs": [
    {
     "data": {
      "text/plain": [
       "4"
      ]
     },
     "execution_count": 17,
     "metadata": {},
     "output_type": "execute_result"
    }
   ],
   "source": [
    "l.index(40) #Return first index of value."
   ]
  },
  {
   "cell_type": "markdown",
   "id": "af975273-ad35-4a8a-8eee-f6bab26d3c26",
   "metadata": {},
   "source": [
    "#### reverse()"
   ]
  },
  {
   "cell_type": "code",
   "execution_count": 18,
   "id": "e929400b-1955-4c22-a383-b6e8e2cd0389",
   "metadata": {},
   "outputs": [],
   "source": [
    "l.reverse() \n"
   ]
  },
  {
   "cell_type": "code",
   "execution_count": 19,
   "id": "c308d130-6c3c-487a-93ba-24ce51e225f8",
   "metadata": {},
   "outputs": [
    {
     "data": {
      "text/plain": [
       "[True, (1+2j), 'hi', 50.5, 40, 20, 10, 40, 35, 30, 20, 10]"
      ]
     },
     "execution_count": 19,
     "metadata": {},
     "output_type": "execute_result"
    }
   ],
   "source": [
    "l"
   ]
  },
  {
   "cell_type": "markdown",
   "id": "6bdde36d-4bc6-41a0-8571-36bdfb48bb02",
   "metadata": {},
   "source": [
    "#### sort()"
   ]
  },
  {
   "cell_type": "code",
   "execution_count": 20,
   "id": "f91d8976-1c6e-4975-a041-e42b85a4d840",
   "metadata": {},
   "outputs": [],
   "source": [
    "l2=[10,8,4,7,6,51,1.89,7,50,2]"
   ]
  },
  {
   "cell_type": "code",
   "execution_count": 21,
   "id": "70c83983-7f55-4808-b870-ffd358b05cbd",
   "metadata": {},
   "outputs": [
    {
     "data": {
      "text/plain": [
       "[1.89, 2, 4, 6, 7, 7, 8, 10, 50, 51]"
      ]
     },
     "execution_count": 21,
     "metadata": {},
     "output_type": "execute_result"
    }
   ],
   "source": [
    "l2.sort() #Ascending Order\n",
    "l2"
   ]
  },
  {
   "cell_type": "code",
   "execution_count": 22,
   "id": "48de834b-918e-4190-8b91-98c05c693cac",
   "metadata": {},
   "outputs": [
    {
     "data": {
      "text/plain": [
       "[51, 50, 10, 8, 7, 7, 6, 4, 2, 1.89]"
      ]
     },
     "execution_count": 22,
     "metadata": {},
     "output_type": "execute_result"
    }
   ],
   "source": [
    "l2.sort(reverse=True) #Descending Order\n",
    "l2"
   ]
  },
  {
   "cell_type": "code",
   "execution_count": 23,
   "id": "8ec91ef1-4752-48b1-bfd7-b4b1d174fe1e",
   "metadata": {},
   "outputs": [],
   "source": [
    "l4=['bahs','ascja','dcaf','srg','sgs','xfgrx']"
   ]
  },
  {
   "cell_type": "code",
   "execution_count": 24,
   "id": "ab7acd9d-6335-412a-aa7c-ee7cdd460145",
   "metadata": {},
   "outputs": [
    {
     "data": {
      "text/plain": [
       "['ascja', 'bahs', 'dcaf', 'sgs', 'srg', 'xfgrx']"
      ]
     },
     "execution_count": 24,
     "metadata": {},
     "output_type": "execute_result"
    }
   ],
   "source": [
    "l4.sort()\n",
    "l4"
   ]
  },
  {
   "cell_type": "markdown",
   "id": "95f3fc2a-85a7-40cc-a0e5-c3dc3c1b4a25",
   "metadata": {},
   "source": [
    "# Example"
   ]
  },
  {
   "cell_type": "code",
   "execution_count": 25,
   "id": "8f6e6539-9816-465d-9c0a-7fd9bebacd5a",
   "metadata": {},
   "outputs": [],
   "source": [
    "list=[]#EmptyList"
   ]
  },
  {
   "cell_type": "code",
   "execution_count": 27,
   "id": "ab726c0d-530a-40a5-ace7-0d736a261212",
   "metadata": {},
   "outputs": [
    {
     "data": {
      "text/plain": [
       "list"
      ]
     },
     "execution_count": 27,
     "metadata": {},
     "output_type": "execute_result"
    }
   ],
   "source": [
    "type(list)"
   ]
  },
  {
   "cell_type": "code",
   "execution_count": 28,
   "id": "5f0b74c7-5a47-4347-8bd0-e4759775fabb",
   "metadata": {},
   "outputs": [],
   "source": [
    "list1=[10,20,30,True,2+3j,'str'] #we can have any Datatype"
   ]
  },
  {
   "cell_type": "code",
   "execution_count": 29,
   "id": "9b469745-c524-4123-ba4a-425c850023f1",
   "metadata": {},
   "outputs": [
    {
     "data": {
      "text/plain": [
       "[10, 20, 30, True, (2+3j), 'str']"
      ]
     },
     "execution_count": 29,
     "metadata": {},
     "output_type": "execute_result"
    }
   ],
   "source": [
    "list1"
   ]
  },
  {
   "cell_type": "code",
   "execution_count": 30,
   "id": "ef20aeb3-7b20-486b-a926-ef17df29c581",
   "metadata": {},
   "outputs": [
    {
     "data": {
      "text/plain": [
       "[10, 20, 30, True, (2+3j), 'str', 50]"
      ]
     },
     "execution_count": 30,
     "metadata": {},
     "output_type": "execute_result"
    }
   ],
   "source": [
    "list1.append(50)    #to add extra element at end we can use append \n",
    "list1"
   ]
  },
  {
   "cell_type": "code",
   "execution_count": 31,
   "id": "fa3a627d-5753-48f6-9532-6b1221bdac94",
   "metadata": {},
   "outputs": [
    {
     "data": {
      "text/plain": [
       "[10, 20, 30, True, (2+3j), 'str', 50, [70, 80, 90]]"
      ]
     },
     "execution_count": 31,
     "metadata": {},
     "output_type": "execute_result"
    }
   ],
   "source": [
    "list1.append([70,80,90])   #to create nested list\n",
    "list1"
   ]
  },
  {
   "cell_type": "code",
   "execution_count": 32,
   "id": "29a7c7d8-88fd-4048-948d-b14667bd5827",
   "metadata": {},
   "outputs": [
    {
     "data": {
      "text/plain": [
       "[10, 20, 30, True, (2+3j), 'str', 50, [70, 80, 90]]"
      ]
     },
     "execution_count": 32,
     "metadata": {},
     "output_type": "execute_result"
    }
   ],
   "source": [
    "list2=list1.copy()   #to copy one list to another list\n",
    "list2"
   ]
  },
  {
   "cell_type": "code",
   "execution_count": 33,
   "id": "fb754218-1b8c-4c0e-9be5-149e7a34565a",
   "metadata": {},
   "outputs": [
    {
     "data": {
      "text/plain": [
       "[]"
      ]
     },
     "execution_count": 33,
     "metadata": {},
     "output_type": "execute_result"
    }
   ],
   "source": [
    "list2.clear()   #to clear the entire elements in the list\n",
    "list2"
   ]
  },
  {
   "cell_type": "code",
   "execution_count": 34,
   "id": "398ed2fe-a6c1-4e4c-8abd-af93f8e116e0",
   "metadata": {},
   "outputs": [
    {
     "data": {
      "text/plain": [
       "1"
      ]
     },
     "execution_count": 34,
     "metadata": {},
     "output_type": "execute_result"
    }
   ],
   "source": [
    "list1.count(50) #to count the no.of ocuurences"
   ]
  },
  {
   "cell_type": "code",
   "execution_count": 35,
   "id": "b63df9e8-0f0a-4b4e-9fdb-c3799a03f86b",
   "metadata": {},
   "outputs": [
    {
     "data": {
      "text/plain": [
       "[10, 20, 30, True, (2+3j), 'str', 50, [70, 80, 90]]"
      ]
     },
     "execution_count": 35,
     "metadata": {},
     "output_type": "execute_result"
    }
   ],
   "source": [
    "list2.extend(list1)  #to extend the list \n",
    "list2"
   ]
  },
  {
   "cell_type": "code",
   "execution_count": 36,
   "id": "eb86b3af-4a6b-4d9d-90c6-e5800be12d7b",
   "metadata": {},
   "outputs": [
    {
     "data": {
      "text/plain": [
       "6"
      ]
     },
     "execution_count": 36,
     "metadata": {},
     "output_type": "execute_result"
    }
   ],
   "source": [
    "list1.index(50) #to find the index of first occurenece of element "
   ]
  },
  {
   "cell_type": "code",
   "execution_count": 37,
   "id": "3e94ea2a-68c7-42ef-9f83-7766550617cf",
   "metadata": {},
   "outputs": [
    {
     "data": {
      "text/plain": [
       "[10, 20, 30, True, (2+3j), 'str', 100, 50, [70, 80, 90]]"
      ]
     },
     "execution_count": 37,
     "metadata": {},
     "output_type": "execute_result"
    }
   ],
   "source": [
    "list1.insert(6,100) #to insert element before the given index\n",
    "list1"
   ]
  },
  {
   "cell_type": "code",
   "execution_count": 38,
   "id": "55b40665-3d3c-4e63-8d5f-ab842b7efad8",
   "metadata": {},
   "outputs": [
    {
     "data": {
      "text/plain": [
       "[70, 80, 90]"
      ]
     },
     "execution_count": 38,
     "metadata": {},
     "output_type": "execute_result"
    }
   ],
   "source": [
    "list1.pop() #removes the element from list default last occurence"
   ]
  },
  {
   "cell_type": "code",
   "execution_count": 39,
   "id": "a5f9efc1-ce9e-4793-8311-e473e5108697",
   "metadata": {},
   "outputs": [
    {
     "data": {
      "text/plain": [
       "[10, 20, 30, True, (2+3j), 'str', 100, 50]"
      ]
     },
     "execution_count": 39,
     "metadata": {},
     "output_type": "execute_result"
    }
   ],
   "source": [
    "list1"
   ]
  },
  {
   "cell_type": "code",
   "execution_count": 40,
   "id": "0ba17204-23f1-4b4d-a042-89f0d531aad8",
   "metadata": {},
   "outputs": [
    {
     "data": {
      "text/plain": [
       "[10, 20, 30, True, (2+3j), 'str', 50]"
      ]
     },
     "execution_count": 40,
     "metadata": {},
     "output_type": "execute_result"
    }
   ],
   "source": [
    "list1.remove(100) #removes element at first occurence\n",
    "list1"
   ]
  },
  {
   "cell_type": "code",
   "execution_count": 41,
   "id": "151b8361-1d26-4b0b-8f8e-e5f457cd7858",
   "metadata": {},
   "outputs": [
    {
     "data": {
      "text/plain": [
       "[50, 'str', (2+3j), True, 30, 20, 10]"
      ]
     },
     "execution_count": 41,
     "metadata": {},
     "output_type": "execute_result"
    }
   ],
   "source": [
    "list1.reverse() #to reverse entire list\n",
    "list1"
   ]
  },
  {
   "cell_type": "code",
   "execution_count": 42,
   "id": "70320a3c-b32b-4101-85bb-1cb0d923dc6a",
   "metadata": {},
   "outputs": [
    {
     "ename": "TypeError",
     "evalue": "'<' not supported between instances of 'str' and 'int'",
     "output_type": "error",
     "traceback": [
      "\u001b[1;31m---------------------------------------------------------------------------\u001b[0m",
      "\u001b[1;31mTypeError\u001b[0m                                 Traceback (most recent call last)",
      "Cell \u001b[1;32mIn[42], line 1\u001b[0m\n\u001b[1;32m----> 1\u001b[0m list1\u001b[38;5;241m.\u001b[39msort()\n",
      "\u001b[1;31mTypeError\u001b[0m: '<' not supported between instances of 'str' and 'int'"
     ]
    }
   ],
   "source": [
    "list1.sort() #to sort the list"
   ]
  },
  {
   "cell_type": "code",
   "execution_count": 43,
   "id": "ac454d70-b03f-4974-967b-d69f79cfbb1f",
   "metadata": {},
   "outputs": [
    {
     "data": {
      "text/plain": [
       "[True, 10, 20, 30, 50]"
      ]
     },
     "execution_count": 43,
     "metadata": {},
     "output_type": "execute_result"
    }
   ],
   "source": [
    "list1.remove('str')\n",
    "list1.remove(2+3j)\n",
    "list1.sort()\n",
    "list1"
   ]
  }
 ],
 "metadata": {
  "kernelspec": {
   "display_name": "Python 3 (ipykernel)",
   "language": "python",
   "name": "python3"
  },
  "language_info": {
   "codemirror_mode": {
    "name": "ipython",
    "version": 3
   },
   "file_extension": ".py",
   "mimetype": "text/x-python",
   "name": "python",
   "nbconvert_exporter": "python",
   "pygments_lexer": "ipython3",
   "version": "3.12.7"
  }
 },
 "nbformat": 4,
 "nbformat_minor": 5
}
