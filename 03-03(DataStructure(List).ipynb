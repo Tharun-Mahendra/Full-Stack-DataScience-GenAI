{
 "cells": [
  {
   "cell_type": "markdown",
   "id": "1c05d8e9-efb1-4998-b3ad-339d2f4769b0",
   "metadata": {},
   "source": [
    "# DataStructures"
   ]
  },
  {
   "cell_type": "markdown",
   "id": "0ce9bb73-14dd-4ae9-816b-e1589bd8bdf2",
   "metadata": {},
   "source": [
    "### List"
   ]
  },
  {
   "cell_type": "code",
   "execution_count": 1,
   "id": "2c3e92d3-202e-4058-ae6e-5f0c6e2f1928",
   "metadata": {},
   "outputs": [
    {
     "data": {
      "text/plain": [
       "[]"
      ]
     },
     "execution_count": 1,
     "metadata": {},
     "output_type": "execute_result"
    }
   ],
   "source": [
    "l=[] #list elements will declared within SquareBrackets\n",
    "l"
   ]
  },
  {
   "cell_type": "code",
   "execution_count": 2,
   "id": "597bb6a6-526c-4094-a01b-01f32e473443",
   "metadata": {},
   "outputs": [
    {
     "data": {
      "text/plain": [
       "0"
      ]
     },
     "execution_count": 2,
     "metadata": {},
     "output_type": "execute_result"
    }
   ],
   "source": [
    "len(l) #length of list"
   ]
  },
  {
   "cell_type": "markdown",
   "id": "b25ada19-ebf3-4f5c-b61c-171ad819ff7a",
   "metadata": {},
   "source": [
    "#### append()"
   ]
  },
  {
   "cell_type": "code",
   "execution_count": 3,
   "id": "24a5fe34-b622-4848-ba81-f9535f6c8bc0",
   "metadata": {},
   "outputs": [
    {
     "data": {
      "text/plain": [
       "[10]"
      ]
     },
     "execution_count": 3,
     "metadata": {},
     "output_type": "execute_result"
    }
   ],
   "source": [
    "l.append(10) #to add element to list we use \"append\"\n",
    "l"
   ]
  },
  {
   "cell_type": "code",
   "execution_count": 4,
   "id": "7ee501e3-c371-4a37-853d-dd31d4ac17f7",
   "metadata": {},
   "outputs": [],
   "source": [
    "l.append(20) #at once we can append only one element \n",
    "l.append(30)\n",
    "l.append(40)\n",
    "l.append(50)"
   ]
  },
  {
   "cell_type": "code",
   "execution_count": 5,
   "id": "e310a80b-0c8f-46b2-b118-cc3b59b5393d",
   "metadata": {},
   "outputs": [
    {
     "name": "stdout",
     "output_type": "stream",
     "text": [
      "[10, 20, 30, 40, 50]\n",
      "5\n"
     ]
    }
   ],
   "source": [
    "print(l)\n",
    "print(len(l))"
   ]
  },
  {
   "cell_type": "markdown",
   "id": "b0197ae8-9565-48b7-85e4-9834b137ba2b",
   "metadata": {},
   "source": [
    "#### id()"
   ]
  },
  {
   "cell_type": "code",
   "execution_count": 6,
   "id": "93d3cafa-23ca-4884-a34d-b6cd43c41e3e",
   "metadata": {},
   "outputs": [
    {
     "data": {
      "text/plain": [
       "1793611257920"
      ]
     },
     "execution_count": 6,
     "metadata": {},
     "output_type": "execute_result"
    }
   ],
   "source": [
    "id(l) #adress of the list "
   ]
  },
  {
   "cell_type": "code",
   "execution_count": 7,
   "id": "bff70492-3dde-48f4-9e54-5b913882c272",
   "metadata": {},
   "outputs": [
    {
     "data": {
      "text/plain": [
       "list"
      ]
     },
     "execution_count": 7,
     "metadata": {},
     "output_type": "execute_result"
    }
   ],
   "source": [
    "type(l)"
   ]
  },
  {
   "cell_type": "code",
   "execution_count": 8,
   "id": "030a96c4-fb33-47a0-9eac-b7c8dbd299d7",
   "metadata": {},
   "outputs": [],
   "source": [
    "l.append(50)"
   ]
  },
  {
   "cell_type": "code",
   "execution_count": 9,
   "id": "31a93972-3f22-4902-8f83-757a2a9dab03",
   "metadata": {},
   "outputs": [
    {
     "data": {
      "text/plain": [
       "[10, 20, 30, 40, 50, 50]"
      ]
     },
     "execution_count": 9,
     "metadata": {},
     "output_type": "execute_result"
    }
   ],
   "source": [
    "l #duplicates are allowed"
   ]
  },
  {
   "cell_type": "markdown",
   "id": "a10736bd-5248-4888-a293-d2de36c69b67",
   "metadata": {},
   "source": [
    "#### list slicing"
   ]
  },
  {
   "cell_type": "code",
   "execution_count": 10,
   "id": "25284328-3595-4113-99c8-c9fa87b5c31b",
   "metadata": {},
   "outputs": [
    {
     "data": {
      "text/plain": [
       "[10, 20, 30, 40, 50, 50]"
      ]
     },
     "execution_count": 10,
     "metadata": {},
     "output_type": "execute_result"
    }
   ],
   "source": [
    "l[:]"
   ]
  },
  {
   "cell_type": "code",
   "execution_count": 11,
   "id": "d41fbffc-a67a-4f12-afa7-889d76ee4053",
   "metadata": {},
   "outputs": [
    {
     "data": {
      "text/plain": [
       "30"
      ]
     },
     "execution_count": 11,
     "metadata": {},
     "output_type": "execute_result"
    }
   ],
   "source": [
    "l[2] #forward slicing"
   ]
  },
  {
   "cell_type": "code",
   "execution_count": 12,
   "id": "d8535357-5ba9-4f37-9cf5-91c4b92e8586",
   "metadata": {},
   "outputs": [
    {
     "data": {
      "text/plain": [
       "50"
      ]
     },
     "execution_count": 12,
     "metadata": {},
     "output_type": "execute_result"
    }
   ],
   "source": [
    "l[-2] #backward slicing"
   ]
  },
  {
   "cell_type": "markdown",
   "id": "fbd96a1d-6a4e-4634-9153-27af30f47927",
   "metadata": {},
   "source": [
    "#### copy()"
   ]
  },
  {
   "cell_type": "code",
   "execution_count": 13,
   "id": "de8bbe38-a4a8-4da8-8fa1-bacdc664e93c",
   "metadata": {},
   "outputs": [
    {
     "data": {
      "text/plain": [
       "[10, 20, 30, 40, 50, 50]"
      ]
     },
     "execution_count": 13,
     "metadata": {},
     "output_type": "execute_result"
    }
   ],
   "source": [
    "l1=l.copy() #copying elements\n",
    "l1"
   ]
  },
  {
   "cell_type": "code",
   "execution_count": 14,
   "id": "de5bbef5-d982-4fbe-813d-c855cfa4c147",
   "metadata": {},
   "outputs": [
    {
     "data": {
      "text/plain": [
       "True"
      ]
     },
     "execution_count": 14,
     "metadata": {},
     "output_type": "execute_result"
    }
   ],
   "source": [
    "l1==l"
   ]
  },
  {
   "cell_type": "markdown",
   "id": "8588ba8c-5e98-49c5-a2c5-00d10528a90b",
   "metadata": {},
   "source": [
    "#### Accepted DataTypes"
   ]
  },
  {
   "cell_type": "code",
   "execution_count": 15,
   "id": "c24d94c5-c648-4885-8ffd-bc8e06eef89e",
   "metadata": {},
   "outputs": [],
   "source": [
    "l1.append(2.3) #we can add multiple datatypes\n",
    "l1.append(True)\n",
    "l1.append(1+2j)"
   ]
  },
  {
   "cell_type": "code",
   "execution_count": 16,
   "id": "cb4b8750-8de1-4a09-ab83-aec7000a62b8",
   "metadata": {},
   "outputs": [
    {
     "data": {
      "text/plain": [
       "[10, 20, 30, 40, 50, 50, 2.3, True, (1+2j)]"
      ]
     },
     "execution_count": 16,
     "metadata": {},
     "output_type": "execute_result"
    }
   ],
   "source": [
    "l1 #always the element adds at last in append"
   ]
  },
  {
   "cell_type": "markdown",
   "id": "0626f3dd-1e70-4e15-b5f2-b606200e0b82",
   "metadata": {},
   "source": [
    "#### count()"
   ]
  },
  {
   "cell_type": "code",
   "execution_count": 17,
   "id": "f2013e86-2d68-4490-a979-7ef60d502d21",
   "metadata": {},
   "outputs": [
    {
     "data": {
      "text/plain": [
       "1"
      ]
     },
     "execution_count": 17,
     "metadata": {},
     "output_type": "execute_result"
    }
   ],
   "source": [
    "l1.count(10) #counts the no.of ocuurences"
   ]
  },
  {
   "cell_type": "code",
   "execution_count": 18,
   "id": "b6ad564d-8852-4efd-be67-a92e133a91ae",
   "metadata": {},
   "outputs": [
    {
     "data": {
      "text/plain": [
       "2"
      ]
     },
     "execution_count": 18,
     "metadata": {},
     "output_type": "execute_result"
    }
   ],
   "source": [
    "l1.count(50)"
   ]
  },
  {
   "cell_type": "code",
   "execution_count": 19,
   "id": "6486c364-8d06-48e6-9334-f8d0ddf7f932",
   "metadata": {},
   "outputs": [
    {
     "data": {
      "text/plain": [
       "0"
      ]
     },
     "execution_count": 19,
     "metadata": {},
     "output_type": "execute_result"
    }
   ],
   "source": [
    "l1.count(100)"
   ]
  },
  {
   "cell_type": "markdown",
   "id": "f0d22c73-cf19-40ba-93f0-88058a062294",
   "metadata": {},
   "source": [
    "#### remove()"
   ]
  },
  {
   "cell_type": "code",
   "execution_count": 20,
   "id": "4cb958ea-a19d-44ba-aebd-d77d540aad3e",
   "metadata": {},
   "outputs": [],
   "source": [
    "l1.remove(50) #to remove the elements from the list"
   ]
  },
  {
   "cell_type": "code",
   "execution_count": 21,
   "id": "93d6108e-eecd-44c6-8b6d-870bac6a3443",
   "metadata": {},
   "outputs": [
    {
     "data": {
      "text/plain": [
       "[10, 20, 30, 40, 50, 2.3, True, (1+2j)]"
      ]
     },
     "execution_count": 21,
     "metadata": {},
     "output_type": "execute_result"
    }
   ],
   "source": [
    "l1"
   ]
  },
  {
   "cell_type": "code",
   "execution_count": 22,
   "id": "64558f85-c13e-4ba8-84b3-e07849a58bb2",
   "metadata": {},
   "outputs": [
    {
     "data": {
      "text/plain": [
       "[10, 20, 30, 40, 50, 2.3, True]"
      ]
     },
     "execution_count": 22,
     "metadata": {},
     "output_type": "execute_result"
    }
   ],
   "source": [
    "l1.remove(1+2j)\n",
    "l1"
   ]
  },
  {
   "cell_type": "code",
   "execution_count": 23,
   "id": "8036b9aa-d349-4449-95b3-8adc3efa8c6f",
   "metadata": {},
   "outputs": [
    {
     "data": {
      "text/plain": [
       "[10, 20, 30, 40, 50, 2.3, True]"
      ]
     },
     "execution_count": 23,
     "metadata": {},
     "output_type": "execute_result"
    }
   ],
   "source": [
    "l2=l1.copy()\n",
    "l2"
   ]
  },
  {
   "cell_type": "markdown",
   "id": "0b542f47-cce3-481e-bca5-183e6c70e48a",
   "metadata": {},
   "source": [
    "#### clear()"
   ]
  },
  {
   "cell_type": "code",
   "execution_count": 24,
   "id": "e823bc12-f32f-45e2-8481-df6da93423cd",
   "metadata": {},
   "outputs": [
    {
     "data": {
      "text/plain": [
       "[]"
      ]
     },
     "execution_count": 24,
     "metadata": {},
     "output_type": "execute_result"
    }
   ],
   "source": [
    "l2.clear() #Clears all the elements\n",
    "l2"
   ]
  },
  {
   "cell_type": "code",
   "execution_count": 25,
   "id": "f23668d0-9982-4fad-8233-05d91de7acc5",
   "metadata": {},
   "outputs": [],
   "source": [
    "del l2 #to delete entire list "
   ]
  },
  {
   "cell_type": "code",
   "execution_count": 26,
   "id": "e8840d52-2bb7-48cf-b1fa-a48b8fecf530",
   "metadata": {},
   "outputs": [
    {
     "ename": "NameError",
     "evalue": "name 'l2' is not defined",
     "output_type": "error",
     "traceback": [
      "\u001b[1;31m---------------------------------------------------------------------------\u001b[0m",
      "\u001b[1;31mNameError\u001b[0m                                 Traceback (most recent call last)",
      "Cell \u001b[1;32mIn[26], line 1\u001b[0m\n\u001b[1;32m----> 1\u001b[0m l2\n",
      "\u001b[1;31mNameError\u001b[0m: name 'l2' is not defined"
     ]
    }
   ],
   "source": [
    "l2"
   ]
  }
 ],
 "metadata": {
  "kernelspec": {
   "display_name": "Python 3 (ipykernel)",
   "language": "python",
   "name": "python3"
  },
  "language_info": {
   "codemirror_mode": {
    "name": "ipython",
    "version": 3
   },
   "file_extension": ".py",
   "mimetype": "text/x-python",
   "name": "python",
   "nbconvert_exporter": "python",
   "pygments_lexer": "ipython3",
   "version": "3.12.7"
  }
 },
 "nbformat": 4,
 "nbformat_minor": 5
}
