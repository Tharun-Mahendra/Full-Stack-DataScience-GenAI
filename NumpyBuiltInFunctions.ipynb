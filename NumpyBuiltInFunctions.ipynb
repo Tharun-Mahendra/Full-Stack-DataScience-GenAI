{
 "cells": [
  {
   "cell_type": "markdown",
   "id": "46fcf148-9744-48aa-80d4-5c6ecce0884c",
   "metadata": {
    "scrolled": true
   },
   "source": [
    "#### Uses Of Numpy\n",
    "https://i0.wp.com/techvidvan.com/tutorials/wp-content/uploads/sites/2/2020/07/Uses-of-NumPy-1.jpg?resize=768%2C542&ssl=1"
   ]
  },
  {
   "cell_type": "markdown",
   "id": "cacb10c0-9376-4ba0-9276-7d65b3cea7ef",
   "metadata": {},
   "source": [
    "### 1. Array Creation Functions"
   ]
  },
  {
   "cell_type": "code",
   "execution_count": 1,
   "id": "4d03298d-2dc2-44a4-881f-834d325e8753",
   "metadata": {},
   "outputs": [],
   "source": [
    "import numpy as np"
   ]
  },
  {
   "cell_type": "code",
   "execution_count": 2,
   "id": "bb40459d-ffbc-469f-b128-7dffed901625",
   "metadata": {},
   "outputs": [
    {
     "data": {
      "text/plain": [
       "array(['1', '2.0', 'True', 'tharun', '(1+2j)'], dtype='<U64')"
      ]
     },
     "execution_count": 2,
     "metadata": {},
     "output_type": "execute_result"
    }
   ],
   "source": [
    "#Creating array from list\n",
    "l=[1,2.0,True,'tharun',1+2j]\n",
    "np.array(l)"
   ]
  },
  {
   "cell_type": "code",
   "execution_count": 3,
   "id": "a6c2003f-d27b-4c63-b6f7-10f09fe9851a",
   "metadata": {},
   "outputs": [
    {
     "data": {
      "text/plain": [
       "array([ 0,  2,  4,  6,  8, 10, 12, 14, 16, 18, 20, 22, 24])"
      ]
     },
     "execution_count": 3,
     "metadata": {},
     "output_type": "execute_result"
    }
   ],
   "source": [
    "#creating using arange()->Return evenly spaced values within a given interval.\n",
    "np.arange(0,25,2) #values from 0-24 with step 2"
   ]
  },
  {
   "cell_type": "code",
   "execution_count": 4,
   "id": "45b45fc2-48ad-4599-9698-23c4a858154d",
   "metadata": {},
   "outputs": [
    {
     "data": {
      "text/plain": [
       "array([0.  , 0.25, 0.5 , 0.75, 1.  ])"
      ]
     },
     "execution_count": 4,
     "metadata": {},
     "output_type": "execute_result"
    }
   ],
   "source": [
    "#creating using linspace()->Return evenly spaced numbers over a specified interval.\n",
    "np.linspace(0,1,5) #5 values evenly spaced between 0-1"
   ]
  },
  {
   "cell_type": "code",
   "execution_count": 5,
   "id": "ac34888e-1594-4d9a-85ab-2676f555018c",
   "metadata": {},
   "outputs": [
    {
     "data": {
      "text/plain": [
       "array([ 0.,  1.,  2.,  3.,  4.,  5.,  6.,  7.,  8.,  9., 10.])"
      ]
     },
     "execution_count": 5,
     "metadata": {},
     "output_type": "execute_result"
    }
   ],
   "source": [
    "np.linspace(0,10,11) "
   ]
  },
  {
   "cell_type": "code",
   "execution_count": 6,
   "id": "a3433957-ac97-4fcd-a2b0-11fc5e3f49c8",
   "metadata": {},
   "outputs": [
    {
     "data": {
      "text/plain": [
       "array([[0., 0., 0., 0., 0.],\n",
       "       [0., 0., 0., 0., 0.]])"
      ]
     },
     "execution_count": 6,
     "metadata": {},
     "output_type": "execute_result"
    }
   ],
   "source": [
    "#using zeros()->Return a new array of given shape and type, filled with zeros.\n",
    "np.zeros((2,5)) #by default float type"
   ]
  },
  {
   "cell_type": "code",
   "execution_count": 7,
   "id": "e8129280-35a5-4d66-b465-650b2a6aef05",
   "metadata": {},
   "outputs": [
    {
     "data": {
      "text/plain": [
       "array([[0, 0],\n",
       "       [0, 0],\n",
       "       [0, 0],\n",
       "       [0, 0],\n",
       "       [0, 0]])"
      ]
     },
     "execution_count": 7,
     "metadata": {},
     "output_type": "execute_result"
    }
   ],
   "source": [
    "np.zeros((5,2),dtype=int)"
   ]
  },
  {
   "cell_type": "code",
   "execution_count": 8,
   "id": "bfddacf1-2592-4489-b308-1daa072450a9",
   "metadata": {},
   "outputs": [
    {
     "data": {
      "text/plain": [
       "array([[1., 1., 1., 1., 1.],\n",
       "       [1., 1., 1., 1., 1.]])"
      ]
     },
     "execution_count": 8,
     "metadata": {},
     "output_type": "execute_result"
    }
   ],
   "source": [
    "#using ones()->Return a new array of given shape and type, filled with ones.\n",
    "np.ones((2,5))"
   ]
  },
  {
   "cell_type": "code",
   "execution_count": 9,
   "id": "90027109-657b-4629-b892-44c914c81080",
   "metadata": {},
   "outputs": [
    {
     "data": {
      "text/plain": [
       "array([[1, 1, 1, 1, 1, 1, 1, 1, 1],\n",
       "       [1, 1, 1, 1, 1, 1, 1, 1, 1],\n",
       "       [1, 1, 1, 1, 1, 1, 1, 1, 1],\n",
       "       [1, 1, 1, 1, 1, 1, 1, 1, 1],\n",
       "       [1, 1, 1, 1, 1, 1, 1, 1, 1]])"
      ]
     },
     "execution_count": 9,
     "metadata": {},
     "output_type": "execute_result"
    }
   ],
   "source": [
    "np.ones((5,9),dtype=int)"
   ]
  },
  {
   "cell_type": "code",
   "execution_count": 10,
   "id": "82d39930-bec3-4445-ad2d-5612469c10df",
   "metadata": {},
   "outputs": [
    {
     "data": {
      "text/plain": [
       "array([[1, 0, 0, 0, 0],\n",
       "       [0, 1, 0, 0, 0],\n",
       "       [0, 0, 1, 0, 0],\n",
       "       [0, 0, 0, 1, 0],\n",
       "       [0, 0, 0, 0, 1]])"
      ]
     },
     "execution_count": 10,
     "metadata": {},
     "output_type": "execute_result"
    }
   ],
   "source": [
    "#using eye()->Return a 2-D array with ones on the diagonal and zeros elsewhere.\n",
    "np.eye(5,dtype=int)"
   ]
  },
  {
   "cell_type": "code",
   "execution_count": 11,
   "id": "5cd5a0d8-007e-4456-9548-02b2a66cd1a7",
   "metadata": {},
   "outputs": [
    {
     "data": {
      "text/plain": [
       "array([[1, 0, 0, 0],\n",
       "       [0, 1, 0, 0],\n",
       "       [0, 0, 1, 0],\n",
       "       [0, 0, 0, 1],\n",
       "       [0, 0, 0, 0]])"
      ]
     },
     "execution_count": 11,
     "metadata": {},
     "output_type": "execute_result"
    }
   ],
   "source": [
    "np.eye(5,4,dtype=int)"
   ]
  },
  {
   "cell_type": "markdown",
   "id": "ac711830-3083-477d-a4a5-6f314c0ea9da",
   "metadata": {},
   "source": [
    "### 2. Array Manipulation Functions"
   ]
  },
  {
   "cell_type": "markdown",
   "id": "844c3a1f-0bf2-42b0-80be-4bd32fa5bbdd",
   "metadata": {},
   "source": [
    "#### Reshape an array"
   ]
  },
  {
   "cell_type": "code",
   "execution_count": 12,
   "id": "4c0276cd-8656-4674-859e-bb96f9c86e81",
   "metadata": {},
   "outputs": [
    {
     "data": {
      "text/plain": [
       "array([ 1,  2,  3,  4,  5,  6,  7,  8,  9, 10])"
      ]
     },
     "execution_count": 12,
     "metadata": {},
     "output_type": "execute_result"
    }
   ],
   "source": [
    "arr=np.arange(1,11)\n",
    "arr"
   ]
  },
  {
   "cell_type": "code",
   "execution_count": 13,
   "id": "f2ec8aae-8c80-4d4a-98d2-35f8542abe5c",
   "metadata": {},
   "outputs": [
    {
     "data": {
      "text/plain": [
       "array([[ 1,  2],\n",
       "       [ 3,  4],\n",
       "       [ 5,  6],\n",
       "       [ 7,  8],\n",
       "       [ 9, 10]])"
      ]
     },
     "execution_count": 13,
     "metadata": {},
     "output_type": "execute_result"
    }
   ],
   "source": [
    "arr.reshape(5,2) #Returns an array containing the same data with a new shape."
   ]
  },
  {
   "cell_type": "code",
   "execution_count": 14,
   "id": "5d5a0d8c-33cd-451a-b97a-050f87b99802",
   "metadata": {},
   "outputs": [
    {
     "data": {
      "text/plain": [
       "array([[ 1,  2,  3,  4,  5],\n",
       "       [ 6,  7,  8,  9, 10]])"
      ]
     },
     "execution_count": 14,
     "metadata": {},
     "output_type": "execute_result"
    }
   ],
   "source": [
    "arr.reshape(2,5)"
   ]
  },
  {
   "cell_type": "markdown",
   "id": "d7aceffe-cc56-4c50-a1c2-8d0f5c5f0c65",
   "metadata": {},
   "source": [
    "#### Flatten an array"
   ]
  },
  {
   "cell_type": "code",
   "execution_count": 15,
   "id": "2fab63c7-f7ff-418c-9b60-4eee0a17053d",
   "metadata": {},
   "outputs": [
    {
     "data": {
      "text/plain": [
       "array([[1, 2],\n",
       "       [5, 6]])"
      ]
     },
     "execution_count": 15,
     "metadata": {},
     "output_type": "execute_result"
    }
   ],
   "source": [
    "a=np.array([[1,2],[5,6]])\n",
    "a"
   ]
  },
  {
   "cell_type": "code",
   "execution_count": 16,
   "id": "3ea0be86-bded-43c6-8b10-a76354d4d8e8",
   "metadata": {},
   "outputs": [
    {
     "data": {
      "text/plain": [
       "array([1, 2, 5, 6])"
      ]
     },
     "execution_count": 16,
     "metadata": {},
     "output_type": "execute_result"
    }
   ],
   "source": [
    "#Return a flattened array.\n",
    "a.ravel()"
   ]
  },
  {
   "cell_type": "code",
   "execution_count": 17,
   "id": "4d729186-c6a5-42b0-94a9-d68991f6b29c",
   "metadata": {},
   "outputs": [
    {
     "data": {
      "text/plain": [
       "array([[1, 0, 0],\n",
       "       [0, 1, 0],\n",
       "       [0, 0, 1]])"
      ]
     },
     "execution_count": 17,
     "metadata": {},
     "output_type": "execute_result"
    }
   ],
   "source": [
    "b=np.eye(3,dtype=int)\n",
    "b"
   ]
  },
  {
   "cell_type": "code",
   "execution_count": 18,
   "id": "744f8605-956c-483f-acb9-98a6152670a0",
   "metadata": {},
   "outputs": [
    {
     "data": {
      "text/plain": [
       "array([1, 0, 0, 0, 1, 0, 0, 0, 1])"
      ]
     },
     "execution_count": 18,
     "metadata": {},
     "output_type": "execute_result"
    }
   ],
   "source": [
    "b.ravel() #Converts an array to 1D array"
   ]
  },
  {
   "cell_type": "markdown",
   "id": "e2f4f3ba-988e-414b-8d58-4448af89b97c",
   "metadata": {},
   "source": [
    "#### Transpose an array"
   ]
  },
  {
   "cell_type": "code",
   "execution_count": 19,
   "id": "f92d7447-90d7-42e1-b9a9-9a43d91d22cf",
   "metadata": {},
   "outputs": [
    {
     "data": {
      "text/plain": [
       "array([[1, 2, 3],\n",
       "       [4, 5, 6],\n",
       "       [7, 8, 9]])"
      ]
     },
     "execution_count": 19,
     "metadata": {},
     "output_type": "execute_result"
    }
   ],
   "source": [
    "a=np.array([[1,2,3],[4,5,6],[7,8,9]])\n",
    "a"
   ]
  },
  {
   "cell_type": "code",
   "execution_count": 20,
   "id": "7bd5da1f-24ff-4059-9924-133503248b0c",
   "metadata": {},
   "outputs": [
    {
     "data": {
      "text/plain": [
       "array([[1, 4, 7],\n",
       "       [2, 5, 8],\n",
       "       [3, 6, 9]])"
      ]
     },
     "execution_count": 20,
     "metadata": {},
     "output_type": "execute_result"
    }
   ],
   "source": [
    "a.transpose() #transfers rows-columns;columns-rows"
   ]
  },
  {
   "cell_type": "markdown",
   "id": "ab271231-5afa-4242-8c34-2007a90f4cf7",
   "metadata": {},
   "source": [
    "#### Stack arrays Vertically"
   ]
  },
  {
   "cell_type": "code",
   "execution_count": 21,
   "id": "b629fef6-5f4d-4511-8a4a-89ff65902632",
   "metadata": {},
   "outputs": [
    {
     "data": {
      "text/plain": [
       "array([[1, 2, 3],\n",
       "       [4, 5, 6],\n",
       "       [7, 8, 9]])"
      ]
     },
     "execution_count": 21,
     "metadata": {},
     "output_type": "execute_result"
    }
   ],
   "source": [
    "a"
   ]
  },
  {
   "cell_type": "code",
   "execution_count": 22,
   "id": "dc132928-1223-440d-87f9-49b17d135f87",
   "metadata": {},
   "outputs": [
    {
     "data": {
      "text/plain": [
       "array([[1, 0, 0],\n",
       "       [0, 1, 0],\n",
       "       [0, 0, 1]])"
      ]
     },
     "execution_count": 22,
     "metadata": {},
     "output_type": "execute_result"
    }
   ],
   "source": [
    "b"
   ]
  },
  {
   "cell_type": "code",
   "execution_count": 23,
   "id": "1e28c2fc-9097-42ce-a240-b16f4e338713",
   "metadata": {},
   "outputs": [
    {
     "data": {
      "text/plain": [
       "array([[1, 2, 3],\n",
       "       [4, 5, 6],\n",
       "       [7, 8, 9],\n",
       "       [1, 0, 0],\n",
       "       [0, 1, 0],\n",
       "       [0, 0, 1]])"
      ]
     },
     "execution_count": 23,
     "metadata": {},
     "output_type": "execute_result"
    }
   ],
   "source": [
    "np.vstack((a,b))#Stack arrays in sequence vertically (row wise)."
   ]
  },
  {
   "cell_type": "markdown",
   "id": "91d22700-48d8-42c9-a72f-85774ad7500f",
   "metadata": {},
   "source": [
    "### 3. Mathametical Functions"
   ]
  },
  {
   "cell_type": "markdown",
   "id": "5caf886d-9845-4494-b6a9-9c377e670cc8",
   "metadata": {},
   "source": [
    "#### Add "
   ]
  },
  {
   "cell_type": "code",
   "execution_count": 24,
   "id": "58e38a04-2abb-40b1-b8fa-31804b3e5a69",
   "metadata": {},
   "outputs": [
    {
     "data": {
      "text/plain": [
       "array([[1, 2, 3],\n",
       "       [4, 5, 6],\n",
       "       [7, 8, 9]])"
      ]
     },
     "execution_count": 24,
     "metadata": {},
     "output_type": "execute_result"
    }
   ],
   "source": [
    "a"
   ]
  },
  {
   "cell_type": "code",
   "execution_count": 25,
   "id": "8b037ab7-070e-45d8-b5e4-b7e0099525d5",
   "metadata": {},
   "outputs": [
    {
     "data": {
      "text/plain": [
       "array([[ 2.2,  3.2,  4.2],\n",
       "       [ 5.2,  6.2,  7.2],\n",
       "       [ 8.2,  9.2, 10.2]])"
      ]
     },
     "execution_count": 25,
     "metadata": {},
     "output_type": "execute_result"
    }
   ],
   "source": [
    "np.add(a,1.2) #Add arguments ea,1lement-wise."
   ]
  },
  {
   "cell_type": "markdown",
   "id": "77a850d0-2440-4c0b-8634-2ef87e08934c",
   "metadata": {},
   "source": [
    "#### Square"
   ]
  },
  {
   "cell_type": "code",
   "execution_count": 26,
   "id": "03f075f3-0b83-460e-8e74-019a7599638d",
   "metadata": {},
   "outputs": [
    {
     "data": {
      "text/plain": [
       "array([[1, 2, 3],\n",
       "       [4, 5, 6],\n",
       "       [7, 8, 9]])"
      ]
     },
     "execution_count": 26,
     "metadata": {},
     "output_type": "execute_result"
    }
   ],
   "source": [
    "a"
   ]
  },
  {
   "cell_type": "code",
   "execution_count": 27,
   "id": "a185caf5-b68a-4a16-ae72-9700f9f3ccac",
   "metadata": {},
   "outputs": [
    {
     "data": {
      "text/plain": [
       "array([[ 1,  4,  9],\n",
       "       [16, 25, 36],\n",
       "       [49, 64, 81]])"
      ]
     },
     "execution_count": 27,
     "metadata": {},
     "output_type": "execute_result"
    }
   ],
   "source": [
    "np.square(a) #Return the element-wise square of the input."
   ]
  },
  {
   "cell_type": "markdown",
   "id": "57b30c0e-5c58-4197-9258-58fd34f4ddca",
   "metadata": {},
   "source": [
    "#### Sqrt"
   ]
  },
  {
   "cell_type": "code",
   "execution_count": 28,
   "id": "bce1946e-5d49-4051-b56b-150db43990d1",
   "metadata": {},
   "outputs": [
    {
     "data": {
      "text/plain": [
       "array([[1, 2, 3],\n",
       "       [4, 5, 6],\n",
       "       [7, 8, 9]])"
      ]
     },
     "execution_count": 28,
     "metadata": {},
     "output_type": "execute_result"
    }
   ],
   "source": [
    "a"
   ]
  },
  {
   "cell_type": "code",
   "execution_count": 29,
   "id": "44f95bd5-5f36-4742-8b13-547f36e44a7f",
   "metadata": {},
   "outputs": [
    {
     "data": {
      "text/plain": [
       "array([[1.        , 1.41421356, 1.73205081],\n",
       "       [2.        , 2.23606798, 2.44948974],\n",
       "       [2.64575131, 2.82842712, 3.        ]])"
      ]
     },
     "execution_count": 29,
     "metadata": {},
     "output_type": "execute_result"
    }
   ],
   "source": [
    "np.sqrt(a) #Return the non-negative square-root of an array, element-wise."
   ]
  },
  {
   "cell_type": "markdown",
   "id": "d693c8a5-3f78-41c8-8ebb-399224ad01c9",
   "metadata": {},
   "source": [
    "#### Dot Product"
   ]
  },
  {
   "cell_type": "code",
   "execution_count": 30,
   "id": "bbb1bb87-3fa0-4b8c-bafd-2afd25f6906d",
   "metadata": {},
   "outputs": [
    {
     "data": {
      "text/plain": [
       "array([[1, 2, 3],\n",
       "       [4, 5, 6],\n",
       "       [7, 8, 9]])"
      ]
     },
     "execution_count": 30,
     "metadata": {},
     "output_type": "execute_result"
    }
   ],
   "source": [
    "a"
   ]
  },
  {
   "cell_type": "code",
   "execution_count": 31,
   "id": "7f69ff30-a21d-4ee8-9579-a7c86d46192d",
   "metadata": {},
   "outputs": [
    {
     "data": {
      "text/plain": [
       "array([[3, 2, 2],\n",
       "       [2, 3, 2],\n",
       "       [2, 2, 3]])"
      ]
     },
     "execution_count": 31,
     "metadata": {},
     "output_type": "execute_result"
    }
   ],
   "source": [
    "b=np.add(b,2)\n",
    "b"
   ]
  },
  {
   "cell_type": "code",
   "execution_count": 32,
   "id": "a85e29ac-d04e-4d6c-8948-5958bdf11d2f",
   "metadata": {},
   "outputs": [
    {
     "data": {
      "text/plain": [
       "array([[13, 14, 15],\n",
       "       [34, 35, 36],\n",
       "       [55, 56, 57]])"
      ]
     },
     "execution_count": 32,
     "metadata": {},
     "output_type": "execute_result"
    }
   ],
   "source": [
    "np.dot(a,b) #Dot product of two arrays."
   ]
  },
  {
   "cell_type": "markdown",
   "id": "a3aafa08-8dfc-41c3-802f-a75c48b28e39",
   "metadata": {},
   "source": [
    "### 4. Statistical Functions"
   ]
  },
  {
   "cell_type": "code",
   "execution_count": 33,
   "id": "272aaf68-6b52-40f3-a499-ea2cf972d481",
   "metadata": {},
   "outputs": [
    {
     "data": {
      "text/plain": [
       "array([[1, 2, 3],\n",
       "       [4, 5, 6],\n",
       "       [7, 8, 9]])"
      ]
     },
     "execution_count": 33,
     "metadata": {},
     "output_type": "execute_result"
    }
   ],
   "source": [
    "a"
   ]
  },
  {
   "cell_type": "code",
   "execution_count": 34,
   "id": "5f5bfbcf-b6ea-4dde-be02-221301a0e23e",
   "metadata": {},
   "outputs": [
    {
     "name": "stdout",
     "output_type": "stream",
     "text": [
      "5.0\n",
      "[4. 5. 6.]\n",
      "[2. 5. 8.]\n"
     ]
    }
   ],
   "source": [
    "#mean\n",
    "print(np.mean(a))#Compute the arithmetic mean along the specified axis.\n",
    "                 #The default is to compute the mean of the flattened array.\n",
    "print(np.mean(a,axis=0)) #column wise\n",
    "print(np.mean(a,axis=1)) #row wise"
   ]
  },
  {
   "cell_type": "code",
   "execution_count": 35,
   "id": "cdca6ece-d64d-41aa-84f9-7e6fdf87291b",
   "metadata": {},
   "outputs": [
    {
     "name": "stdout",
     "output_type": "stream",
     "text": [
      "5.0\n",
      "[4. 5. 6.]\n",
      "[2. 5. 8.]\n"
     ]
    }
   ],
   "source": [
    "#median\n",
    "print(np.median(a))\n",
    "print(np.median(a,axis=0))\n",
    "print(np.median(a,axis=1))"
   ]
  },
  {
   "cell_type": "code",
   "execution_count": 36,
   "id": "22cde462-0af6-4f62-b38a-b1d983e524bf",
   "metadata": {},
   "outputs": [
    {
     "name": "stdout",
     "output_type": "stream",
     "text": [
      "2.581988897471611\n",
      "[2.44948974 2.44948974 2.44948974]\n",
      "[0.81649658 0.81649658 0.81649658]\n"
     ]
    }
   ],
   "source": [
    "#standard deviation\n",
    "print(np.std(a))\n",
    "print(np.std(a,axis=0))\n",
    "print(np.std(a,axis=1))"
   ]
  },
  {
   "cell_type": "code",
   "execution_count": 37,
   "id": "3665600f-7215-4703-ac05-2345ca062778",
   "metadata": {},
   "outputs": [
    {
     "data": {
      "text/plain": [
       "array([[1, 2, 3],\n",
       "       [4, 5, 6],\n",
       "       [7, 8, 9]])"
      ]
     },
     "execution_count": 37,
     "metadata": {},
     "output_type": "execute_result"
    }
   ],
   "source": [
    "a"
   ]
  },
  {
   "cell_type": "code",
   "execution_count": 38,
   "id": "44b5e027-d92b-43c7-9ee7-76a4595ee5e8",
   "metadata": {},
   "outputs": [
    {
     "name": "stdout",
     "output_type": "stream",
     "text": [
      "1\n",
      "[1 2 3]\n",
      "[1 4 7]\n"
     ]
    }
   ],
   "source": [
    "#Min\n",
    "print(np.min(a))\n",
    "print(np.min(a,axis=0))\n",
    "print(np.min(a,axis=1))"
   ]
  },
  {
   "cell_type": "code",
   "execution_count": 39,
   "id": "eb9ce856-6ee5-41a1-bf1d-10168b53a9b6",
   "metadata": {},
   "outputs": [
    {
     "name": "stdout",
     "output_type": "stream",
     "text": [
      "9\n",
      "[7 8 9]\n",
      "[3 6 9]\n"
     ]
    }
   ],
   "source": [
    "#Max\n",
    "print(np.max(a))\n",
    "print(np.max(a,axis=0))\n",
    "print(np.max(a,axis=1))"
   ]
  },
  {
   "cell_type": "markdown",
   "id": "6ca6e408-1520-4dd6-94f8-80abc925d1b3",
   "metadata": {},
   "source": [
    "### 5. LinearAlgebra Functions"
   ]
  },
  {
   "cell_type": "code",
   "execution_count": 40,
   "id": "c2869658-03b6-44f7-8894-dcd7db1149b9",
   "metadata": {},
   "outputs": [
    {
     "data": {
      "text/plain": [
       "array([[1, 2, 3],\n",
       "       [4, 5, 6],\n",
       "       [7, 8, 9]])"
      ]
     },
     "execution_count": 40,
     "metadata": {},
     "output_type": "execute_result"
    }
   ],
   "source": [
    "a"
   ]
  },
  {
   "cell_type": "code",
   "execution_count": 41,
   "id": "131eaa62-d7b0-4a7c-99b9-6436a945d797",
   "metadata": {},
   "outputs": [
    {
     "data": {
      "text/plain": [
       "-9.51619735392994e-16"
      ]
     },
     "execution_count": 41,
     "metadata": {},
     "output_type": "execute_result"
    }
   ],
   "source": [
    "#Determinant\n",
    "np.linalg.det(a) #Compute the determinant of an array."
   ]
  },
  {
   "cell_type": "code",
   "execution_count": 42,
   "id": "0eda1ed4-ace2-47ac-a2df-15bc4a24d6c9",
   "metadata": {},
   "outputs": [
    {
     "data": {
      "text/plain": [
       "array([[ 3.15251974e+15, -6.30503948e+15,  3.15251974e+15],\n",
       "       [-6.30503948e+15,  1.26100790e+16, -6.30503948e+15],\n",
       "       [ 3.15251974e+15, -6.30503948e+15,  3.15251974e+15]])"
      ]
     },
     "execution_count": 42,
     "metadata": {},
     "output_type": "execute_result"
    }
   ],
   "source": [
    "#Inverse\n",
    "np.linalg.inv(a) #Compute the (multiplicative) inverse of a matrix."
   ]
  },
  {
   "cell_type": "markdown",
   "id": "3a2d1c13-775e-4abc-b211-e368f6dff73d",
   "metadata": {},
   "source": [
    "\n",
    "### 6. RandomSampling Functions"
   ]
  },
  {
   "cell_type": "code",
   "execution_count": 43,
   "id": "45bd972d-e86a-46ac-94bb-0ce48661b6c6",
   "metadata": {},
   "outputs": [
    {
     "data": {
      "text/plain": [
       "array([[0.85209563, 0.76532823],\n",
       "       [0.74422928, 0.40972838],\n",
       "       [0.53378187, 0.56633738],\n",
       "       [0.40971798, 0.0938301 ]])"
      ]
     },
     "execution_count": 43,
     "metadata": {},
     "output_type": "execute_result"
    }
   ],
   "source": [
    "#random values\n",
    "np.random.rand(4,2) #between 0-1 float values in given dimensions"
   ]
  },
  {
   "cell_type": "code",
   "execution_count": 44,
   "id": "2094aa56-31c6-4983-9488-278458feafac",
   "metadata": {},
   "outputs": [
    {
     "data": {
      "text/plain": [
       "array([76, 23, 60, 74,  1])"
      ]
     },
     "execution_count": 44,
     "metadata": {},
     "output_type": "execute_result"
    }
   ],
   "source": [
    "np.random.randint(0,100,5)# 5 random integers between 0-99"
   ]
  },
  {
   "cell_type": "code",
   "execution_count": 45,
   "id": "33cd9869-04a2-481f-ab91-a9bc3b646b96",
   "metadata": {},
   "outputs": [
    {
     "data": {
      "text/plain": [
       "array([44, 47, 64, 67, 67])"
      ]
     },
     "execution_count": 45,
     "metadata": {},
     "output_type": "execute_result"
    }
   ],
   "source": [
    "#if we set random.seed to 0 once genarated values dont change any times we run\n",
    "np.random.seed(0)\n",
    "np.random.randint(0,100,5)"
   ]
  },
  {
   "cell_type": "markdown",
   "id": "5ce4413b-0a44-4c31-a076-e2f26b1533a9",
   "metadata": {},
   "source": [
    "### 7. Boolean&Logical Functions"
   ]
  },
  {
   "cell_type": "code",
   "execution_count": 46,
   "id": "1c711a69-5750-4063-8532-f3a55ee8626e",
   "metadata": {},
   "outputs": [
    {
     "data": {
      "text/plain": [
       "array([[1, 2, 3],\n",
       "       [4, 5, 6],\n",
       "       [7, 8, 9]])"
      ]
     },
     "execution_count": 46,
     "metadata": {},
     "output_type": "execute_result"
    }
   ],
   "source": [
    "a"
   ]
  },
  {
   "cell_type": "code",
   "execution_count": 47,
   "id": "e075d1ab-21f6-4aed-9b0d-486d0fb54bfd",
   "metadata": {},
   "outputs": [
    {
     "data": {
      "text/plain": [
       "True"
      ]
     },
     "execution_count": 47,
     "metadata": {},
     "output_type": "execute_result"
    }
   ],
   "source": [
    "np.all(a) #Test whether all array elements along a given axis evaluate to True."
   ]
  },
  {
   "cell_type": "code",
   "execution_count": 48,
   "id": "efe18d60-6eac-430f-8d46-5020f17dae0b",
   "metadata": {},
   "outputs": [
    {
     "data": {
      "text/plain": [
       "array([[1., 0., 0.],\n",
       "       [0., 1., 0.],\n",
       "       [0., 0., 1.]])"
      ]
     },
     "execution_count": 48,
     "metadata": {},
     "output_type": "execute_result"
    }
   ],
   "source": [
    "a=np.eye(3,3)\n",
    "a"
   ]
  },
  {
   "cell_type": "code",
   "execution_count": 49,
   "id": "722e5158-1511-4cd5-8375-cb76b5ca60af",
   "metadata": {},
   "outputs": [
    {
     "data": {
      "text/plain": [
       "False"
      ]
     },
     "execution_count": 49,
     "metadata": {},
     "output_type": "execute_result"
    }
   ],
   "source": [
    "np.all(a)"
   ]
  },
  {
   "cell_type": "code",
   "execution_count": 50,
   "id": "9b151ce5-375b-4261-812b-0dbd7f7cd389",
   "metadata": {},
   "outputs": [
    {
     "data": {
      "text/plain": [
       "True"
      ]
     },
     "execution_count": 50,
     "metadata": {},
     "output_type": "execute_result"
    }
   ],
   "source": [
    "np.any(a) #Test whether any array element along a given axis evaluates to True."
   ]
  },
  {
   "cell_type": "markdown",
   "id": "dd1c3302-f919-49d6-8851-b54907a62c96",
   "metadata": {},
   "source": [
    "### 8. Set Operations"
   ]
  },
  {
   "cell_type": "code",
   "execution_count": 51,
   "id": "245445da-8018-4710-9787-be40afb3e3ff",
   "metadata": {},
   "outputs": [],
   "source": [
    "a=np.array([3,4,5,1,2])\n",
    "b=np.array([6,7,3,4,5])"
   ]
  },
  {
   "cell_type": "code",
   "execution_count": 52,
   "id": "f5dba7a9-6b3d-48d0-a997-361fd88d32b8",
   "metadata": {},
   "outputs": [
    {
     "data": {
      "text/plain": [
       "array([3, 4, 5])"
      ]
     },
     "execution_count": 52,
     "metadata": {},
     "output_type": "execute_result"
    }
   ],
   "source": [
    "#intersection\n",
    "np.intersect1d(a,b) #Find the intersection of two arrays.Return the sorted, unique values that are in both of the input arrays."
   ]
  },
  {
   "cell_type": "code",
   "execution_count": 53,
   "id": "74e7cc1e-1f8f-4970-9696-a4b869610bc1",
   "metadata": {},
   "outputs": [
    {
     "data": {
      "text/plain": [
       "array([1, 2, 3, 4, 5, 6, 7])"
      ]
     },
     "execution_count": 53,
     "metadata": {},
     "output_type": "execute_result"
    }
   ],
   "source": [
    "#union\n",
    "np.union1d(a,b) #Find the union of two arrays.Return the unique, sorted array of values that are in either of the two input arrays."
   ]
  },
  {
   "cell_type": "markdown",
   "id": "47779386-7ba9-495a-a766-8fb09d1257cf",
   "metadata": {},
   "source": [
    "### 9. ArrayAttribute Functions"
   ]
  },
  {
   "cell_type": "code",
   "execution_count": 54,
   "id": "be86aa53-af85-4bb6-ac3b-06e462dbaff4",
   "metadata": {},
   "outputs": [
    {
     "data": {
      "text/plain": [
       "array([3, 4, 5, 1, 2])"
      ]
     },
     "execution_count": 54,
     "metadata": {},
     "output_type": "execute_result"
    }
   ],
   "source": [
    "a"
   ]
  },
  {
   "cell_type": "code",
   "execution_count": 55,
   "id": "875670be-42b9-4ac3-975f-5e59298c2583",
   "metadata": {},
   "outputs": [
    {
     "data": {
      "text/plain": [
       "(5,)"
      ]
     },
     "execution_count": 55,
     "metadata": {},
     "output_type": "execute_result"
    }
   ],
   "source": [
    "a.shape #shape of array"
   ]
  },
  {
   "cell_type": "code",
   "execution_count": 56,
   "id": "63de9932-67f3-4d8a-87a6-0dca60160760",
   "metadata": {},
   "outputs": [
    {
     "data": {
      "text/plain": [
       "5"
      ]
     },
     "execution_count": 56,
     "metadata": {},
     "output_type": "execute_result"
    }
   ],
   "source": [
    "a.size #no.of elements in array"
   ]
  },
  {
   "cell_type": "code",
   "execution_count": 57,
   "id": "42a2fa1b-c33f-4551-a133-530abf42438a",
   "metadata": {},
   "outputs": [
    {
     "data": {
      "text/plain": [
       "1"
      ]
     },
     "execution_count": 57,
     "metadata": {},
     "output_type": "execute_result"
    }
   ],
   "source": [
    "a.ndim #dimension of array"
   ]
  },
  {
   "cell_type": "code",
   "execution_count": 58,
   "id": "456b1f9a-6f6f-44c6-8b6a-63a3087cfb5b",
   "metadata": {},
   "outputs": [
    {
     "data": {
      "text/plain": [
       "dtype('int32')"
      ]
     },
     "execution_count": 58,
     "metadata": {},
     "output_type": "execute_result"
    }
   ],
   "source": [
    "a.dtype #type of array elements"
   ]
  },
  {
   "cell_type": "markdown",
   "id": "f97cf6e7-569e-4ed1-9c83-2c3c04937eed",
   "metadata": {},
   "source": [
    "### 10. Other Functions"
   ]
  },
  {
   "cell_type": "code",
   "execution_count": 59,
   "id": "0821394c-5507-43fd-9c01-3bff49a7f139",
   "metadata": {},
   "outputs": [
    {
     "data": {
      "text/plain": [
       "array([3, 4, 5, 1, 2])"
      ]
     },
     "execution_count": 59,
     "metadata": {},
     "output_type": "execute_result"
    }
   ],
   "source": [
    "a"
   ]
  },
  {
   "cell_type": "code",
   "execution_count": 60,
   "id": "58cfe169-2334-47ea-b017-0398ee235d3c",
   "metadata": {},
   "outputs": [],
   "source": [
    "b=a #intializing b to a"
   ]
  },
  {
   "cell_type": "code",
   "execution_count": 61,
   "id": "cb63e092-6702-41ec-bb0e-8866ba149159",
   "metadata": {},
   "outputs": [
    {
     "data": {
      "text/plain": [
       "array([3, 4, 5, 1, 2])"
      ]
     },
     "execution_count": 61,
     "metadata": {},
     "output_type": "execute_result"
    }
   ],
   "source": [
    "b"
   ]
  },
  {
   "cell_type": "code",
   "execution_count": 62,
   "id": "c6b57229-f9d1-4369-b8cf-5646d377e00b",
   "metadata": {},
   "outputs": [],
   "source": [
    "copy=np.copy(a) #to copy an array"
   ]
  },
  {
   "cell_type": "code",
   "execution_count": 63,
   "id": "93e88de0-d1bd-464d-b67b-47a7021adc73",
   "metadata": {},
   "outputs": [
    {
     "data": {
      "text/plain": [
       "array([3, 4, 5, 1, 2])"
      ]
     },
     "execution_count": 63,
     "metadata": {},
     "output_type": "execute_result"
    }
   ],
   "source": [
    "copy"
   ]
  },
  {
   "cell_type": "code",
   "execution_count": 64,
   "id": "61a933a4-18d3-4bd1-94dc-15d44b85549c",
   "metadata": {},
   "outputs": [
    {
     "data": {
      "text/plain": [
       "20"
      ]
     },
     "execution_count": 64,
     "metadata": {},
     "output_type": "execute_result"
    }
   ],
   "source": [
    "a.nbytes #bytes of an array"
   ]
  },
  {
   "cell_type": "code",
   "execution_count": 65,
   "id": "48d51c39-5c8f-45c4-b49e-ffed7be54138",
   "metadata": {},
   "outputs": [
    {
     "data": {
      "text/plain": [
       "False"
      ]
     },
     "execution_count": 65,
     "metadata": {},
     "output_type": "execute_result"
    }
   ],
   "source": [
    "np.shares_memory(a,copy) #to find both sares memeory "
   ]
  },
  {
   "cell_type": "code",
   "execution_count": 66,
   "id": "477d3110-1445-4ff6-a3fd-2cb528b6b0c6",
   "metadata": {},
   "outputs": [
    {
     "data": {
      "text/plain": [
       "True"
      ]
     },
     "execution_count": 66,
     "metadata": {},
     "output_type": "execute_result"
    }
   ],
   "source": [
    "np.shares_memory(a,b) #as we shared memory directly"
   ]
  }
 ],
 "metadata": {
  "kernelspec": {
   "display_name": "Python 3 (ipykernel)",
   "language": "python",
   "name": "python3"
  },
  "language_info": {
   "codemirror_mode": {
    "name": "ipython",
    "version": 3
   },
   "file_extension": ".py",
   "mimetype": "text/x-python",
   "name": "python",
   "nbconvert_exporter": "python",
   "pygments_lexer": "ipython3",
   "version": "3.12.7"
  }
 },
 "nbformat": 4,
 "nbformat_minor": 5
}
