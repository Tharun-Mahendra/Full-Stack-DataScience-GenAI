{
 "cells": [
  {
   "cell_type": "markdown",
   "id": "e14d3c3b-85f1-4f78-b996-ddb8eb292953",
   "metadata": {},
   "source": [
    "# Section-A"
   ]
  },
  {
   "cell_type": "markdown",
   "id": "4f931b9b-e8a5-4a91-8c53-8472df7e9cfb",
   "metadata": {},
   "source": [
    "#### 1.What is an operator in Python? \n",
    " "
   ]
  },
  {
   "cell_type": "markdown",
   "id": "f7264b50-c77d-4f4c-a5b9-6d2ecf106702",
   "metadata": {},
   "source": [
    "- an operator in python is special symbol used to perform computations.\n",
    "- Arthimetic Operator->(+,-,/,*,//,%)\n",
    "- Comparision Operator->(==,!=,>,<)\n",
    "- Logical Operator->(and,or,not)"
   ]
  },
  {
   "cell_type": "markdown",
   "id": "b9476404-6467-4eb0-9f78-4587146d0a1e",
   "metadata": {},
   "source": [
    "#### 2. Explain the difference between unary and binary operators with examples."
   ]
  },
  {
   "cell_type": "markdown",
   "id": "ff7df5b5-b429-467e-ae04-372dfacfdcb9",
   "metadata": {},
   "source": [
    "- Unary Operartor->Operates on single Operand\n",
    "- Binary Operator->Operates on Two Operands"
   ]
  },
  {
   "cell_type": "code",
   "execution_count": 1,
   "id": "0c721066-7620-4923-85ad-22030109c495",
   "metadata": {},
   "outputs": [
    {
     "name": "stdout",
     "output_type": "stream",
     "text": [
      "Unary\n",
      "-10\n",
      "10\n",
      "False\n",
      "--------------------\n",
      "Binary\n",
      "30\n",
      "-10\n",
      "0.5\n"
     ]
    }
   ],
   "source": [
    "#Unary\n",
    "num=10\n",
    "istrue=True\n",
    "print('Unary')\n",
    "print(-num)\n",
    "print(+num)\n",
    "print(not istrue)\n",
    "print('--------------------')\n",
    "#Binary\n",
    "num1=10  \n",
    "num2=20\n",
    "print('Binary')\n",
    "print(num1+num2)\n",
    "print(num1-num2)\n",
    "print(num1/num2)"
   ]
  },
  {
   "cell_type": "markdown",
   "id": "da950c64-e2cc-48c8-9a9b-1d45b0648dc6",
   "metadata": {},
   "source": [
    "#### 3. What is the order of precedence in Python operators? "
   ]
  },
  {
   "cell_type": "markdown",
   "id": "100ad54e-2653-4287-8a7d-cdb2235e85a3",
   "metadata": {},
   "source": [
    "- In Python, the order of precedence determines the sequence in which operators are evaluated in an expression.\n",
    "- PEDMAS(Paranthesis,Exponent,Division,Multiplication,Addition,Subtraction)"
   ]
  },
  {
   "cell_type": "code",
   "execution_count": 2,
   "id": "32bdf242-799e-4a84-b8ef-1c75e29dc77d",
   "metadata": {},
   "outputs": [
    {
     "name": "stdout",
     "output_type": "stream",
     "text": [
      "1\n",
      "122\n",
      "11\n"
     ]
    }
   ],
   "source": [
    "print(2+3+(5-9)) #first paranthesis(-4)+5=1\n",
    "print(10+8*15-8) #8*15=120+10=130-8=122\n",
    "print(11-48+48-(10*5)//65)"
   ]
  },
  {
   "cell_type": "markdown",
   "id": "6f3729d0-3c5e-4690-8a88-1e427288d987",
   "metadata": {},
   "source": [
    "#### 4. Discuss the role of arithmetic operators in Python."
   ]
  },
  {
   "cell_type": "markdown",
   "id": "74cf8ff0-309a-42ae-90e6-5e9982deffc5",
   "metadata": {},
   "source": [
    "- Arthimetic operators like\n",
    "- Addition,Subtraction,Multiplication,Division etc... are used to perform mathametical operations on numeric values"
   ]
  },
  {
   "cell_type": "code",
   "execution_count": 3,
   "id": "9dd37dae-87b5-4d04-b98e-93a497e8706d",
   "metadata": {},
   "outputs": [
    {
     "name": "stdout",
     "output_type": "stream",
     "text": [
      "30\n",
      "-10\n",
      "200\n",
      "0.5\n",
      "0\n",
      "100000000000000000000\n"
     ]
    }
   ],
   "source": [
    "a=10\n",
    "b=20\n",
    "print(a+b)\n",
    "print(a-b)\n",
    "print(a*b)\n",
    "print(a/b)\n",
    "print(a//b)\n",
    "print(a**b)"
   ]
  },
  {
   "cell_type": "markdown",
   "id": "058af6b0-71d7-43a3-9dd7-b21c56575895",
   "metadata": {},
   "source": [
    "#### 5. Explain the concept of modulus and its use in Python. "
   ]
  },
  {
   "cell_type": "markdown",
   "id": "0ec1076c-5ed6-4876-970d-d9103a4d2aa2",
   "metadata": {},
   "source": [
    "- modulus % is used to find the remainder between two numbers."
   ]
  },
  {
   "cell_type": "code",
   "execution_count": 4,
   "id": "02c70aee-c90d-41e1-8d0b-ffb3b4be2530",
   "metadata": {},
   "outputs": [
    {
     "data": {
      "text/plain": [
       "3"
      ]
     },
     "execution_count": 4,
     "metadata": {},
     "output_type": "execute_result"
    }
   ],
   "source": [
    "a=15\n",
    "b=4\n",
    "a%b"
   ]
  },
  {
   "cell_type": "markdown",
   "id": "8d9bebe8-1ba8-46ce-8d7b-77fbbf415490",
   "metadata": {},
   "source": [
    "#### 6. Differentiate between the == and is operators in Python."
   ]
  },
  {
   "cell_type": "markdown",
   "id": "11a65f06-c8af-48f4-9da0-bc2e280d9ce8",
   "metadata": {},
   "source": [
    "- == EqualsTo operator returns boolean value if both of them are equal as True else False\n",
    "- is also returns the boolean but by comparing their memory location/address"
   ]
  },
  {
   "cell_type": "code",
   "execution_count": 5,
   "id": "cdb878ac-82a2-4a03-85d5-a6253e7031c1",
   "metadata": {},
   "outputs": [
    {
     "name": "stdout",
     "output_type": "stream",
     "text": [
      "True\n",
      "False\n",
      "True\n",
      "False\n"
     ]
    }
   ],
   "source": [
    "a=5\n",
    "b=5\n",
    "c=10\n",
    "print(a==b)\n",
    "print(a==c)\n",
    "print(a is b)\n",
    "print(a is c)"
   ]
  },
  {
   "cell_type": "markdown",
   "id": "beb81801-3006-4052-97ff-572bddc48d21",
   "metadata": {},
   "source": [
    "#### 7. How do you use the and, or, and not logical operators in Python?"
   ]
  },
  {
   "cell_type": "markdown",
   "id": "9231b0c3-4bbf-4a66-a828-dd7c519b9013",
   "metadata": {},
   "source": [
    "- and-returns true if both the statements true else false\n",
    "- or-return true if any one is true else false\n",
    "- not-returns opposite true then false viceversa."
   ]
  },
  {
   "cell_type": "code",
   "execution_count": 6,
   "id": "af1a4f9b-cd12-4153-b957-cd48ed21bfb4",
   "metadata": {},
   "outputs": [
    {
     "name": "stdout",
     "output_type": "stream",
     "text": [
      "True\n",
      "True\n",
      "False\n"
     ]
    }
   ],
   "source": [
    "a=16\n",
    "print((a>=10)and(a<=20)) #both statements are true\n",
    "print((a>=10)or(a<=15)) #only one statement true\n",
    "b=True\n",
    "print(not b)"
   ]
  },
  {
   "cell_type": "markdown",
   "id": "de7e6ce9-f642-4952-9227-e8eaf7aafdeb",
   "metadata": {},
   "source": [
    "#### 8. Discuss the purpose of the bitwise operators (&, |, ^, <<, >>) in Python. "
   ]
  },
  {
   "cell_type": "markdown",
   "id": "15d890dc-df1a-49eb-9fdc-a65809f8c155",
   "metadata": {},
   "source": [
    "- Bitwise operators are used to perform operations at bit level\n",
    "- and(&),or(|),xor(^),leftshift(<<),rightshift(>>)"
   ]
  },
  {
   "cell_type": "markdown",
   "id": "c691da11-91d2-49ef-b171-0688878f0344",
   "metadata": {},
   "source": [
    "#### 9. Explain the use of the membership operators (in and not in) in Python."
   ]
  },
  {
   "cell_type": "markdown",
   "id": "c60b6c5b-c183-45b1-a9b8-7173323f38e9",
   "metadata": {},
   "source": [
    "- in and not in are used to check whether the particular value present in the original data and returns boolean value"
   ]
  },
  {
   "cell_type": "code",
   "execution_count": 7,
   "id": "39e217bb-d076-44e3-b7af-48241fac8ed7",
   "metadata": {},
   "outputs": [
    {
     "name": "stdout",
     "output_type": "stream",
     "text": [
      "True\n",
      "False\n",
      "------------------------------\n",
      "False\n",
      "True\n"
     ]
    }
   ],
   "source": [
    "a=['apple','banana','grapes','watermelon']\n",
    "print('apple' in a)\n",
    "print('orange' in a)\n",
    "print('------------------------------')\n",
    "print('apple' not in a)\n",
    "print('orange' not in a)"
   ]
  },
  {
   "cell_type": "markdown",
   "id": "578ca208-ba38-42c6-9cca-3a5d3e5fc138",
   "metadata": {},
   "source": [
    "#### 10. What is the purpose of the identity operators (is and is not) in Python? "
   ]
  },
  {
   "cell_type": "markdown",
   "id": "4089b373-60fd-4718-873a-2be7b384acaf",
   "metadata": {},
   "source": [
    "- same as membership operator but checks the memory adress/location"
   ]
  },
  {
   "cell_type": "code",
   "execution_count": 8,
   "id": "881e53bd-d9d3-4f21-994d-62794501bfb4",
   "metadata": {},
   "outputs": [
    {
     "name": "stdout",
     "output_type": "stream",
     "text": [
      "['apple', 'banana', 'grapes', 'watermelon']\n",
      "['apple', 'banana', 'watermelon', 12.5]\n"
     ]
    }
   ],
   "source": [
    "b=['apple','banana','watermelon',12.5]\n",
    "c=b\n",
    "print(a)\n",
    "print(b)"
   ]
  },
  {
   "cell_type": "code",
   "execution_count": 9,
   "id": "a509b973-bb48-4ad3-a8bd-a81c3c64548f",
   "metadata": {},
   "outputs": [
    {
     "name": "stdout",
     "output_type": "stream",
     "text": [
      "False\n",
      "True\n",
      "True\n"
     ]
    }
   ],
   "source": [
    "print(a is b)\n",
    "print(a is not b)\n",
    "print(b is c)"
   ]
  },
  {
   "cell_type": "markdown",
   "id": "8b0f83b0-d756-4fb3-8af8-7375f5528dfb",
   "metadata": {},
   "source": [
    "#### 11. Discuss the role of the ternary conditional operator (x if condition else y) in Python. "
   ]
  },
  {
   "cell_type": "markdown",
   "id": "1720d755-9793-4b41-92bc-b2b0cb6924b0",
   "metadata": {},
   "source": [
    "- Shortcut way to write if-else conditional statement"
   ]
  },
  {
   "cell_type": "code",
   "execution_count": 10,
   "id": "08a52be7-0961-4c00-8802-3175289e4d11",
   "metadata": {},
   "outputs": [
    {
     "name": "stdout",
     "output_type": "stream",
     "text": [
      "greaterthan 10\n"
     ]
    }
   ],
   "source": [
    "a=25\n",
    "print('greaterthan 10'if a>10 else 'lessthan 10')"
   ]
  },
  {
   "cell_type": "markdown",
   "id": "cfed81b5-9460-4c57-a81d-d83e790598c8",
   "metadata": {},
   "source": [
    "#### 12. How are comparison operators (<, >, <=, >=, !=, ==) used in Python?"
   ]
  },
  {
   "cell_type": "markdown",
   "id": "4f135846-4ceb-4b88-90c2-af943fa0a3fd",
   "metadata": {},
   "source": [
    "- Comparison operators are used to compare between two values and return boolean value\n",
    "- lessthan(<),greaterthan(>),lessthanequalto(<=),greaterthanequalto(>=),notequalto(!=),euqlto(==)"
   ]
  },
  {
   "cell_type": "code",
   "execution_count": 11,
   "id": "932b4ae4-e57a-4af4-bbf2-1a38bc0886bf",
   "metadata": {},
   "outputs": [
    {
     "name": "stdout",
     "output_type": "stream",
     "text": [
      "False\n",
      "False\n",
      "True\n",
      "True\n",
      "False\n",
      "True\n"
     ]
    }
   ],
   "source": [
    "a=10\n",
    "b=10\n",
    "print(a<b)\n",
    "print(a>b)\n",
    "print(a<=b)\n",
    "print(a>=b)\n",
    "print(a!=b)\n",
    "print(a==b)"
   ]
  },
  {
   "cell_type": "markdown",
   "id": "f983f1c7-9020-4297-910d-7afd58b350c3",
   "metadata": {},
   "source": [
    "#### 13. Explain the use of assignment operators (=, +=, -=, *=, /=) in Python. "
   ]
  },
  {
   "cell_type": "markdown",
   "id": "195fcb5a-3f3c-4518-9058-1edd5b516864",
   "metadata": {},
   "source": [
    "- Assignment operator are use to assign values\n",
    "- assigningtovariable(=), addassign(+=), subtractassign(-=), multiplyassign(*=), divideassign(/=)"
   ]
  },
  {
   "cell_type": "code",
   "execution_count": 12,
   "id": "816cbc21-e2df-4f93-8390-21527f94ecc2",
   "metadata": {},
   "outputs": [
    {
     "data": {
      "text/plain": [
       "10"
      ]
     },
     "execution_count": 12,
     "metadata": {},
     "output_type": "execute_result"
    }
   ],
   "source": [
    "x=10\n",
    "x"
   ]
  },
  {
   "cell_type": "code",
   "execution_count": 13,
   "id": "1a5f612a-9dea-4554-bdd9-fa2ff28c1605",
   "metadata": {},
   "outputs": [
    {
     "data": {
      "text/plain": [
       "25"
      ]
     },
     "execution_count": 13,
     "metadata": {},
     "output_type": "execute_result"
    }
   ],
   "source": [
    "x+=15\n",
    "x"
   ]
  },
  {
   "cell_type": "code",
   "execution_count": 14,
   "id": "5d62697d-b69f-4f1e-8015-ea73ebe24116",
   "metadata": {},
   "outputs": [
    {
     "data": {
      "text/plain": [
       "-16"
      ]
     },
     "execution_count": 14,
     "metadata": {},
     "output_type": "execute_result"
    }
   ],
   "source": [
    "x-=41\n",
    "x"
   ]
  },
  {
   "cell_type": "code",
   "execution_count": 15,
   "id": "49513545-1e16-4207-b158-d4e101f5612a",
   "metadata": {},
   "outputs": [
    {
     "data": {
      "text/plain": [
       "-336"
      ]
     },
     "execution_count": 15,
     "metadata": {},
     "output_type": "execute_result"
    }
   ],
   "source": [
    "x*=21\n",
    "x"
   ]
  },
  {
   "cell_type": "code",
   "execution_count": 16,
   "id": "8d397a99-3470-4642-8150-20c19710fb82",
   "metadata": {},
   "outputs": [
    {
     "data": {
      "text/plain": [
       "-168.0"
      ]
     },
     "execution_count": 16,
     "metadata": {},
     "output_type": "execute_result"
    }
   ],
   "source": [
    "x/=2\n",
    "x"
   ]
  },
  {
   "cell_type": "markdown",
   "id": "a4a63c35-e5a8-4f50-963a-b7d36aeba966",
   "metadata": {},
   "source": [
    "#### 14. What is the purpose of the in keyword when used with strings and lists?"
   ]
  },
  {
   "cell_type": "markdown",
   "id": "f3ba91c8-7f12-4526-bbca-30f3f6ecec60",
   "metadata": {},
   "source": [
    "- in is used to find whether that particular element/value present in that original data or not and returns boolean value"
   ]
  },
  {
   "cell_type": "code",
   "execution_count": 17,
   "id": "5033437d-0ecc-4ccd-a756-bde7b93d679a",
   "metadata": {},
   "outputs": [
    {
     "name": "stdout",
     "output_type": "stream",
     "text": [
      "True\n",
      "False\n",
      "--------------------\n",
      "True\n",
      "False\n"
     ]
    }
   ],
   "source": [
    "#string\n",
    "s='Tharun'\n",
    "print('a'in s)\n",
    "print('b'in s)\n",
    "print('--------------------')\n",
    "#list\n",
    "l=['abc','def','xyz',12.3]\n",
    "print(12.3 in l)\n",
    "print('cde' in l)"
   ]
  },
  {
   "cell_type": "markdown",
   "id": "c448d3ba-546b-4807-945f-82438d80a1ec",
   "metadata": {},
   "source": [
    "#### 15. Discuss the use of the slice operator (:) in Python. "
   ]
  },
  {
   "cell_type": "markdown",
   "id": "05635330-05fa-4c6b-b83d-5db2b3cda493",
   "metadata": {},
   "source": [
    "- the slice operator is usedto find the sequence of elements present in a original datatypes."
   ]
  },
  {
   "cell_type": "code",
   "execution_count": 18,
   "id": "c266e57d-06fd-4d96-9d94-f45710f6e106",
   "metadata": {},
   "outputs": [
    {
     "name": "stdout",
     "output_type": "stream",
     "text": [
      "[1, 3, 54, 8496, 6]\n",
      "ythonst\n",
      "(1, 54, 26, 18, 108, 10)\n"
     ]
    }
   ],
   "source": [
    "#list\n",
    "l=[1,3,3,10.5,54,6,8496,2,6,45.6,622,30]\n",
    "print(l[0:9:2]) #[startindex:stopindex:stepsize]\n",
    "\n",
    "#string\n",
    "s='pythonstring'\n",
    "print(s[1:8])\n",
    "\n",
    "#tuple\n",
    "t=(1,52,54,3,26,18,18,1,108,218,10)\n",
    "print(t[::2]) #if we not mention start,stop it takes entire elements into consideration"
   ]
  },
  {
   "cell_type": "markdown",
   "id": "0205f78b-004a-4149-b4ae-8d38932c5494",
   "metadata": {},
   "source": [
    "#### 16. How can you use the ** operator for exponentiation in Python?"
   ]
  },
  {
   "cell_type": "markdown",
   "id": "b31690f0-c46d-4364-aa0f-03ad399e1ec3",
   "metadata": {},
   "source": [
    "- base**exponential i.e(base)(base).... exponential no.of times"
   ]
  },
  {
   "cell_type": "code",
   "execution_count": 19,
   "id": "55a8b026-6d7b-4f53-980e-e616a65e76a8",
   "metadata": {},
   "outputs": [
    {
     "data": {
      "text/plain": [
       "100000"
      ]
     },
     "execution_count": 19,
     "metadata": {},
     "output_type": "execute_result"
    }
   ],
   "source": [
    "10**5 #i.e 10*10*10*10*10"
   ]
  },
  {
   "cell_type": "markdown",
   "id": "711de378-c051-4a0a-ae1f-db5ebe78eb90",
   "metadata": {},
   "source": [
    "#### 17. Explain the concept of the // operator in Python."
   ]
  },
  {
   "cell_type": "markdown",
   "id": "7fad3e9d-e249-48f3-b362-31bd3c01a8cc",
   "metadata": {},
   "source": [
    "- // operator is the floor division (int division) which gives the o/p round up to the integer"
   ]
  },
  {
   "cell_type": "code",
   "execution_count": 20,
   "id": "709a1661-7a80-4b13-818f-60b8a965b88a",
   "metadata": {},
   "outputs": [
    {
     "data": {
      "text/plain": [
       "3.3333333333333335"
      ]
     },
     "execution_count": 20,
     "metadata": {},
     "output_type": "execute_result"
    }
   ],
   "source": [
    "10/3 #normal division"
   ]
  },
  {
   "cell_type": "code",
   "execution_count": 21,
   "id": "9bf69084-72cf-4c9e-aee4-06511c3270bf",
   "metadata": {},
   "outputs": [
    {
     "data": {
      "text/plain": [
       "3"
      ]
     },
     "execution_count": 21,
     "metadata": {},
     "output_type": "execute_result"
    }
   ],
   "source": [
    "10//3 #floor division"
   ]
  },
  {
   "cell_type": "markdown",
   "id": "472f506e-0061-4e21-8456-ee5ca2f531d3",
   "metadata": {},
   "source": [
    "#### 18. Discuss the use of the += and *= operators with examples."
   ]
  },
  {
   "cell_type": "markdown",
   "id": "c9e0c081-726c-4257-9697-415cea10bcb6",
   "metadata": {},
   "source": [
    "- these operators will do the operation and assign the value to the variable itself"
   ]
  },
  {
   "cell_type": "code",
   "execution_count": 22,
   "id": "c7eccb61-5393-487e-8ba4-8a9d1343731a",
   "metadata": {},
   "outputs": [
    {
     "data": {
      "text/plain": [
       "25"
      ]
     },
     "execution_count": 22,
     "metadata": {},
     "output_type": "execute_result"
    }
   ],
   "source": [
    "a=10\n",
    "a+=15 #adding 15 to a and assigining to a\n",
    "a"
   ]
  },
  {
   "cell_type": "code",
   "execution_count": 23,
   "id": "a7c5baf1-4791-428a-8f53-fecd84f1dc1a",
   "metadata": {},
   "outputs": [
    {
     "data": {
      "text/plain": [
       "50"
      ]
     },
     "execution_count": 23,
     "metadata": {},
     "output_type": "execute_result"
    }
   ],
   "source": [
    "b=10\n",
    "b*=5 #multiplying b with 5 ans assigning to b\n",
    "b"
   ]
  },
  {
   "cell_type": "markdown",
   "id": "68f2149b-eced-4402-8b0c-1a2714a4bd2f",
   "metadata": {},
   "source": [
    "#### 19. How do you use the not operator to negate a boolean value in Python?"
   ]
  },
  {
   "cell_type": "markdown",
   "id": "d6fec8c6-eb7d-4e28-8df6-468e7eb7335d",
   "metadata": {},
   "source": [
    "- not operator returns the negate value -(value) i.e opposite result"
   ]
  },
  {
   "cell_type": "code",
   "execution_count": 24,
   "id": "8b15fcab-4fc3-464b-893c-4da69fd457aa",
   "metadata": {},
   "outputs": [
    {
     "data": {
      "text/plain": [
       "False"
      ]
     },
     "execution_count": 24,
     "metadata": {},
     "output_type": "execute_result"
    }
   ],
   "source": [
    "a=True\n",
    "not a"
   ]
  },
  {
   "cell_type": "code",
   "execution_count": 25,
   "id": "65628db7-a075-403b-ab3e-2f939cdcb917",
   "metadata": {},
   "outputs": [
    {
     "data": {
      "text/plain": [
       "True"
      ]
     },
     "execution_count": 25,
     "metadata": {},
     "output_type": "execute_result"
    }
   ],
   "source": [
    "b=False\n",
    "not b"
   ]
  },
  {
   "cell_type": "markdown",
   "id": "9b06f279-86ab-4829-a4ea-6d24be9f35de",
   "metadata": {},
   "source": [
    "#### 20. Explain the purpose of the () operator in Python and give examples of its use."
   ]
  },
  {
   "cell_type": "markdown",
   "id": "7904ce9a-7c30-4ed1-a4fb-309a052d0ae7",
   "metadata": {},
   "source": [
    "- In Python, the () operator is used for creating tuples, specifying function arguments, and controlling the order of operations. \n",
    "- It is also used for function calls and grouping expressions. "
   ]
  },
  {
   "cell_type": "code",
   "execution_count": 26,
   "id": "a8957ec8-ae37-47e2-a41a-64afba2d5f2a",
   "metadata": {},
   "outputs": [
    {
     "name": "stdout",
     "output_type": "stream",
     "text": [
      "<class 'tuple'>\n"
     ]
    }
   ],
   "source": [
    "t=(1,2,3,4)\n",
    "print(type(t))"
   ]
  },
  {
   "cell_type": "code",
   "execution_count": 27,
   "id": "910d987b-7a52-4b28-b615-611ee0ae8ea3",
   "metadata": {},
   "outputs": [
    {
     "data": {
      "text/plain": [
       "2"
      ]
     },
     "execution_count": 27,
     "metadata": {},
     "output_type": "execute_result"
    }
   ],
   "source": [
    "a=(10+2)-10 #here the preference to the () is performed first then given preference to outside the () operators\n",
    "a"
   ]
  },
  {
   "cell_type": "markdown",
   "id": "306b654f-ebce-44ee-8edf-9eacac8688fc",
   "metadata": {},
   "source": [
    "# Section-B"
   ]
  },
  {
   "cell_type": "markdown",
   "id": "2eb64bf3-1128-4f78-b5f1-aae7139ed3a3",
   "metadata": {},
   "source": [
    "#### 1. What are the basic arithmetic operators in Python? "
   ]
  },
  {
   "cell_type": "markdown",
   "id": "f90430a8-e1e8-44e4-9330-f14d1d2b7b12",
   "metadata": {},
   "source": [
    "- Addition,Subtraction,Multiplication,Division etc... are the basic arthimetic operators in python these can be performed by special symbols like\n",
    "- Addition(+)\n",
    "- Subtraction(-)\n",
    "- Multiplication(*)\n",
    "- Division(/) etc..."
   ]
  },
  {
   "cell_type": "markdown",
   "id": "53815fc3-e42b-48d6-8a3e-abe4ad5ebeed",
   "metadata": {},
   "source": [
    "#### 2. What is the difference between integer division (//) and regular division (/)? "
   ]
  },
  {
   "cell_type": "markdown",
   "id": "5f043c2a-57ed-4c04-8f2c-4b31f52fef72",
   "metadata": {},
   "source": [
    "- integer division(//) gives the o/p in integer form by rounding up to the nearest value of Quotient\n",
    "- regualr division(/) in pyhton gives the float value as o/p"
   ]
  },
  {
   "cell_type": "markdown",
   "id": "1ac1b18d-8f39-41af-806b-05b1cd4c1985",
   "metadata": {},
   "source": [
    "#### 3. What happens when you divide a number by zero in Python?"
   ]
  },
  {
   "cell_type": "markdown",
   "id": "91f7ac41-2908-4eef-af0f-d7b09e629533",
   "metadata": {},
   "source": [
    "- whenever we try to divide an number by zero in python we are going to get ZeroDivisionError"
   ]
  },
  {
   "cell_type": "code",
   "execution_count": 28,
   "id": "f4e0a057-e3d7-4f15-a401-10c538d738c1",
   "metadata": {},
   "outputs": [
    {
     "ename": "ZeroDivisionError",
     "evalue": "division by zero",
     "output_type": "error",
     "traceback": [
      "\u001b[1;31m---------------------------------------------------------------------------\u001b[0m",
      "\u001b[1;31mZeroDivisionError\u001b[0m                         Traceback (most recent call last)",
      "Cell \u001b[1;32mIn[28], line 1\u001b[0m\n\u001b[1;32m----> 1\u001b[0m \u001b[38;5;241m10\u001b[39m\u001b[38;5;241m/\u001b[39m\u001b[38;5;241m0\u001b[39m\n",
      "\u001b[1;31mZeroDivisionError\u001b[0m: division by zero"
     ]
    }
   ],
   "source": [
    "10/0"
   ]
  },
  {
   "cell_type": "markdown",
   "id": "e9f7f087-507c-4ddf-9720-6beacf4db421",
   "metadata": {},
   "source": [
    "#### 4. How do you calculate the remainder of a division in Python?"
   ]
  },
  {
   "cell_type": "markdown",
   "id": "16adbc54-d267-48e3-b2ce-5c96e42faab5",
   "metadata": {},
   "source": [
    "- we can calculate remainder by % operator"
   ]
  },
  {
   "cell_type": "code",
   "execution_count": 29,
   "id": "22a6bf86-68bb-4b1a-83dd-904a97664187",
   "metadata": {},
   "outputs": [
    {
     "data": {
      "text/plain": [
       "1"
      ]
     },
     "execution_count": 29,
     "metadata": {},
     "output_type": "execute_result"
    }
   ],
   "source": [
    "10%3"
   ]
  },
  {
   "cell_type": "markdown",
   "id": "82911343-cfde-45be-957f-a322ed1754bb",
   "metadata": {},
   "source": [
    "#### 5. What is the order of operations (precedence) in Python expressions? "
   ]
  },
  {
   "cell_type": "markdown",
   "id": "5723b927-0e36-4dc5-bb50-8066b4894c94",
   "metadata": {},
   "source": [
    "- In Python, the order of precedence determines the sequence in which operators are evaluated in an expression.\n",
    "- PEDMAS(Paranthesis,Exponent,Division,Multiplication,Addition,Subtraction)"
   ]
  },
  {
   "cell_type": "code",
   "execution_count": 30,
   "id": "49f7b824-1279-4949-8f5b-cf69f2dcd470",
   "metadata": {},
   "outputs": [
    {
     "name": "stdout",
     "output_type": "stream",
     "text": [
      "14\n",
      "20\n"
     ]
    }
   ],
   "source": [
    "print(2+3*4) #Multiplication followed by addition\n",
    "print((2+3)*4) #parnthesis forced to addition the multiplication"
   ]
  },
  {
   "cell_type": "markdown",
   "id": "f8b1fee1-6e4e-4d66-9e4a-bcbc76c599e2",
   "metadata": {},
   "source": [
    "#### 6. What are the basic comparison operators in Python? "
   ]
  },
  {
   "cell_type": "markdown",
   "id": "d5ddb47e-c5f1-4709-9def-5e8f39fa73c7",
   "metadata": {},
   "source": [
    "- Comparision operators are used two compare between any two values and returns o/p in boolean format\n",
    "- equalsto(==)\n",
    "- notequalsto(!=)\n",
    "- greaterthan(>)\n",
    "- lessthan(<)\n",
    "- greaterthan equalto(>=)\n",
    "- lessthan equalto(<=)"
   ]
  },
  {
   "cell_type": "markdown",
   "id": "776d771b-5f7a-461d-bdff-8c7a3e4f1cba",
   "metadata": {},
   "source": [
    "#### 7. How do you compare strings using comparison operators? "
   ]
  },
  {
   "cell_type": "markdown",
   "id": "632b3a15-dca5-4fc6-8c8a-8ee7af2ffcdd",
   "metadata": {},
   "source": [
    "- strings can be compared by there alphabetical order"
   ]
  },
  {
   "cell_type": "code",
   "execution_count": 31,
   "id": "24125a8a-850b-4167-a0ae-83f289261c0e",
   "metadata": {},
   "outputs": [
    {
     "name": "stdout",
     "output_type": "stream",
     "text": [
      "True\n",
      "False\n"
     ]
    }
   ],
   "source": [
    "a='alice'\n",
    "b='bob'\n",
    "print(a<b) #lexicographically \"Alice\" comes before \"Bob\"\n",
    "print(a==b)"
   ]
  },
  {
   "cell_type": "markdown",
   "id": "741dec84-f347-46cc-bab8-31239290ff6b",
   "metadata": {},
   "source": [
    "#### 8. What is the difference between single (=) and double equal signs (==) in Python? "
   ]
  },
  {
   "cell_type": "markdown",
   "id": "3af3ff8a-f71c-4878-ae4b-cc2aa13c5f78",
   "metadata": {},
   "source": [
    "- single(=) assigns value to a variable\n",
    "- double(==) is comparision operator"
   ]
  },
  {
   "cell_type": "code",
   "execution_count": 32,
   "id": "8e5e0eed-775a-4d4b-9a34-4e922503feff",
   "metadata": {},
   "outputs": [
    {
     "name": "stdout",
     "output_type": "stream",
     "text": [
      "5\n",
      "4\n"
     ]
    }
   ],
   "source": [
    "a=5 #5 asigned to a\n",
    "b=4 #4 to b\n",
    "print(a)\n",
    "print(b)"
   ]
  },
  {
   "cell_type": "code",
   "execution_count": 33,
   "id": "90706265-35ab-4c7c-97f6-e248f6be0e0a",
   "metadata": {},
   "outputs": [
    {
     "data": {
      "text/plain": [
       "False"
      ]
     },
     "execution_count": 33,
     "metadata": {},
     "output_type": "execute_result"
    }
   ],
   "source": [
    "a==b #compares both values"
   ]
  },
  {
   "cell_type": "markdown",
   "id": "76bca1c2-ec83-40c9-9c42-0e0756358bc5",
   "metadata": {},
   "source": [
    "#### 9. Can you compare different data types using comparison operators?"
   ]
  },
  {
   "cell_type": "markdown",
   "id": "001accf3-65ed-44a8-b9f4-4877a3344b8b",
   "metadata": {},
   "source": [
    "- Yes, but it might lead to unexpected results due to implicit type conversion. \n",
    "- It's generally safer to compare values of the same type. "
   ]
  },
  {
   "cell_type": "code",
   "execution_count": 34,
   "id": "971adbfe-3b49-40eb-b97c-75135e8f259f",
   "metadata": {},
   "outputs": [
    {
     "data": {
      "text/plain": [
       "True"
      ]
     },
     "execution_count": 34,
     "metadata": {},
     "output_type": "execute_result"
    }
   ],
   "source": [
    "a=10 #int\n",
    "b= False #bool implicity converted to zero\n",
    "a>b"
   ]
  },
  {
   "cell_type": "markdown",
   "id": "d1593efb-e86b-4050-83a0-e1f896703ac4",
   "metadata": {},
   "source": [
    "#### 10. How do you check if a variable is None in Python?"
   ]
  },
  {
   "cell_type": "markdown",
   "id": "7f1f9a68-936c-4a2e-bf09-9da4622a08e7",
   "metadata": {},
   "source": [
    "- we can check by using  is None operator"
   ]
  },
  {
   "cell_type": "code",
   "execution_count": 35,
   "id": "de28a471-404a-424e-a0e4-0a1bc9367c24",
   "metadata": {},
   "outputs": [
    {
     "data": {
      "text/plain": [
       "True"
      ]
     },
     "execution_count": 35,
     "metadata": {},
     "output_type": "execute_result"
    }
   ],
   "source": [
    "a=None\n",
    "a is None"
   ]
  },
  {
   "cell_type": "markdown",
   "id": "611c8a37-1560-49b3-b081-bbee268e43fc",
   "metadata": {},
   "source": [
    "#### 11. What is an expression in Python? "
   ]
  },
  {
   "cell_type": "markdown",
   "id": "6c72e1c6-84f8-4916-846a-0b4cd6c46f6a",
   "metadata": {},
   "source": [
    "- An expression is a combination of values, variables, operators, and function calls that evaluates to a single Output. "
   ]
  },
  {
   "cell_type": "code",
   "execution_count": 36,
   "id": "c7f7fdc8-4748-4868-b663-9b7305bcf0bd",
   "metadata": {},
   "outputs": [
    {
     "data": {
      "text/plain": [
       "50"
      ]
     },
     "execution_count": 36,
     "metadata": {},
     "output_type": "execute_result"
    }
   ],
   "source": [
    "a=10+20*2 #Expression gives 50 as output\n",
    "a"
   ]
  },
  {
   "cell_type": "markdown",
   "id": "9d82f631-278a-4b25-b92c-85ccd262a651",
   "metadata": {},
   "source": [
    "#### 12. What are logical operators in Python?"
   ]
  },
  {
   "cell_type": "markdown",
   "id": "c4110a0f-f2d7-44e1-a0c6-e34186438045",
   "metadata": {},
   "source": [
    "- and,or,not are the logical operators in python"
   ]
  },
  {
   "cell_type": "markdown",
   "id": "86320087-b68a-4225-b799-0f7eeae7adaf",
   "metadata": {},
   "source": [
    "#### 13. How do you prioritize logical operations in Python expressions?"
   ]
  },
  {
   "cell_type": "code",
   "execution_count": 37,
   "id": "01c9baa5-d158-48ba-81fc-99a655e0f5cb",
   "metadata": {},
   "outputs": [],
   "source": [
    "is_student=True \n",
    "is_registered=False \n",
    "enrolled=is_student and is_registered  # False (both conditions need to be True) \n",
    "can_register=is_student or is_registered  # True (at least one condition needs to be True)  "
   ]
  },
  {
   "cell_type": "code",
   "execution_count": 38,
   "id": "94ce8c19-59b7-487d-9a5f-da994ddff53e",
   "metadata": {},
   "outputs": [
    {
     "data": {
      "text/plain": [
       "False"
      ]
     },
     "execution_count": 38,
     "metadata": {},
     "output_type": "execute_result"
    }
   ],
   "source": [
    "enrolled"
   ]
  },
  {
   "cell_type": "code",
   "execution_count": 39,
   "id": "27c9884f-5f11-4a85-a6fe-0a62cbd20b74",
   "metadata": {},
   "outputs": [
    {
     "data": {
      "text/plain": [
       "True"
      ]
     },
     "execution_count": 39,
     "metadata": {},
     "output_type": "execute_result"
    }
   ],
   "source": [
    "can_register"
   ]
  },
  {
   "cell_type": "markdown",
   "id": "ca8ca0f5-3d3c-4bee-a5a6-09059bb2f076",
   "metadata": {},
   "source": [
    "- not has the highest precedence, followed by and, and then or. Use parentheses to control the evaluation order."
   ]
  },
  {
   "cell_type": "code",
   "execution_count": 40,
   "id": "a7eab389-36f0-445e-879f-75362d9d4a47",
   "metadata": {},
   "outputs": [],
   "source": [
    "registered = (not is_registered) and is_student  # True (not first, then and)"
   ]
  },
  {
   "cell_type": "code",
   "execution_count": 41,
   "id": "e7e5dc5e-73af-4499-a13d-727672ad1200",
   "metadata": {},
   "outputs": [
    {
     "data": {
      "text/plain": [
       "True"
      ]
     },
     "execution_count": 41,
     "metadata": {},
     "output_type": "execute_result"
    }
   ],
   "source": [
    "registered"
   ]
  },
  {
   "cell_type": "markdown",
   "id": "430cc8c9-3673-4622-a570-cd7a7b37eb1c",
   "metadata": {},
   "source": [
    "#### 14. What is short-circuiting in Python's logical operators? "
   ]
  },
  {
   "cell_type": "markdown",
   "id": "02635538-e996-42f9-8df7-5d33f3fb22fd",
   "metadata": {},
   "source": [
    "- \"and\" and \"or\" operators exhibit short-circuiting behavior. The evaluation stops as soon as the result is determined, skipping the remaining operand evaluation if unnecessary. "
   ]
  },
  {
   "cell_type": "markdown",
   "id": "32cf57b3-13fd-44ec-b44b-f44e68c33978",
   "metadata": {},
   "source": [
    "#### 15. How can short-circuiting be useful?"
   ]
  },
  {
   "cell_type": "markdown",
   "id": "9b0cdb9f-4f45-4f7e-8ce0-ee834a542e3b",
   "metadata": {},
   "source": [
    "- it can improve efficiency by avoiding unnecessary calculations."
   ]
  },
  {
   "cell_type": "code",
   "execution_count": 42,
   "id": "55ac90c4-91da-47ee-8644-a9b11dfeed3c",
   "metadata": {},
   "outputs": [
    {
     "name": "stdout",
     "output_type": "stream",
     "text": [
      "False\n"
     ]
    }
   ],
   "source": [
    "x=0 # here x>0 gives false by which the o/p is false which also stops further execution as result obtained\n",
    "y=30 # which can also prevent ZeroDivisionError\n",
    "print(x>0 and y/x>5)"
   ]
  },
  {
   "cell_type": "markdown",
   "id": "1ce0909f-67d0-4883-939c-e52b8ddf8b3f",
   "metadata": {},
   "source": [
    "#### 16. How can you control the order of operations in a complex expression?"
   ]
  },
  {
   "cell_type": "markdown",
   "id": "15698393-59e6-4563-9a09-6d908e3c5c32",
   "metadata": {},
   "source": [
    "- we can add \"paranthesis\" for an complex expression to override the execution of PEDMAS to run the expression in paranthesis"
   ]
  },
  {
   "cell_type": "code",
   "execution_count": 43,
   "id": "a99ee7b7-ff6f-4bd2-a244-ef52c4384a2b",
   "metadata": {},
   "outputs": [],
   "source": [
    "x=(10+20)*5 # () tries to execute the expression inside it and then continues the remaining expression\n",
    "y=10+20*5"
   ]
  },
  {
   "cell_type": "code",
   "execution_count": 44,
   "id": "152427b7-a806-4ad7-be90-ba5d9e4e3690",
   "metadata": {},
   "outputs": [
    {
     "name": "stdout",
     "output_type": "stream",
     "text": [
      "150\n",
      "110\n"
     ]
    }
   ],
   "source": [
    "print(x)\n",
    "print(y)"
   ]
  },
  {
   "cell_type": "markdown",
   "id": "751cb2a0-838b-4e25-9c5e-79932df03e3c",
   "metadata": {},
   "source": [
    "#### 17. What happens if you accidentally omit parentheses in an expression?"
   ]
  },
  {
   "cell_type": "markdown",
   "id": "6a9a3cba-2e37-4053-9996-e60e57a5444e",
   "metadata": {},
   "source": [
    "- Without parentheses, Python evaluates the expression based on operator precedence, which might lead to unexpected results if different from our intention."
   ]
  },
  {
   "cell_type": "markdown",
   "id": "46493360-9ece-48c4-9e45-3b7baf267475",
   "metadata": {},
   "source": [
    "#### 18.  How can you improve the readability of complex expressions?"
   ]
  },
  {
   "cell_type": "markdown",
   "id": "c43d76eb-48f4-40c6-acd7-647bff82dec1",
   "metadata": {},
   "source": [
    "- Break down complex expressions into smaller, well-parenthesized sub-expressions, adding comments to explain the logic behind the calculations. This enhances code clarity and maintainability. "
   ]
  },
  {
   "cell_type": "markdown",
   "id": "d1da966d-d211-4b0a-bbf1-6d51bece9c76",
   "metadata": {},
   "source": [
    "#### 19. What are augmented assignment operators in Python? "
   ]
  },
  {
   "cell_type": "markdown",
   "id": "dc3f816a-42e7-4488-a5e0-d62ab2259d1c",
   "metadata": {},
   "source": [
    "- These operators combine assignment and an operation in one step. For example, x += 5 is equivalent to x = x + 5. They exist for most arithmetic operators (+=, -=, *=, etc.). "
   ]
  },
  {
   "cell_type": "markdown",
   "id": "20172d3e-1666-4fc8-9dde-c19541bc38d3",
   "metadata": {},
   "source": [
    "#### 20. What are some best practices for using operators and expressions in Python?"
   ]
  },
  {
   "cell_type": "markdown",
   "id": "4f4bcac4-2bdb-4f20-87c7-d179b9722e0e",
   "metadata": {},
   "source": [
    "- Use clear and descriptive variable names. \n",
    "- Consider readability and maintainability when writing complex expressions. \n",
    "- Utilize parentheses explicitly to control evaluation order if necessary. \n",
    "- Be cautious of implicit type conversions that might lead to unexpected results."
   ]
  }
 ],
 "metadata": {
  "kernelspec": {
   "display_name": "Python 3 (ipykernel)",
   "language": "python",
   "name": "python3"
  },
  "language_info": {
   "codemirror_mode": {
    "name": "ipython",
    "version": 3
   },
   "file_extension": ".py",
   "mimetype": "text/x-python",
   "name": "python",
   "nbconvert_exporter": "python",
   "pygments_lexer": "ipython3",
   "version": "3.12.7"
  }
 },
 "nbformat": 4,
 "nbformat_minor": 5
}
