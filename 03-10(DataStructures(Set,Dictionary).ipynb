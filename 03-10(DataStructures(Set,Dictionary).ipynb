{
 "cells": [
  {
   "cell_type": "markdown",
   "id": "6bc343c5-e7e2-4dd2-8e1e-dc767ef2a472",
   "metadata": {},
   "source": [
    "### Subset-Superset-Disjoint"
   ]
  },
  {
   "cell_type": "markdown",
   "id": "4de1f174-8b64-41a1-b470-6bf8b07a6993",
   "metadata": {},
   "source": [
    "#### Subset\n",
    "- Test whether every element in the set is in other."
   ]
  },
  {
   "cell_type": "code",
   "execution_count": 1,
   "id": "285e0483-f573-4e51-b930-d7797bce74a4",
   "metadata": {},
   "outputs": [],
   "source": [
    "a={1,2,3,4,5,6,7,8,9}\n",
    "b={3,4,5,6,7,8}\n",
    "c={10,20,30,40}"
   ]
  },
  {
   "cell_type": "code",
   "execution_count": 2,
   "id": "21d222ec-2eb0-4a8c-b438-ca8a073f2a48",
   "metadata": {},
   "outputs": [
    {
     "data": {
      "text/plain": [
       "True"
      ]
     },
     "execution_count": 2,
     "metadata": {},
     "output_type": "execute_result"
    }
   ],
   "source": [
    "b.issubset(a) #all elements in b contains in a"
   ]
  },
  {
   "cell_type": "code",
   "execution_count": 3,
   "id": "fb02d735-5f9b-4d74-9ddf-56b341b56df4",
   "metadata": {},
   "outputs": [
    {
     "data": {
      "text/plain": [
       "False"
      ]
     },
     "execution_count": 3,
     "metadata": {},
     "output_type": "execute_result"
    }
   ],
   "source": [
    "a.issubset(b) #as a contains more elements in b"
   ]
  },
  {
   "cell_type": "markdown",
   "id": "3e3ff735-a61d-43be-b64f-6b260b95d3e1",
   "metadata": {},
   "source": [
    "#### Superset\n",
    "- Test whether every element in other is in the set."
   ]
  },
  {
   "cell_type": "code",
   "execution_count": 4,
   "id": "2029db3d-9e15-4d90-8f93-7596ac291d3c",
   "metadata": {},
   "outputs": [
    {
     "data": {
      "text/plain": [
       "True"
      ]
     },
     "execution_count": 4,
     "metadata": {},
     "output_type": "execute_result"
    }
   ],
   "source": [
    "a.issuperset(b) #all elements in b also contains in a"
   ]
  },
  {
   "cell_type": "code",
   "execution_count": 5,
   "id": "b017890b-d633-4b09-a523-8dc2495b33ca",
   "metadata": {},
   "outputs": [
    {
     "data": {
      "text/plain": [
       "False"
      ]
     },
     "execution_count": 5,
     "metadata": {},
     "output_type": "execute_result"
    }
   ],
   "source": [
    "b.issuperset(c) #no element of c contains in b"
   ]
  },
  {
   "cell_type": "markdown",
   "id": "3437e241-c7d0-4b32-9e7e-634f64cb183f",
   "metadata": {},
   "source": [
    "#### Disjoint\n",
    "- Return True if two sets have a null intersection."
   ]
  },
  {
   "cell_type": "code",
   "execution_count": 6,
   "id": "54560270-ce4e-491a-896c-58575d84818a",
   "metadata": {},
   "outputs": [
    {
     "data": {
      "text/plain": [
       "True"
      ]
     },
     "execution_count": 6,
     "metadata": {},
     "output_type": "execute_result"
    }
   ],
   "source": [
    "c.isdisjoint(b) #no common elemenntss"
   ]
  },
  {
   "cell_type": "code",
   "execution_count": 7,
   "id": "0217d98e-8571-4d19-b35a-4aa4279bd6b4",
   "metadata": {},
   "outputs": [
    {
     "data": {
      "text/plain": [
       "True"
      ]
     },
     "execution_count": 7,
     "metadata": {},
     "output_type": "execute_result"
    }
   ],
   "source": [
    "c.isdisjoint(a) #no common values in c&a"
   ]
  },
  {
   "cell_type": "code",
   "execution_count": 8,
   "id": "c1982169-d651-4577-923d-0e7d3be454d4",
   "metadata": {},
   "outputs": [
    {
     "data": {
      "text/plain": [
       "False"
      ]
     },
     "execution_count": 8,
     "metadata": {},
     "output_type": "execute_result"
    }
   ],
   "source": [
    "a.isdisjoint(b) #a&b contains common values else disjoint is false"
   ]
  },
  {
   "cell_type": "markdown",
   "id": "1cb57eb3-a1cb-4493-8181-4a3a4008b38c",
   "metadata": {},
   "source": [
    "### built in functions"
   ]
  },
  {
   "cell_type": "code",
   "execution_count": 9,
   "id": "b141601f-c355-4e33-925f-4fbb71c0e67e",
   "metadata": {},
   "outputs": [
    {
     "data": {
      "text/plain": [
       "{1, 2, 3, 4, 5, 6, 7, 8, 9}"
      ]
     },
     "execution_count": 9,
     "metadata": {},
     "output_type": "execute_result"
    }
   ],
   "source": [
    "a"
   ]
  },
  {
   "cell_type": "code",
   "execution_count": 10,
   "id": "cc2224f6-b934-4a08-b675-1c4bcbe3c4cd",
   "metadata": {},
   "outputs": [
    {
     "data": {
      "text/plain": [
       "45"
      ]
     },
     "execution_count": 10,
     "metadata": {},
     "output_type": "execute_result"
    }
   ],
   "source": [
    "sum(a) #total"
   ]
  },
  {
   "cell_type": "code",
   "execution_count": 11,
   "id": "3d5abd1e-4868-4d9a-9626-ec2d0e171e3b",
   "metadata": {},
   "outputs": [
    {
     "data": {
      "text/plain": [
       "9"
      ]
     },
     "execution_count": 11,
     "metadata": {},
     "output_type": "execute_result"
    }
   ],
   "source": [
    "max(a) #max value"
   ]
  },
  {
   "cell_type": "code",
   "execution_count": 12,
   "id": "ca29b003-f101-4c2b-8ab8-463c13369ebd",
   "metadata": {},
   "outputs": [
    {
     "data": {
      "text/plain": [
       "1"
      ]
     },
     "execution_count": 12,
     "metadata": {},
     "output_type": "execute_result"
    }
   ],
   "source": [
    "min(a) #min value"
   ]
  },
  {
   "cell_type": "code",
   "execution_count": 13,
   "id": "6945c61d-f00b-40cb-8149-f2c7bfb71b63",
   "metadata": {},
   "outputs": [
    {
     "data": {
      "text/plain": [
       "9"
      ]
     },
     "execution_count": 13,
     "metadata": {},
     "output_type": "execute_result"
    }
   ],
   "source": [
    "len(a) #length"
   ]
  },
  {
   "cell_type": "code",
   "execution_count": 14,
   "id": "ca9b1f4f-b79c-49d2-ac26-ddd9f221d984",
   "metadata": {},
   "outputs": [
    {
     "data": {
      "text/plain": [
       "list"
      ]
     },
     "execution_count": 14,
     "metadata": {},
     "output_type": "execute_result"
    }
   ],
   "source": [
    "b=list(a) #type cast\n",
    "type(b)"
   ]
  },
  {
   "cell_type": "code",
   "execution_count": 15,
   "id": "4c80145c-8d5e-4c44-b819-5d5fa57b2114",
   "metadata": {},
   "outputs": [
    {
     "data": {
      "text/plain": [
       "[(0, 1), (1, 2), (2, 3), (3, 4), (4, 5), (5, 6), (6, 7), (7, 8), (8, 9)]"
      ]
     },
     "execution_count": 15,
     "metadata": {},
     "output_type": "execute_result"
    }
   ],
   "source": [
    "list(enumerate(b))"
   ]
  },
  {
   "cell_type": "code",
   "execution_count": 16,
   "id": "d6e3e93d-b6d7-4219-9a13-32d138ed82a7",
   "metadata": {},
   "outputs": [
    {
     "data": {
      "text/plain": [
       "tuple"
      ]
     },
     "execution_count": 16,
     "metadata": {},
     "output_type": "execute_result"
    }
   ],
   "source": [
    "c=tuple(a)\n",
    "type(c)"
   ]
  },
  {
   "cell_type": "code",
   "execution_count": 17,
   "id": "08aca451-1a0d-4c0b-a1fb-2a60846edc84",
   "metadata": {},
   "outputs": [
    {
     "data": {
      "text/plain": [
       "((0, 1), (1, 2), (2, 3), (3, 4), (4, 5), (5, 6), (6, 7), (7, 8), (8, 9))"
      ]
     },
     "execution_count": 17,
     "metadata": {},
     "output_type": "execute_result"
    }
   ],
   "source": [
    "tuple(enumerate(c))"
   ]
  },
  {
   "cell_type": "code",
   "execution_count": 18,
   "id": "d770de44-2e41-4695-8747-fe7827969255",
   "metadata": {},
   "outputs": [
    {
     "data": {
      "text/plain": [
       "{1, 2, 3, 4, 5, 6, 7, 8, 9}"
      ]
     },
     "execution_count": 18,
     "metadata": {},
     "output_type": "execute_result"
    }
   ],
   "source": [
    "a"
   ]
  },
  {
   "cell_type": "code",
   "execution_count": 19,
   "id": "a851b129-3712-4620-a6f4-2fdfc9f1d98d",
   "metadata": {},
   "outputs": [
    {
     "data": {
      "text/plain": [
       "[9, 8, 7, 6, 5, 4, 3, 2, 1]"
      ]
     },
     "execution_count": 19,
     "metadata": {},
     "output_type": "execute_result"
    }
   ],
   "source": [
    "sorted(a,reverse=True)"
   ]
  },
  {
   "cell_type": "markdown",
   "id": "69ed8850-14a8-4055-9a0d-6bb6fb143f2f",
   "metadata": {},
   "source": [
    "# Dictionary"
   ]
  },
  {
   "cell_type": "code",
   "execution_count": 20,
   "id": "068a0520-e557-4f2e-aacc-6031c61c01c9",
   "metadata": {},
   "outputs": [],
   "source": [
    "d={} #empty dict"
   ]
  },
  {
   "cell_type": "code",
   "execution_count": 21,
   "id": "ae37cdb4-2fc1-4477-801e-370ee49a0c1b",
   "metadata": {},
   "outputs": [
    {
     "data": {
      "text/plain": [
       "dict"
      ]
     },
     "execution_count": 21,
     "metadata": {},
     "output_type": "execute_result"
    }
   ],
   "source": [
    "type(d)"
   ]
  },
  {
   "cell_type": "code",
   "execution_count": 22,
   "id": "82c88e36-f8fb-4e02-b6fb-fdcc7500b780",
   "metadata": {},
   "outputs": [
    {
     "data": {
      "text/plain": [
       "{1: 'one', 2: 'two', 3: 'three'}"
      ]
     },
     "execution_count": 22,
     "metadata": {},
     "output_type": "execute_result"
    }
   ],
   "source": [
    "d_I={1:'one',2:'two',3:'three'} #dictionary with integer keys\n",
    "d_I"
   ]
  },
  {
   "cell_type": "code",
   "execution_count": 23,
   "id": "db75367a-8847-45bd-adb4-07ee7220a514",
   "metadata": {},
   "outputs": [
    {
     "data": {
      "text/plain": [
       "{1: 'one', 2: 'two', 3: 'three'}"
      ]
     },
     "execution_count": 23,
     "metadata": {},
     "output_type": "execute_result"
    }
   ],
   "source": [
    "d2=dict({1: 'one', 2: 'two', 3: 'three'}) #using dict()\n",
    "d2"
   ]
  },
  {
   "cell_type": "code",
   "execution_count": 24,
   "id": "67243d0c-c964-451e-8f63-8225d0cc1740",
   "metadata": {},
   "outputs": [
    {
     "data": {
      "text/plain": [
       "{'A': 'one', 'B': 'two', 'C': 'three'}"
      ]
     },
     "execution_count": 24,
     "metadata": {},
     "output_type": "execute_result"
    }
   ],
   "source": [
    "d_C={'A':'one','B':'two','C':'three'} #dictionary with char keys\n",
    "d_C"
   ]
  },
  {
   "cell_type": "code",
   "execution_count": 25,
   "id": "d4740e2b-4ca0-4362-8314-b3537e9234d6",
   "metadata": {},
   "outputs": [
    {
     "data": {
      "text/plain": [
       "{1: 'one', 'B': 'two', 'C': 3}"
      ]
     },
     "execution_count": 25,
     "metadata": {},
     "output_type": "execute_result"
    }
   ],
   "source": [
    "d_M={1:'one','B':'two','C':3} #mixedd keyys\n",
    "d_M"
   ]
  },
  {
   "cell_type": "markdown",
   "id": "3fdf752c-01ef-4581-9704-535ed86400c3",
   "metadata": {},
   "source": [
    "##### Keys()"
   ]
  },
  {
   "cell_type": "code",
   "execution_count": 26,
   "id": "eb08ab33-b1cd-47da-8012-cfb7cf885466",
   "metadata": {},
   "outputs": [
    {
     "data": {
      "text/plain": [
       "{1: 'one', 2: 'two', 3: 'three'}"
      ]
     },
     "execution_count": 26,
     "metadata": {},
     "output_type": "execute_result"
    }
   ],
   "source": [
    "d2"
   ]
  },
  {
   "cell_type": "code",
   "execution_count": 27,
   "id": "09e296c2-9259-42e7-bf5a-1c7526e74f6d",
   "metadata": {},
   "outputs": [
    {
     "data": {
      "text/plain": [
       "dict_keys([1, 2, 3])"
      ]
     },
     "execution_count": 27,
     "metadata": {},
     "output_type": "execute_result"
    }
   ],
   "source": [
    "d2.keys() #returns keys"
   ]
  },
  {
   "cell_type": "markdown",
   "id": "dc5d38e9-c8ab-42be-8508-deb4393afe06",
   "metadata": {},
   "source": [
    "##### Values()"
   ]
  },
  {
   "cell_type": "code",
   "execution_count": 28,
   "id": "c498cad6-4d26-435b-8555-e52ca1c6e9f0",
   "metadata": {},
   "outputs": [
    {
     "data": {
      "text/plain": [
       "dict_values(['one', 'two', 'three'])"
      ]
     },
     "execution_count": 28,
     "metadata": {},
     "output_type": "execute_result"
    }
   ],
   "source": [
    "d2.values() #returns values"
   ]
  },
  {
   "cell_type": "markdown",
   "id": "0a39070a-2c01-4a66-8237-ffb63813b77d",
   "metadata": {},
   "source": [
    "##### items()"
   ]
  },
  {
   "cell_type": "code",
   "execution_count": 29,
   "id": "1bc4e40b-0e5e-4978-8beb-50f696215e87",
   "metadata": {},
   "outputs": [
    {
     "data": {
      "text/plain": [
       "dict_items([(1, 'one'), (2, 'two'), (3, 'three')])"
      ]
     },
     "execution_count": 29,
     "metadata": {},
     "output_type": "execute_result"
    }
   ],
   "source": [
    "d2.items() #key-value pairs"
   ]
  },
  {
   "cell_type": "markdown",
   "id": "ff69af84-23cd-488b-b2e2-07273d42a166",
   "metadata": {},
   "source": [
    "##### values with list"
   ]
  },
  {
   "cell_type": "code",
   "execution_count": 30,
   "id": "d7d4acce-633d-4b33-b379-5b9c1cbe3d45",
   "metadata": {},
   "outputs": [
    {
     "data": {
      "text/plain": [
       "{'a': 'one', 'b': 'two', 'c': ['name', 'age', 'num']}"
      ]
     },
     "execution_count": 30,
     "metadata": {},
     "output_type": "execute_result"
    }
   ],
   "source": [
    "d3={'a':'one','b':'two','c':['name','age','num']}\n",
    "d3"
   ]
  },
  {
   "cell_type": "code",
   "execution_count": 31,
   "id": "d4b4d976-fada-44fc-aa9f-ec0e4ef53f3e",
   "metadata": {},
   "outputs": [
    {
     "data": {
      "text/plain": [
       "dict_values(['one', 'two', ['name', 'age', 'num']])"
      ]
     },
     "execution_count": 31,
     "metadata": {},
     "output_type": "execute_result"
    }
   ],
   "source": [
    "d3.values()"
   ]
  },
  {
   "cell_type": "markdown",
   "id": "2c21fd78-20ab-4703-9b3e-548ec55a779b",
   "metadata": {},
   "source": [
    "##### values with tuple"
   ]
  },
  {
   "cell_type": "code",
   "execution_count": 32,
   "id": "6885232e-a2e6-405c-9222-3ee2fd806c80",
   "metadata": {},
   "outputs": [],
   "source": [
    "d3.update({'d':('tharun','xx','xxxxxxxxxx')}) #update()"
   ]
  },
  {
   "cell_type": "code",
   "execution_count": 33,
   "id": "c3c9db28-b3e7-40ed-afd4-d1b25a731b53",
   "metadata": {},
   "outputs": [
    {
     "data": {
      "text/plain": [
       "{'a': 'one',\n",
       " 'b': 'two',\n",
       " 'c': ['name', 'age', 'num'],\n",
       " 'd': ('tharun', 'xx', 'xxxxxxxxxx')}"
      ]
     },
     "execution_count": 33,
     "metadata": {},
     "output_type": "execute_result"
    }
   ],
   "source": [
    "d3"
   ]
  },
  {
   "cell_type": "code",
   "execution_count": 34,
   "id": "5a020dcf-efad-45a5-b93b-e793ae80c121",
   "metadata": {},
   "outputs": [
    {
     "data": {
      "text/plain": [
       "dict_values(['one', 'two', ['name', 'age', 'num'], ('tharun', 'xx', 'xxxxxxxxxx')])"
      ]
     },
     "execution_count": 34,
     "metadata": {},
     "output_type": "execute_result"
    }
   ],
   "source": [
    "d3.values()"
   ]
  },
  {
   "cell_type": "markdown",
   "id": "0ac29fa4-4998-474e-b065-f389ed71352c",
   "metadata": {},
   "source": [
    "##### Sequence of keys-Values"
   ]
  },
  {
   "cell_type": "code",
   "execution_count": 35,
   "id": "be04d80f-3fe7-49ca-8ef3-b4d5fe91a94d",
   "metadata": {},
   "outputs": [
    {
     "data": {
      "text/plain": [
       "{'a': None, 'c': None, 'd': None, 'b': None}"
      ]
     },
     "execution_count": 35,
     "metadata": {},
     "output_type": "execute_result"
    }
   ],
   "source": [
    "keys={'a','b','c','d'}\n",
    "d4=dict.fromkeys(keys) # Create a new dictionary with keys from iterable and values set to value.\n",
    "d4"
   ]
  },
  {
   "cell_type": "code",
   "execution_count": 36,
   "id": "00449fd9-22c7-4ac4-a438-96f4ec36e78d",
   "metadata": {},
   "outputs": [
    {
     "data": {
      "text/plain": [
       "{'a': {'values..'}, 'c': {'values..'}, 'd': {'values..'}, 'b': {'values..'}}"
      ]
     },
     "execution_count": 36,
     "metadata": {},
     "output_type": "execute_result"
    }
   ],
   "source": [
    "value={'values..'}\n",
    "d4=dict.fromkeys(keys,value) #value added to all keys\n",
    "d4"
   ]
  },
  {
   "cell_type": "code",
   "execution_count": 37,
   "id": "72c628a0-4afc-4ed8-9444-216b42338488",
   "metadata": {},
   "outputs": [
    {
     "data": {
      "text/plain": [
       "{'a': ['list..'], 'c': ['list..'], 'd': ['list..'], 'b': ['list..']}"
      ]
     },
     "execution_count": 37,
     "metadata": {},
     "output_type": "execute_result"
    }
   ],
   "source": [
    "value=['list..']\n",
    "d4=dict.fromkeys(keys,value) \n",
    "d4"
   ]
  },
  {
   "cell_type": "code",
   "execution_count": 38,
   "id": "6d968ddc-7b1a-4d38-8646-fd329e4f4dc6",
   "metadata": {},
   "outputs": [
    {
     "data": {
      "text/plain": [
       "{'a': ['list..', 'new'],\n",
       " 'c': ['list..', 'new'],\n",
       " 'd': ['list..', 'new'],\n",
       " 'b': ['list..', 'new']}"
      ]
     },
     "execution_count": 38,
     "metadata": {},
     "output_type": "execute_result"
    }
   ],
   "source": [
    "value.append('new')\n",
    "d4"
   ]
  },
  {
   "cell_type": "markdown",
   "id": "571d6fe4-3161-4935-a89e-6a1dd54c3be6",
   "metadata": {},
   "source": [
    "#### Accessing items"
   ]
  },
  {
   "cell_type": "code",
   "execution_count": 39,
   "id": "c7ad8585-88a1-443e-a529-d8ef37ab7d02",
   "metadata": {},
   "outputs": [
    {
     "data": {
      "text/plain": [
       "{'a': 'one',\n",
       " 'b': 'two',\n",
       " 'c': ['name', 'age', 'num'],\n",
       " 'd': ('tharun', 'xx', 'xxxxxxxxxx')}"
      ]
     },
     "execution_count": 39,
     "metadata": {},
     "output_type": "execute_result"
    }
   ],
   "source": [
    "d3"
   ]
  },
  {
   "cell_type": "code",
   "execution_count": 40,
   "id": "67e4d45d-feaa-4c47-a771-03b4b638ba61",
   "metadata": {},
   "outputs": [
    {
     "data": {
      "text/plain": [
       "['name', 'age', 'num']"
      ]
     },
     "execution_count": 40,
     "metadata": {},
     "output_type": "execute_result"
    }
   ],
   "source": [
    "d3['c'] #using keys"
   ]
  },
  {
   "cell_type": "code",
   "execution_count": 41,
   "id": "384dc05d-e722-457b-b14e-080fe026bd1b",
   "metadata": {},
   "outputs": [
    {
     "data": {
      "text/plain": [
       "['name', 'age', 'num']"
      ]
     },
     "execution_count": 41,
     "metadata": {},
     "output_type": "execute_result"
    }
   ],
   "source": [
    "#get()\n",
    "d3.get('c') #Return the value for key if key is in the dictionary, else default."
   ]
  },
  {
   "cell_type": "markdown",
   "id": "8882e3f5-9ffc-49d4-b652-5f20bac510c7",
   "metadata": {},
   "source": [
    "#### Add,Remove,Change items"
   ]
  },
  {
   "cell_type": "markdown",
   "id": "7c599e64-8093-49b4-a2c6-79393cf5d2f3",
   "metadata": {},
   "source": [
    "##### Changing"
   ]
  },
  {
   "cell_type": "code",
   "execution_count": 42,
   "id": "c22a208e-56b7-427e-8dc0-fa74cbb0d953",
   "metadata": {},
   "outputs": [
    {
     "data": {
      "text/plain": [
       "{'a': 'one',\n",
       " 'b': 'two',\n",
       " 'c': ['name', 'age', 'num'],\n",
       " 'd': ('tharun', 'xx', 'xxxxxxxxxx')}"
      ]
     },
     "execution_count": 42,
     "metadata": {},
     "output_type": "execute_result"
    }
   ],
   "source": [
    "d3"
   ]
  },
  {
   "cell_type": "code",
   "execution_count": 43,
   "id": "3db992cc-6f0c-4189-b39a-a70a5688b5ce",
   "metadata": {},
   "outputs": [
    {
     "data": {
      "text/plain": [
       "{'a': 'one',\n",
       " 'b': 'two',\n",
       " 'c': ['name', 'age', 'num'],\n",
       " 'd': ('ganesh', 'zz', 'zzzzzzzzzzz')}"
      ]
     },
     "execution_count": 43,
     "metadata": {},
     "output_type": "execute_result"
    }
   ],
   "source": [
    "d3['d']=('ganesh','zz','zzzzzzzzzzz') #changing key 'd'\n",
    "d3"
   ]
  },
  {
   "cell_type": "code",
   "execution_count": 44,
   "id": "2246a3d0-7d3b-49a6-8424-508ff5b10069",
   "metadata": {},
   "outputs": [
    {
     "data": {
      "text/plain": [
       "{'a': 'one',\n",
       " 'b': 'two',\n",
       " 'c': ['name', 'age', 'num'],\n",
       " 'd': ('varun', 'ee', 'eeeeeeeeeeee')}"
      ]
     },
     "execution_count": 44,
     "metadata": {},
     "output_type": "execute_result"
    }
   ],
   "source": [
    "new={'d':('varun','ee','eeeeeeeeeeee')}\n",
    "d3.update(new) #using upate()\n",
    "d3"
   ]
  },
  {
   "cell_type": "markdown",
   "id": "c8001875-5e18-48b3-ae2a-5497ed3f936c",
   "metadata": {},
   "source": [
    "##### Adding"
   ]
  },
  {
   "cell_type": "code",
   "execution_count": 45,
   "id": "8b7c8496-5857-4457-aaa5-ba35dffc93b7",
   "metadata": {},
   "outputs": [
    {
     "data": {
      "text/plain": [
       "{'a': 'one',\n",
       " 'b': 'two',\n",
       " 'c': ['name', 'age', 'num'],\n",
       " 'd': ('varun', 'ee', 'eeeeeeeeeeee'),\n",
       " 'e': ('hemanth', 'df', 'dfdfdfdfdfdf')}"
      ]
     },
     "execution_count": 45,
     "metadata": {},
     "output_type": "execute_result"
    }
   ],
   "source": [
    "d3['e']=('hemanth','df','dfdfdfdfdfdf')\n",
    "d3"
   ]
  },
  {
   "cell_type": "markdown",
   "id": "b768e42d-1d05-4ef7-9eee-f86b68e53746",
   "metadata": {},
   "source": [
    "##### Removingg"
   ]
  },
  {
   "cell_type": "code",
   "execution_count": 46,
   "id": "b0eb4395-37f4-4e66-889b-d6d303389334",
   "metadata": {},
   "outputs": [
    {
     "data": {
      "text/plain": [
       "('hemanth', 'df', 'dfdfdfdfdfdf')"
      ]
     },
     "execution_count": 46,
     "metadata": {},
     "output_type": "execute_result"
    }
   ],
   "source": [
    "d3.pop('e') #pop()"
   ]
  },
  {
   "cell_type": "code",
   "execution_count": 47,
   "id": "b3634ca6-9c92-4856-87d7-60c1d905c8f3",
   "metadata": {},
   "outputs": [
    {
     "data": {
      "text/plain": [
       "{'a': 'one',\n",
       " 'b': 'two',\n",
       " 'c': ['name', 'age', 'num'],\n",
       " 'd': ('varun', 'ee', 'eeeeeeeeeeee')}"
      ]
     },
     "execution_count": 47,
     "metadata": {},
     "output_type": "execute_result"
    }
   ],
   "source": [
    "d3"
   ]
  },
  {
   "cell_type": "code",
   "execution_count": 48,
   "id": "e619a034-897c-41ce-b40c-992ef81604da",
   "metadata": {},
   "outputs": [
    {
     "data": {
      "text/plain": [
       "('d', ('varun', 'ee', 'eeeeeeeeeeee'))"
      ]
     },
     "execution_count": 48,
     "metadata": {},
     "output_type": "execute_result"
    }
   ],
   "source": [
    "d3.popitem() #LIFO (last-in, first-out) order"
   ]
  },
  {
   "cell_type": "code",
   "execution_count": 49,
   "id": "bc8fa11b-9d31-4ed3-b6d4-b366c021333b",
   "metadata": {},
   "outputs": [
    {
     "data": {
      "text/plain": [
       "{'a': 'one', 'b': 'two', 'c': ['name', 'age', 'num']}"
      ]
     },
     "execution_count": 49,
     "metadata": {},
     "output_type": "execute_result"
    }
   ],
   "source": [
    "d3"
   ]
  },
  {
   "cell_type": "code",
   "execution_count": 50,
   "id": "1332dce3-e404-413e-be9f-678ef93f82f4",
   "metadata": {},
   "outputs": [
    {
     "data": {
      "text/plain": [
       "{'a': 'one', 'b': 'two'}"
      ]
     },
     "execution_count": 50,
     "metadata": {},
     "output_type": "execute_result"
    }
   ],
   "source": [
    "#using del\n",
    "del(d3['c'])\n",
    "d3"
   ]
  },
  {
   "cell_type": "code",
   "execution_count": 51,
   "id": "0f4adb08-ad04-4ec1-b2c4-390628e758d5",
   "metadata": {},
   "outputs": [],
   "source": [
    "d3.clear() # Remove all items from D."
   ]
  },
  {
   "cell_type": "code",
   "execution_count": 52,
   "id": "66418e32-7367-4ef7-99f9-95badd96de4e",
   "metadata": {},
   "outputs": [
    {
     "data": {
      "text/plain": [
       "{}"
      ]
     },
     "execution_count": 52,
     "metadata": {},
     "output_type": "execute_result"
    }
   ],
   "source": [
    "d3"
   ]
  },
  {
   "cell_type": "code",
   "execution_count": 53,
   "id": "d119b429-5e82-4dc8-b6cd-0809634df9a9",
   "metadata": {},
   "outputs": [
    {
     "ename": "NameError",
     "evalue": "name 'd3' is not defined",
     "output_type": "error",
     "traceback": [
      "\u001b[1;31m---------------------------------------------------------------------------\u001b[0m",
      "\u001b[1;31mNameError\u001b[0m                                 Traceback (most recent call last)",
      "Cell \u001b[1;32mIn[53], line 2\u001b[0m\n\u001b[0;32m      1\u001b[0m \u001b[38;5;28;01mdel\u001b[39;00m(d3)\n\u001b[1;32m----> 2\u001b[0m d3\n",
      "\u001b[1;31mNameError\u001b[0m: name 'd3' is not defined"
     ]
    }
   ],
   "source": [
    "del(d3)\n",
    "d3"
   ]
  },
  {
   "cell_type": "markdown",
   "id": "b9a5a545-e1ea-4725-be77-3a08a0010c91",
   "metadata": {},
   "source": [
    "#### Copy Dictionary"
   ]
  },
  {
   "cell_type": "code",
   "execution_count": 54,
   "id": "b4264f4f-daf2-485f-a860-ea6d51d99efb",
   "metadata": {},
   "outputs": [
    {
     "data": {
      "text/plain": [
       "{1: 'one', 2: 'two', 3: 'three'}"
      ]
     },
     "execution_count": 54,
     "metadata": {},
     "output_type": "execute_result"
    }
   ],
   "source": [
    "d_I"
   ]
  },
  {
   "cell_type": "code",
   "execution_count": 55,
   "id": "b4f376e6-a61a-4805-a3cf-67322b560701",
   "metadata": {},
   "outputs": [
    {
     "data": {
      "text/plain": [
       "{1: 'one', 2: 'two', 3: 'three'}"
      ]
     },
     "execution_count": 55,
     "metadata": {},
     "output_type": "execute_result"
    }
   ],
   "source": [
    "d5=d_I #creates new referenece 'd5'\n",
    "d5"
   ]
  },
  {
   "cell_type": "code",
   "execution_count": 56,
   "id": "ed23b7a7-14ac-4443-a59d-aefef6a99867",
   "metadata": {},
   "outputs": [
    {
     "data": {
      "text/plain": [
       "(1827288504192, 1827288504192)"
      ]
     },
     "execution_count": 56,
     "metadata": {},
     "output_type": "execute_result"
    }
   ],
   "source": [
    "id(d_I),id(d5) #both has same adress"
   ]
  },
  {
   "cell_type": "code",
   "execution_count": 57,
   "id": "51b1f45e-a492-4879-a549-6da3759d8936",
   "metadata": {},
   "outputs": [],
   "source": [
    "d5.update({4:'four'})"
   ]
  },
  {
   "cell_type": "code",
   "execution_count": 58,
   "id": "4c1e0453-17ee-4c0e-8801-3c585e183ed1",
   "metadata": {},
   "outputs": [
    {
     "data": {
      "text/plain": [
       "{1: 'one', 2: 'two', 3: 'three', 4: 'four'}"
      ]
     },
     "execution_count": 58,
     "metadata": {},
     "output_type": "execute_result"
    }
   ],
   "source": [
    "d5"
   ]
  },
  {
   "cell_type": "code",
   "execution_count": 59,
   "id": "ae238953-7753-406b-a043-85dbaaaf44c7",
   "metadata": {},
   "outputs": [
    {
     "data": {
      "text/plain": [
       "{1: 'one', 2: 'two', 3: 'three', 4: 'four'}"
      ]
     },
     "execution_count": 59,
     "metadata": {},
     "output_type": "execute_result"
    }
   ],
   "source": [
    "d_I #if we updated in 'd5' it automaticalyy updated in 'd_I' as both refer to same adresss"
   ]
  },
  {
   "cell_type": "code",
   "execution_count": 60,
   "id": "4d74e621-c996-4862-9420-2c6264d3d6ba",
   "metadata": {},
   "outputs": [],
   "source": [
    "#so we use copy() to avoid it\n",
    "d6=d5.copy()"
   ]
  },
  {
   "cell_type": "code",
   "execution_count": 61,
   "id": "a24523f1-fa12-4f8a-be2f-23038f5c781b",
   "metadata": {},
   "outputs": [
    {
     "data": {
      "text/plain": [
       "(1827284602304, 1827288504192)"
      ]
     },
     "execution_count": 61,
     "metadata": {},
     "output_type": "execute_result"
    }
   ],
   "source": [
    "id(d6),id(d5) #diff adress"
   ]
  },
  {
   "cell_type": "code",
   "execution_count": 62,
   "id": "86f56288-df3d-4bad-b1b3-edf41c903909",
   "metadata": {},
   "outputs": [
    {
     "data": {
      "text/plain": [
       "({1: 'one', 2: 'two', 3: 'three', 4: 'four'},\n",
       " {1: 'one', 2: 'two', 3: 'three', 4: 'four'})"
      ]
     },
     "execution_count": 62,
     "metadata": {},
     "output_type": "execute_result"
    }
   ],
   "source": [
    "d5,d6"
   ]
  },
  {
   "cell_type": "code",
   "execution_count": 63,
   "id": "03d4f11e-197f-431c-aeb9-3e835ed0099d",
   "metadata": {},
   "outputs": [],
   "source": [
    "d5.update({5:'five'}) #it does not effected d6"
   ]
  },
  {
   "cell_type": "code",
   "execution_count": 64,
   "id": "464d186a-1b4c-4838-9d9d-851f252f9585",
   "metadata": {},
   "outputs": [
    {
     "data": {
      "text/plain": [
       "({1: 'one', 2: 'two', 3: 'three', 4: 'four', 5: 'five'},\n",
       " {1: 'one', 2: 'two', 3: 'three', 4: 'four'})"
      ]
     },
     "execution_count": 64,
     "metadata": {},
     "output_type": "execute_result"
    }
   ],
   "source": [
    "d5,d6"
   ]
  },
  {
   "cell_type": "markdown",
   "id": "6a84ade0-1d50-4428-8816-e88c43667f2e",
   "metadata": {},
   "source": [
    "#### Loop through a Dictionary"
   ]
  },
  {
   "cell_type": "code",
   "execution_count": 65,
   "id": "5f2dbfa8-8b2d-4d40-956d-bfd9a3925a9f",
   "metadata": {},
   "outputs": [
    {
     "data": {
      "text/plain": [
       "{1: 'one', 2: 'two', 3: 'three', 4: 'four', 5: 'five'}"
      ]
     },
     "execution_count": 65,
     "metadata": {},
     "output_type": "execute_result"
    }
   ],
   "source": [
    "d5"
   ]
  },
  {
   "cell_type": "code",
   "execution_count": 66,
   "id": "2b09f255-e096-4c29-95b4-506d3728fa84",
   "metadata": {},
   "outputs": [
    {
     "name": "stdout",
     "output_type": "stream",
     "text": [
      "1 one\n",
      "2 two\n",
      "3 three\n",
      "4 four\n",
      "5 five\n"
     ]
    }
   ],
   "source": [
    "for i in d5: \n",
    "    print(i,d5[i]) #key-values"
   ]
  },
  {
   "cell_type": "code",
   "execution_count": 67,
   "id": "ccfc5e33-3d83-4ec3-b7c4-30241999d766",
   "metadata": {},
   "outputs": [
    {
     "name": "stdout",
     "output_type": "stream",
     "text": [
      "one\n",
      "two\n",
      "three\n",
      "four\n",
      "five\n"
     ]
    }
   ],
   "source": [
    "for i in d5:\n",
    "    print(d5[i]) #values"
   ]
  },
  {
   "cell_type": "code",
   "execution_count": 68,
   "id": "0276ab13-360f-4664-bff6-9069b1f58c75",
   "metadata": {},
   "outputs": [
    {
     "name": "stdout",
     "output_type": "stream",
     "text": [
      "(0, 1)\n",
      "(1, 2)\n",
      "(2, 3)\n",
      "(3, 4)\n",
      "(4, 5)\n"
     ]
    }
   ],
   "source": [
    "for i in enumerate(d5):\n",
    "    print(i)"
   ]
  },
  {
   "cell_type": "markdown",
   "id": "09c07e95-a417-4f13-b514-b8d99d671e8c",
   "metadata": {},
   "source": [
    "#### Dictionary Memebership"
   ]
  },
  {
   "cell_type": "code",
   "execution_count": 69,
   "id": "03002737-8c63-4425-a8b0-c93debc2f64a",
   "metadata": {},
   "outputs": [
    {
     "data": {
      "text/plain": [
       "{1: 'one', 2: 'two', 3: 'three', 4: 'four', 5: 'five'}"
      ]
     },
     "execution_count": 69,
     "metadata": {},
     "output_type": "execute_result"
    }
   ],
   "source": [
    "d5"
   ]
  },
  {
   "cell_type": "code",
   "execution_count": 70,
   "id": "52e361df-661a-417d-8a7f-87416b136aab",
   "metadata": {},
   "outputs": [
    {
     "data": {
      "text/plain": [
       "True"
      ]
     },
     "execution_count": 70,
     "metadata": {},
     "output_type": "execute_result"
    }
   ],
   "source": [
    "1 in d5"
   ]
  },
  {
   "cell_type": "code",
   "execution_count": 71,
   "id": "b3356d83-25d3-4f50-9522-48b0723a6244",
   "metadata": {},
   "outputs": [
    {
     "data": {
      "text/plain": [
       "False"
      ]
     },
     "execution_count": 71,
     "metadata": {},
     "output_type": "execute_result"
    }
   ],
   "source": [
    "'one' in d5 # we cant check values only keys"
   ]
  },
  {
   "cell_type": "markdown",
   "id": "1dde8031-c207-4a37-831e-6ff5c96a7fc5",
   "metadata": {},
   "source": [
    "#### All"
   ]
  },
  {
   "cell_type": "code",
   "execution_count": 72,
   "id": "b923a9a0-c9c0-41ad-84ff-8ac5729a3617",
   "metadata": {},
   "outputs": [
    {
     "data": {
      "text/plain": [
       "True"
      ]
     },
     "execution_count": 72,
     "metadata": {},
     "output_type": "execute_result"
    }
   ],
   "source": [
    "all(d5) #Return True if bool(x) is True for all values x in the iterable."
   ]
  },
  {
   "cell_type": "markdown",
   "id": "eb7d090b-aea9-4484-97a0-232c41080660",
   "metadata": {},
   "source": [
    "#### Any"
   ]
  },
  {
   "cell_type": "code",
   "execution_count": 73,
   "id": "f5fafead-f7e0-4230-90f8-ce39fe91fc60",
   "metadata": {},
   "outputs": [
    {
     "data": {
      "text/plain": [
       "True"
      ]
     },
     "execution_count": 73,
     "metadata": {},
     "output_type": "execute_result"
    }
   ],
   "source": [
    "any(d5) #Return True if bool(x) is True for any x in the iterable."
   ]
  }
 ],
 "metadata": {
  "kernelspec": {
   "display_name": "Python 3 (ipykernel)",
   "language": "python",
   "name": "python3"
  },
  "language_info": {
   "codemirror_mode": {
    "name": "ipython",
    "version": 3
   },
   "file_extension": ".py",
   "mimetype": "text/x-python",
   "name": "python",
   "nbconvert_exporter": "python",
   "pygments_lexer": "ipython3",
   "version": "3.12.7"
  }
 },
 "nbformat": 4,
 "nbformat_minor": 5
}
