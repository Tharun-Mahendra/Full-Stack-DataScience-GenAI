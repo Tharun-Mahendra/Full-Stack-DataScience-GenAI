{
 "cells": [
  {
   "cell_type": "code",
   "execution_count": 2,
   "id": "afa8ba2d-0494-47ec-8de4-8a7fc73ef0ef",
   "metadata": {},
   "outputs": [
    {
     "data": {
      "text/plain": [
       "5"
      ]
     },
     "execution_count": 2,
     "metadata": {},
     "output_type": "execute_result"
    }
   ],
   "source": [
    "2+3"
   ]
  },
  {
   "cell_type": "code",
   "execution_count": 3,
   "id": "fdddecc0-c919-4804-aee0-d4034e0a0971",
   "metadata": {
    "jp-MarkdownHeadingCollapsed": true
   },
   "outputs": [
    {
     "data": {
      "text/plain": [
       "5"
      ]
     },
     "execution_count": 3,
     "metadata": {},
     "output_type": "execute_result"
    }
   ],
   "source": [
    "10-5"
   ]
  },
  {
   "cell_type": "code",
   "execution_count": 4,
   "id": "cb5e6bcd-637b-424b-928b-5301e8013afd",
   "metadata": {},
   "outputs": [
    {
     "data": {
      "text/plain": [
       "6"
      ]
     },
     "execution_count": 4,
     "metadata": {},
     "output_type": "execute_result"
    }
   ],
   "source": [
    "3*2"
   ]
  },
  {
   "cell_type": "code",
   "execution_count": 5,
   "id": "24816902-7c9c-4dd6-a3f3-64581c93d411",
   "metadata": {},
   "outputs": [
    {
     "data": {
      "text/plain": [
       "9"
      ]
     },
     "execution_count": 5,
     "metadata": {},
     "output_type": "execute_result"
    }
   ],
   "source": [
    "3**2"
   ]
  },
  {
   "cell_type": "code",
   "execution_count": 6,
   "id": "c658bff0-4395-4be8-aa20-f1700938bbaa",
   "metadata": {},
   "outputs": [
    {
     "data": {
      "text/plain": [
       "2.0"
      ]
     },
     "execution_count": 6,
     "metadata": {},
     "output_type": "execute_result"
    }
   ],
   "source": [
    "10/5 #floatdivision"
   ]
  },
  {
   "cell_type": "code",
   "execution_count": 7,
   "id": "7f1f8ea5-e9fd-4513-9bdc-686fa3e933d9",
   "metadata": {},
   "outputs": [
    {
     "data": {
      "text/plain": [
       "2"
      ]
     },
     "execution_count": 7,
     "metadata": {},
     "output_type": "execute_result"
    }
   ],
   "source": [
    "10//5 #intdivision"
   ]
  },
  {
   "cell_type": "code",
   "execution_count": 8,
   "id": "25683d49-ea49-446f-a1f3-266cf544a1a1",
   "metadata": {},
   "outputs": [
    {
     "data": {
      "text/plain": [
       "'Working With Strings'"
      ]
     },
     "execution_count": 8,
     "metadata": {},
     "output_type": "execute_result"
    }
   ],
   "source": [
    "\"Working With Strings\""
   ]
  },
  {
   "cell_type": "code",
   "execution_count": 9,
   "id": "d4f8264e-d6d4-4d0c-b9e7-32f11c53bd83",
   "metadata": {},
   "outputs": [
    {
     "data": {
      "text/plain": [
       "'Single Qutoes'"
      ]
     },
     "execution_count": 9,
     "metadata": {},
     "output_type": "execute_result"
    }
   ],
   "source": [
    "'Single Qutoes'"
   ]
  },
  {
   "cell_type": "code",
   "execution_count": 10,
   "id": "656a8ed9-633b-4630-ac2c-b836ad4a39c9",
   "metadata": {},
   "outputs": [
    {
     "data": {
      "text/plain": [
       "'Double Quotes'"
      ]
     },
     "execution_count": 10,
     "metadata": {},
     "output_type": "execute_result"
    }
   ],
   "source": [
    "\"Double Quotes\""
   ]
  },
  {
   "cell_type": "code",
   "execution_count": 11,
   "id": "164bd6ca-5129-4e5d-9630-b2e2b8fe8f98",
   "metadata": {},
   "outputs": [
    {
     "data": {
      "text/plain": [
       "'Triple Quotes'"
      ]
     },
     "execution_count": 11,
     "metadata": {},
     "output_type": "execute_result"
    }
   ],
   "source": [
    "'''Triple Quotes'''"
   ]
  },
  {
   "cell_type": "code",
   "execution_count": 12,
   "id": "0fb19c63-5ced-4e34-87de-55a1cf8dfdc8",
   "metadata": {},
   "outputs": [
    {
     "data": {
      "text/plain": [
       "5"
      ]
     },
     "execution_count": 12,
     "metadata": {},
     "output_type": "execute_result"
    }
   ],
   "source": [
    "v=5\n",
    "v"
   ]
  },
  {
   "cell_type": "code",
   "execution_count": 13,
   "id": "4ef78624-e662-48b9-a65f-60c999cee7a9",
   "metadata": {},
   "outputs": [
    {
     "data": {
      "text/plain": [
       "int"
      ]
     },
     "execution_count": 13,
     "metadata": {},
     "output_type": "execute_result"
    }
   ],
   "source": [
    "type(v)"
   ]
  },
  {
   "cell_type": "code",
   "execution_count": 14,
   "id": "cb7f38ad-b4ad-427a-b682-053029c029a6",
   "metadata": {},
   "outputs": [
    {
     "data": {
      "text/plain": [
       "'nit'"
      ]
     },
     "execution_count": 14,
     "metadata": {},
     "output_type": "execute_result"
    }
   ],
   "source": [
    "v1='nit'\n",
    "v1"
   ]
  },
  {
   "cell_type": "code",
   "execution_count": 15,
   "id": "3f3ac1dc-c560-4c57-b2f3-eed91f961f3b",
   "metadata": {},
   "outputs": [
    {
     "data": {
      "text/plain": [
       "str"
      ]
     },
     "execution_count": 15,
     "metadata": {},
     "output_type": "execute_result"
    }
   ],
   "source": [
    "type(v1)"
   ]
  }
 ],
 "metadata": {
  "kernelspec": {
   "display_name": "Python 3 (ipykernel)",
   "language": "python",
   "name": "python3"
  },
  "language_info": {
   "codemirror_mode": {
    "name": "ipython",
    "version": 3
   },
   "file_extension": ".py",
   "mimetype": "text/x-python",
   "name": "python",
   "nbconvert_exporter": "python",
   "pygments_lexer": "ipython3",
   "version": "3.12.7"
  }
 },
 "nbformat": 4,
 "nbformat_minor": 5
}
