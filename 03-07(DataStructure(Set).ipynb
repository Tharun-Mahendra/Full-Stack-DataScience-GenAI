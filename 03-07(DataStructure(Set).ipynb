{
 "cells": [
  {
   "cell_type": "markdown",
   "id": "8d52dd65-c38f-4c9e-b6cc-87620fa88704",
   "metadata": {},
   "source": [
    "# Set"
   ]
  },
  {
   "cell_type": "code",
   "execution_count": 1,
   "id": "c2fce973-ca7e-4241-aebc-abcc2c615b37",
   "metadata": {},
   "outputs": [
    {
     "data": {
      "text/plain": [
       "{}"
      ]
     },
     "execution_count": 1,
     "metadata": {},
     "output_type": "execute_result"
    }
   ],
   "source": [
    "s={} #we cant define emptyset with {} as dict has also have the same shortcut \n",
    "s"
   ]
  },
  {
   "cell_type": "code",
   "execution_count": 2,
   "id": "45edcd2c-fa6e-426b-9720-c92ba38c1dc5",
   "metadata": {},
   "outputs": [
    {
     "data": {
      "text/plain": [
       "dict"
      ]
     },
     "execution_count": 2,
     "metadata": {},
     "output_type": "execute_result"
    }
   ],
   "source": [
    "type(s) "
   ]
  },
  {
   "cell_type": "code",
   "execution_count": 3,
   "id": "3d64fc32-fada-426f-b601-aa6b7f5ff3a6",
   "metadata": {},
   "outputs": [
    {
     "data": {
      "text/plain": [
       "set()"
      ]
     },
     "execution_count": 3,
     "metadata": {},
     "output_type": "execute_result"
    }
   ],
   "source": [
    "s1=set() #empty set\n",
    "s1"
   ]
  },
  {
   "cell_type": "code",
   "execution_count": 4,
   "id": "87392c64-ddbc-4723-a7f4-8e33cbda3a47",
   "metadata": {},
   "outputs": [
    {
     "data": {
      "text/plain": [
       "set"
      ]
     },
     "execution_count": 4,
     "metadata": {},
     "output_type": "execute_result"
    }
   ],
   "source": [
    "type(s1)"
   ]
  },
  {
   "cell_type": "code",
   "execution_count": 5,
   "id": "224cd755-8f0c-45db-9c50-155f6d7d081e",
   "metadata": {},
   "outputs": [
    {
     "data": {
      "text/plain": [
       "{1, 8, 9, 10, 54, 218}"
      ]
     },
     "execution_count": 5,
     "metadata": {},
     "output_type": "execute_result"
    }
   ],
   "source": [
    "s2={10,54,8,9,1,218,10} #gives output in order format if we give input as similar datatype\n",
    "s2                      #duplicates are removed "
   ]
  },
  {
   "cell_type": "code",
   "execution_count": 6,
   "id": "69615e92-5ac3-45ac-9741-c46d4367a2b4",
   "metadata": {},
   "outputs": [
    {
     "name": "stdout",
     "output_type": "stream",
     "text": [
      "{1, 54, 8, 9, 10, 218}\n"
     ]
    }
   ],
   "source": [
    "print(s2) #i we use print() it prints as we declared"
   ]
  },
  {
   "cell_type": "code",
   "execution_count": 7,
   "id": "2fa21611-a328-421c-b130-c4490c80042e",
   "metadata": {},
   "outputs": [
    {
     "data": {
      "text/plain": [
       "{'e', 's', 't', 'y'}"
      ]
     },
     "execution_count": 7,
     "metadata": {},
     "output_type": "execute_result"
    }
   ],
   "source": [
    "s3={'s','e','t','t','e','y'} #duplicates are removed\n",
    "s3"
   ]
  },
  {
   "cell_type": "markdown",
   "id": "642d414b-7d38-48a5-b9ec-fd004de42311",
   "metadata": {},
   "source": [
    "##### muiltiple datatypes as input"
   ]
  },
  {
   "cell_type": "code",
   "execution_count": 8,
   "id": "3bf141f0-ff6d-4a97-860e-4ee6eccf5f24",
   "metadata": {},
   "outputs": [
    {
     "ename": "TypeError",
     "evalue": "unhashable type: 'set'",
     "output_type": "error",
     "traceback": [
      "\u001b[1;31m---------------------------------------------------------------------------\u001b[0m",
      "\u001b[1;31mTypeError\u001b[0m                                 Traceback (most recent call last)",
      "Cell \u001b[1;32mIn[8], line 1\u001b[0m\n\u001b[1;32m----> 1\u001b[0m s4\u001b[38;5;241m=\u001b[39m{\u001b[38;5;241m1\u001b[39m,\u001b[38;5;241m2.4\u001b[39m,\u001b[38;5;124m'\u001b[39m\u001b[38;5;124mtharun\u001b[39m\u001b[38;5;124m'\u001b[39m,\u001b[38;5;241m1\u001b[39m\u001b[38;5;241m+\u001b[39m\u001b[38;5;241m2\u001b[39mj,\u001b[38;5;28;01mTrue\u001b[39;00m,(\u001b[38;5;241m1\u001b[39m,\u001b[38;5;241m2\u001b[39m,\u001b[38;5;241m5\u001b[39m),{\u001b[38;5;241m5\u001b[39m,\u001b[38;5;241m2\u001b[39m,\u001b[38;5;241m6\u001b[39m},[\u001b[38;5;241m1\u001b[39m,\u001b[38;5;241m5\u001b[39m,\u001b[38;5;241m3\u001b[39m]}\n",
      "\u001b[1;31mTypeError\u001b[0m: unhashable type: 'set'"
     ]
    }
   ],
   "source": [
    "s4={1,2.4,'tharun',1+2j,True,(1,2,5),{5,2,6},[1,5,3]}"
   ]
  },
  {
   "cell_type": "code",
   "execution_count": 9,
   "id": "2da82da7-cd82-4092-ad8e-584b1df3cfd7",
   "metadata": {},
   "outputs": [
    {
     "ename": "TypeError",
     "evalue": "unhashable type: 'list'",
     "output_type": "error",
     "traceback": [
      "\u001b[1;31m---------------------------------------------------------------------------\u001b[0m",
      "\u001b[1;31mTypeError\u001b[0m                                 Traceback (most recent call last)",
      "Cell \u001b[1;32mIn[9], line 1\u001b[0m\n\u001b[1;32m----> 1\u001b[0m s4\u001b[38;5;241m=\u001b[39m{\u001b[38;5;241m1\u001b[39m,\u001b[38;5;241m2.4\u001b[39m,\u001b[38;5;124m'\u001b[39m\u001b[38;5;124mtharun\u001b[39m\u001b[38;5;124m'\u001b[39m,\u001b[38;5;241m1\u001b[39m\u001b[38;5;241m+\u001b[39m\u001b[38;5;241m2\u001b[39mj,\u001b[38;5;28;01mTrue\u001b[39;00m,(\u001b[38;5;241m1\u001b[39m,\u001b[38;5;241m2\u001b[39m,\u001b[38;5;241m5\u001b[39m),[\u001b[38;5;241m1\u001b[39m,\u001b[38;5;241m5\u001b[39m,\u001b[38;5;241m3\u001b[39m]}\n",
      "\u001b[1;31mTypeError\u001b[0m: unhashable type: 'list'"
     ]
    }
   ],
   "source": [
    "s4={1,2.4,'tharun',1+2j,True,(1,2,5),[1,5,3]}"
   ]
  },
  {
   "cell_type": "code",
   "execution_count": 10,
   "id": "33d938dc-e2c5-4ced-920a-a19b7a83efc7",
   "metadata": {},
   "outputs": [
    {
     "data": {
      "text/plain": [
       "{(1+2j), (1, 2, 5), 1, 2.4, 'tharun'}"
      ]
     },
     "execution_count": 10,
     "metadata": {},
     "output_type": "execute_result"
    }
   ],
   "source": [
    "s4={1,2.4,'tharun',1+2j,True,(1,2,5)} #as true bool gives 1 as result and 1 has already declared so we dont get it as o/p\n",
    "s4"
   ]
  },
  {
   "cell_type": "code",
   "execution_count": 11,
   "id": "4ade6825-e286-42d4-9142-8744a031d645",
   "metadata": {},
   "outputs": [
    {
     "name": "stdout",
     "output_type": "stream",
     "text": [
      "set()\n",
      "{1, 54, 8, 9, 10, 218}\n",
      "{'e', 'y', 't', 's'}\n",
      "{'tharun', 1, 2.4, (1, 2, 5), (1+2j)}\n"
     ]
    }
   ],
   "source": [
    "print(s1)\n",
    "print(s2)\n",
    "print(s3)\n",
    "print(s4)"
   ]
  },
  {
   "cell_type": "markdown",
   "id": "efe8d1ed-2f85-4797-b0fb-9b215d47f651",
   "metadata": {},
   "source": [
    "#### add()"
   ]
  },
  {
   "cell_type": "code",
   "execution_count": 12,
   "id": "f75ec67e-afea-4600-a8b7-cc96d0c1c8f4",
   "metadata": {},
   "outputs": [
    {
     "data": {
      "text/plain": [
       "{1, 8, 9, 10, 25, 54, 218}"
      ]
     },
     "execution_count": 12,
     "metadata": {},
     "output_type": "execute_result"
    }
   ],
   "source": [
    "s2.add(25) #add an element to set. if the element already prsent it doesnot effect set\n",
    "s2"
   ]
  },
  {
   "cell_type": "code",
   "execution_count": 13,
   "id": "03eede9c-7905-4658-ba42-19937af75e57",
   "metadata": {},
   "outputs": [
    {
     "ename": "NameError",
     "evalue": "name 's5' is not defined",
     "output_type": "error",
     "traceback": [
      "\u001b[1;31m---------------------------------------------------------------------------\u001b[0m",
      "\u001b[1;31mNameError\u001b[0m                                 Traceback (most recent call last)",
      "Cell \u001b[1;32mIn[13], line 1\u001b[0m\n\u001b[1;32m----> 1\u001b[0m s5\u001b[38;5;241m.\u001b[39madd(\u001b[38;5;28;01mFalse\u001b[39;00m)\n\u001b[0;32m      2\u001b[0m s5\n",
      "\u001b[1;31mNameError\u001b[0m: name 's5' is not defined"
     ]
    }
   ],
   "source": [
    "s5.add(False)\n",
    "s5"
   ]
  },
  {
   "cell_type": "code",
   "execution_count": 14,
   "id": "114e9064-fa29-4f7f-894e-fcbe154cd9f2",
   "metadata": {},
   "outputs": [
    {
     "ename": "NameError",
     "evalue": "name 's5' is not defined",
     "output_type": "error",
     "traceback": [
      "\u001b[1;31m---------------------------------------------------------------------------\u001b[0m",
      "\u001b[1;31mNameError\u001b[0m                                 Traceback (most recent call last)",
      "Cell \u001b[1;32mIn[14], line 1\u001b[0m\n\u001b[1;32m----> 1\u001b[0m s5\u001b[38;5;241m.\u001b[39madd(\u001b[38;5;28;01mTrue\u001b[39;00m)\n\u001b[0;32m      2\u001b[0m s5\n",
      "\u001b[1;31mNameError\u001b[0m: name 's5' is not defined"
     ]
    }
   ],
   "source": [
    "s5.add(True)\n",
    "s5"
   ]
  },
  {
   "cell_type": "markdown",
   "id": "637056bd-ded5-4352-ac2d-768beb2800c2",
   "metadata": {},
   "source": [
    "#### slicing"
   ]
  },
  {
   "cell_type": "code",
   "execution_count": 15,
   "id": "522586bb-3f87-4273-b819-9e89892324e2",
   "metadata": {},
   "outputs": [
    {
     "ename": "TypeError",
     "evalue": "'set' object is not subscriptable",
     "output_type": "error",
     "traceback": [
      "\u001b[1;31m---------------------------------------------------------------------------\u001b[0m",
      "\u001b[1;31mTypeError\u001b[0m                                 Traceback (most recent call last)",
      "Cell \u001b[1;32mIn[15], line 1\u001b[0m\n\u001b[1;32m----> 1\u001b[0m s2[:]\n",
      "\u001b[1;31mTypeError\u001b[0m: 'set' object is not subscriptable"
     ]
    }
   ],
   "source": [
    "s2[:] #we cant do indexSlicing"
   ]
  },
  {
   "cell_type": "markdown",
   "id": "95a73350-0753-439e-8f8a-b298bc21d78c",
   "metadata": {},
   "source": [
    "#### copy()"
   ]
  },
  {
   "cell_type": "code",
   "execution_count": 16,
   "id": "2b1a3bb0-3420-447e-91aa-0c3db25f33de",
   "metadata": {},
   "outputs": [
    {
     "data": {
      "text/plain": [
       "{(1+2j), (1, 2, 5), 1, 2.4, 'tharun'}"
      ]
     },
     "execution_count": 16,
     "metadata": {},
     "output_type": "execute_result"
    }
   ],
   "source": [
    "s5=s4.copy()\n",
    "s5"
   ]
  },
  {
   "cell_type": "markdown",
   "id": "88229cca-7854-41eb-8617-21847fbf0dd7",
   "metadata": {},
   "source": [
    "#### clear()"
   ]
  },
  {
   "cell_type": "code",
   "execution_count": 17,
   "id": "77c11fe2-2ed6-4b1f-8742-8887c53034ce",
   "metadata": {},
   "outputs": [
    {
     "data": {
      "text/plain": [
       "set()"
      ]
     },
     "execution_count": 17,
     "metadata": {},
     "output_type": "execute_result"
    }
   ],
   "source": [
    "s5.clear() #cleares entire set\n",
    "s5"
   ]
  },
  {
   "cell_type": "code",
   "execution_count": 18,
   "id": "4b2733b7-7e18-40f8-aa73-947b39c3dc6f",
   "metadata": {},
   "outputs": [
    {
     "ename": "NameError",
     "evalue": "name 's5' is not defined",
     "output_type": "error",
     "traceback": [
      "\u001b[1;31m---------------------------------------------------------------------------\u001b[0m",
      "\u001b[1;31mNameError\u001b[0m                                 Traceback (most recent call last)",
      "Cell \u001b[1;32mIn[18], line 2\u001b[0m\n\u001b[0;32m      1\u001b[0m \u001b[38;5;28;01mdel\u001b[39;00m s5 \u001b[38;5;66;03m#to delete \u001b[39;00m\n\u001b[1;32m----> 2\u001b[0m s5\n",
      "\u001b[1;31mNameError\u001b[0m: name 's5' is not defined"
     ]
    }
   ],
   "source": [
    "del s5 #to delete \n",
    "s5"
   ]
  },
  {
   "cell_type": "markdown",
   "id": "97753d3c-c7e6-4998-b4fb-88d3349e7d16",
   "metadata": {},
   "source": [
    "#### remove()"
   ]
  },
  {
   "cell_type": "code",
   "execution_count": 19,
   "id": "3d963840-b09e-4180-b794-ceb61e1b5ff1",
   "metadata": {},
   "outputs": [
    {
     "data": {
      "text/plain": [
       "{(1+2j), (1, 2, 5), 1, 2.4, 'tharun'}"
      ]
     },
     "execution_count": 19,
     "metadata": {},
     "output_type": "execute_result"
    }
   ],
   "source": [
    "s4"
   ]
  },
  {
   "cell_type": "code",
   "execution_count": 20,
   "id": "c51f9979-ff07-49f7-be4d-a56e4dcd4e3a",
   "metadata": {},
   "outputs": [
    {
     "data": {
      "text/plain": [
       "{(1, 2, 5), 1, 2.4, 'tharun'}"
      ]
     },
     "execution_count": 20,
     "metadata": {},
     "output_type": "execute_result"
    }
   ],
   "source": [
    "s4.remove((1+2j)) #Remove an element from a set; it must be a member.\n",
    "s4"
   ]
  },
  {
   "cell_type": "code",
   "execution_count": 21,
   "id": "298b6347-08cd-4730-b154-76e078d8f9cb",
   "metadata": {},
   "outputs": [
    {
     "ename": "TypeError",
     "evalue": "set.remove() takes exactly one argument (2 given)",
     "output_type": "error",
     "traceback": [
      "\u001b[1;31m---------------------------------------------------------------------------\u001b[0m",
      "\u001b[1;31mTypeError\u001b[0m                                 Traceback (most recent call last)",
      "Cell \u001b[1;32mIn[21], line 1\u001b[0m\n\u001b[1;32m----> 1\u001b[0m s4\u001b[38;5;241m.\u001b[39mremove(\u001b[38;5;241m1\u001b[39m,\u001b[38;5;241m2.4\u001b[39m)\n",
      "\u001b[1;31mTypeError\u001b[0m: set.remove() takes exactly one argument (2 given)"
     ]
    }
   ],
   "source": [
    "s4.remove(1,2.4) #takes only one argument"
   ]
  },
  {
   "cell_type": "markdown",
   "id": "9df20307-9ba7-4b7a-af1f-209e5a5b71a9",
   "metadata": {},
   "source": [
    "#### discard()"
   ]
  },
  {
   "cell_type": "code",
   "execution_count": 22,
   "id": "01b11942-57f1-4646-9beb-dc9a99d7d4ad",
   "metadata": {},
   "outputs": [
    {
     "data": {
      "text/plain": [
       "{'e', 's', 't', 'y'}"
      ]
     },
     "execution_count": 22,
     "metadata": {},
     "output_type": "execute_result"
    }
   ],
   "source": [
    "s3"
   ]
  },
  {
   "cell_type": "code",
   "execution_count": 23,
   "id": "0299d9e6-fefa-418f-833f-0272f54e64f4",
   "metadata": {},
   "outputs": [
    {
     "data": {
      "text/plain": [
       "{'e', 's', 't', 'y'}"
      ]
     },
     "execution_count": 23,
     "metadata": {},
     "output_type": "execute_result"
    }
   ],
   "source": [
    "s3.discard('m') #Remove an element from a set if it is a member.\n",
    "#Unlike set.remove(), the discard() method does not raise an exception when an element is missing from the set.\n",
    "s3"
   ]
  },
  {
   "cell_type": "code",
   "execution_count": 24,
   "id": "ffb6c968-9f7f-4165-a72e-754f586cb2ff",
   "metadata": {},
   "outputs": [
    {
     "ename": "KeyError",
     "evalue": "'m'",
     "output_type": "error",
     "traceback": [
      "\u001b[1;31m---------------------------------------------------------------------------\u001b[0m",
      "\u001b[1;31mKeyError\u001b[0m                                  Traceback (most recent call last)",
      "Cell \u001b[1;32mIn[24], line 1\u001b[0m\n\u001b[1;32m----> 1\u001b[0m s3\u001b[38;5;241m.\u001b[39mremove(\u001b[38;5;124m'\u001b[39m\u001b[38;5;124mm\u001b[39m\u001b[38;5;124m'\u001b[39m) \u001b[38;5;66;03m#If the element is not a member, raise a KeyError\u001b[39;00m\n\u001b[0;32m      2\u001b[0m s3\n",
      "\u001b[1;31mKeyError\u001b[0m: 'm'"
     ]
    }
   ],
   "source": [
    "s3.remove('m') #If the element is not a member, raise a KeyError\n",
    "s3"
   ]
  },
  {
   "cell_type": "code",
   "execution_count": 25,
   "id": "613928da-d585-4108-bb89-488d373a6fc3",
   "metadata": {},
   "outputs": [
    {
     "data": {
      "text/plain": [
       "{(1, 2, 5), 1, 2.4, 'tharun'}"
      ]
     },
     "execution_count": 25,
     "metadata": {},
     "output_type": "execute_result"
    }
   ],
   "source": [
    "s4"
   ]
  },
  {
   "cell_type": "code",
   "execution_count": 26,
   "id": "ca8b7bff-c10d-458f-bc43-94151e621720",
   "metadata": {},
   "outputs": [
    {
     "data": {
      "text/plain": [
       "{(1, 2, 5), 2.4, 'tharun'}"
      ]
     },
     "execution_count": 26,
     "metadata": {},
     "output_type": "execute_result"
    }
   ],
   "source": [
    "s4.discard(1)\n",
    "s4"
   ]
  },
  {
   "cell_type": "markdown",
   "id": "b58a9b27-f3bb-4da2-899c-c4a7771b7a1b",
   "metadata": {},
   "source": [
    "#### pop()"
   ]
  },
  {
   "cell_type": "code",
   "execution_count": 27,
   "id": "62ae7c41-8381-4481-ad6a-b55b4540b895",
   "metadata": {},
   "outputs": [
    {
     "data": {
      "text/plain": [
       "{'e', 's', 't', 'y'}"
      ]
     },
     "execution_count": 27,
     "metadata": {},
     "output_type": "execute_result"
    }
   ],
   "source": [
    "s3"
   ]
  },
  {
   "cell_type": "code",
   "execution_count": 28,
   "id": "18e7f2da-b162-4766-a85b-c4ca8b75417d",
   "metadata": {},
   "outputs": [
    {
     "data": {
      "text/plain": [
       "'e'"
      ]
     },
     "execution_count": 28,
     "metadata": {},
     "output_type": "execute_result"
    }
   ],
   "source": [
    "s3.pop() #pops an random element"
   ]
  },
  {
   "cell_type": "code",
   "execution_count": 29,
   "id": "8a73e1b6-c368-4701-8ce1-bc5e8d53eac2",
   "metadata": {},
   "outputs": [
    {
     "data": {
      "text/plain": [
       "{'s', 't', 'y'}"
      ]
     },
     "execution_count": 29,
     "metadata": {},
     "output_type": "execute_result"
    }
   ],
   "source": [
    "s3"
   ]
  },
  {
   "cell_type": "code",
   "execution_count": 30,
   "id": "586df1c7-fec5-42f0-a36c-d6f60203bfd5",
   "metadata": {},
   "outputs": [
    {
     "data": {
      "text/plain": [
       "{1, 8, 9, 10, 25, 54, 218}"
      ]
     },
     "execution_count": 30,
     "metadata": {},
     "output_type": "execute_result"
    }
   ],
   "source": [
    "s2"
   ]
  },
  {
   "cell_type": "markdown",
   "id": "0bc6e4f9-fdbd-48ab-92cc-3ba73c8577ac",
   "metadata": {},
   "source": [
    "#### Loop"
   ]
  },
  {
   "cell_type": "code",
   "execution_count": 31,
   "id": "c3a1d8e4-4ca3-439e-b220-2e4fdb6f5768",
   "metadata": {},
   "outputs": [
    {
     "name": "stdout",
     "output_type": "stream",
     "text": [
      "1\n",
      "54\n",
      "25\n",
      "8\n",
      "9\n",
      "10\n",
      "218\n"
     ]
    }
   ],
   "source": [
    "for i in s2:\n",
    "    print(i)"
   ]
  },
  {
   "cell_type": "code",
   "execution_count": 32,
   "id": "42f1f126-25c8-4d30-b9d6-a2aca59d3b6b",
   "metadata": {},
   "outputs": [
    {
     "name": "stdout",
     "output_type": "stream",
     "text": [
      "(0, 1)\n",
      "(1, 54)\n",
      "(2, 25)\n",
      "(3, 8)\n",
      "(4, 9)\n",
      "(5, 10)\n",
      "(6, 218)\n"
     ]
    }
   ],
   "source": [
    "for i in enumerate(s2):\n",
    "    print(i)"
   ]
  },
  {
   "cell_type": "markdown",
   "id": "5ec80c8c-a62b-4efd-bb70-94a35237b089",
   "metadata": {},
   "source": [
    "#### membership"
   ]
  },
  {
   "cell_type": "code",
   "execution_count": 33,
   "id": "99e54269-acc8-442d-8ab9-9750d4f1a8ae",
   "metadata": {},
   "outputs": [
    {
     "data": {
      "text/plain": [
       "{1, 8, 9, 10, 25, 54, 218}"
      ]
     },
     "execution_count": 33,
     "metadata": {},
     "output_type": "execute_result"
    }
   ],
   "source": [
    "s2"
   ]
  },
  {
   "cell_type": "code",
   "execution_count": 34,
   "id": "d772f175-f2a1-4637-85a6-8b8688e290b9",
   "metadata": {},
   "outputs": [
    {
     "data": {
      "text/plain": [
       "False"
      ]
     },
     "execution_count": 34,
     "metadata": {},
     "output_type": "execute_result"
    }
   ],
   "source": [
    "5 in s2"
   ]
  },
  {
   "cell_type": "code",
   "execution_count": 35,
   "id": "e0afad6d-7fe9-48b8-b04a-c2ea1ff30500",
   "metadata": {},
   "outputs": [
    {
     "data": {
      "text/plain": [
       "True"
      ]
     },
     "execution_count": 35,
     "metadata": {},
     "output_type": "execute_result"
    }
   ],
   "source": [
    "54 in s2"
   ]
  },
  {
   "cell_type": "markdown",
   "id": "1180be88-00df-4590-8997-1571775f8aa9",
   "metadata": {},
   "source": [
    "#### update()"
   ]
  },
  {
   "cell_type": "code",
   "execution_count": 36,
   "id": "ac36aae4-18ff-4ffb-9e60-e550ac6efb4a",
   "metadata": {},
   "outputs": [
    {
     "data": {
      "text/plain": [
       "{1, 8, 9, 10, 25, 54, 218}"
      ]
     },
     "execution_count": 36,
     "metadata": {},
     "output_type": "execute_result"
    }
   ],
   "source": [
    "s2"
   ]
  },
  {
   "cell_type": "code",
   "execution_count": 37,
   "id": "d8719950-4b4a-48f8-85a2-7012b6473d3e",
   "metadata": {},
   "outputs": [
    {
     "data": {
      "text/plain": [
       "{'s', 't', 'y'}"
      ]
     },
     "execution_count": 37,
     "metadata": {},
     "output_type": "execute_result"
    }
   ],
   "source": [
    "s3"
   ]
  },
  {
   "cell_type": "code",
   "execution_count": 38,
   "id": "8d5e9bb3-df7b-4e14-8f82-d391ef1cd419",
   "metadata": {},
   "outputs": [],
   "source": [
    "s2.update(s3) # Update a set with the union of itself and others."
   ]
  },
  {
   "cell_type": "code",
   "execution_count": 39,
   "id": "2219b5cf-f822-4a2e-a7dd-f58152695864",
   "metadata": {},
   "outputs": [
    {
     "data": {
      "text/plain": [
       "{1, 10, 218, 25, 54, 8, 9, 's', 't', 'y'}"
      ]
     },
     "execution_count": 39,
     "metadata": {},
     "output_type": "execute_result"
    }
   ],
   "source": [
    "s2"
   ]
  },
  {
   "cell_type": "markdown",
   "id": "498cbc41-59ff-43f2-b466-6f9b5e4e1b31",
   "metadata": {},
   "source": [
    "# Set Operations"
   ]
  },
  {
   "cell_type": "markdown",
   "id": "52a3e0ac-18ec-4a25-9f4b-dd26a455b5dd",
   "metadata": {},
   "source": [
    "#### union()  |"
   ]
  },
  {
   "cell_type": "code",
   "execution_count": 40,
   "id": "868da19d-dc0f-416a-9d95-523ba2cff4d5",
   "metadata": {},
   "outputs": [],
   "source": [
    "a={1,2,3,4,5}\n",
    "b={4,5,6,7,8}\n",
    "c={8,9,10}"
   ]
  },
  {
   "cell_type": "code",
   "execution_count": 41,
   "id": "d7240611-841f-4313-be49-3c3cdb5298f6",
   "metadata": {},
   "outputs": [
    {
     "data": {
      "text/plain": [
       "{1, 2, 3, 4, 5, 6, 7, 8}"
      ]
     },
     "execution_count": 41,
     "metadata": {},
     "output_type": "execute_result"
    }
   ],
   "source": [
    "a.union(b) #Return the union of sets as a new set.\n",
    "# (i.e. all elements that are in either set.)"
   ]
  },
  {
   "cell_type": "code",
   "execution_count": 42,
   "id": "adc0d510-10bb-410b-ba0a-b90060ab54fa",
   "metadata": {},
   "outputs": [
    {
     "data": {
      "text/plain": [
       "{1, 2, 3, 4, 5, 6, 7, 8, 9, 10}"
      ]
     },
     "execution_count": 42,
     "metadata": {},
     "output_type": "execute_result"
    }
   ],
   "source": [
    "a.union(b,c)"
   ]
  },
  {
   "cell_type": "code",
   "execution_count": 43,
   "id": "1e212614-e3b6-4b54-b36d-be3fe5f2c69e",
   "metadata": {},
   "outputs": [
    {
     "data": {
      "text/plain": [
       "{1, 2, 3, 4, 5, 6, 7, 8, 9, 10}"
      ]
     },
     "execution_count": 43,
     "metadata": {},
     "output_type": "execute_result"
    }
   ],
   "source": [
    "a|b|c"
   ]
  },
  {
   "cell_type": "markdown",
   "id": "9c09fa84-fd62-42e3-b377-1b9918f38565",
   "metadata": {},
   "source": [
    "#### intersection()  &"
   ]
  },
  {
   "cell_type": "code",
   "execution_count": 44,
   "id": "e30e0040-707b-42ff-a699-9c803d5295d6",
   "metadata": {},
   "outputs": [
    {
     "data": {
      "text/plain": [
       "{4, 5}"
      ]
     },
     "execution_count": 44,
     "metadata": {},
     "output_type": "execute_result"
    }
   ],
   "source": [
    "a.intersection(b) #i.e. all elements that are in both sets."
   ]
  },
  {
   "cell_type": "code",
   "execution_count": 45,
   "id": "9b8fdd01-ede3-4f16-bd03-1a7d53515383",
   "metadata": {},
   "outputs": [
    {
     "data": {
      "text/plain": [
       "set()"
      ]
     },
     "execution_count": 45,
     "metadata": {},
     "output_type": "execute_result"
    }
   ],
   "source": [
    "a.intersection(c) #no common elements gives empty set()"
   ]
  },
  {
   "cell_type": "code",
   "execution_count": 46,
   "id": "06fc99ea-be1a-4a21-a2da-809fad0a3e12",
   "metadata": {},
   "outputs": [
    {
     "data": {
      "text/plain": [
       "{8}"
      ]
     },
     "execution_count": 46,
     "metadata": {},
     "output_type": "execute_result"
    }
   ],
   "source": [
    "b.intersection(c)"
   ]
  },
  {
   "cell_type": "code",
   "execution_count": 47,
   "id": "28251fa3-57ad-4066-bd4b-e4b06aea9c4c",
   "metadata": {},
   "outputs": [
    {
     "data": {
      "text/plain": [
       "{4, 5}"
      ]
     },
     "execution_count": 47,
     "metadata": {},
     "output_type": "execute_result"
    }
   ],
   "source": [
    "a&b"
   ]
  },
  {
   "cell_type": "markdown",
   "id": "15cc5965-69a5-4a88-a3b2-540e6331c029",
   "metadata": {},
   "source": [
    "#### difference()  -"
   ]
  },
  {
   "cell_type": "code",
   "execution_count": 48,
   "id": "d3113c21-9756-4c07-8599-a22ba8fe0121",
   "metadata": {},
   "outputs": [
    {
     "name": "stdout",
     "output_type": "stream",
     "text": [
      "{1, 2, 3, 4, 5}\n",
      "{4, 5, 6, 7, 8}\n",
      "{8, 9, 10}\n"
     ]
    }
   ],
   "source": [
    "print(a)\n",
    "print(b)\n",
    "print(c)"
   ]
  },
  {
   "cell_type": "code",
   "execution_count": 49,
   "id": "14594592-c0b6-4e11-b6c2-59d9ce29f816",
   "metadata": {},
   "outputs": [
    {
     "data": {
      "text/plain": [
       "{1, 2, 3}"
      ]
     },
     "execution_count": 49,
     "metadata": {},
     "output_type": "execute_result"
    }
   ],
   "source": [
    "a.difference(b) #(i.e. all elements that are in this set but not the others.)"
   ]
  },
  {
   "cell_type": "code",
   "execution_count": 50,
   "id": "84f36d23-935e-455e-b5ee-0cb651502bb5",
   "metadata": {},
   "outputs": [
    {
     "data": {
      "text/plain": [
       "{4, 5, 6, 7}"
      ]
     },
     "execution_count": 50,
     "metadata": {},
     "output_type": "execute_result"
    }
   ],
   "source": [
    "b.difference(c)"
   ]
  },
  {
   "cell_type": "code",
   "execution_count": 51,
   "id": "a96b4469-e070-46dd-82d2-85136a086f4a",
   "metadata": {},
   "outputs": [
    {
     "data": {
      "text/plain": [
       "{1, 2, 3}"
      ]
     },
     "execution_count": 51,
     "metadata": {},
     "output_type": "execute_result"
    }
   ],
   "source": [
    "a-b"
   ]
  },
  {
   "cell_type": "code",
   "execution_count": 52,
   "id": "f4c1d9a2-b515-43d8-80c8-513cd0825ef3",
   "metadata": {},
   "outputs": [
    {
     "data": {
      "text/plain": [
       "{9, 10}"
      ]
     },
     "execution_count": 52,
     "metadata": {},
     "output_type": "execute_result"
    }
   ],
   "source": [
    "c-b"
   ]
  },
  {
   "cell_type": "markdown",
   "id": "b8755185-cc61-4424-91b0-3524a963e33f",
   "metadata": {},
   "source": [
    "#### symmetric difference()"
   ]
  },
  {
   "cell_type": "code",
   "execution_count": 53,
   "id": "c6496081-fa68-4d6d-9f72-819ffba201c0",
   "metadata": {},
   "outputs": [
    {
     "name": "stdout",
     "output_type": "stream",
     "text": [
      "{1, 2, 3, 4, 5}\n",
      "{4, 5, 6, 7, 8}\n",
      "{8, 9, 10}\n"
     ]
    }
   ],
   "source": [
    "print(a)\n",
    "print(b)\n",
    "print(c)"
   ]
  },
  {
   "cell_type": "code",
   "execution_count": 54,
   "id": "09d91028-565b-4366-8cb5-fabce7650d36",
   "metadata": {},
   "outputs": [
    {
     "data": {
      "text/plain": [
       "{1, 2, 3, 6, 7, 8}"
      ]
     },
     "execution_count": 54,
     "metadata": {},
     "output_type": "execute_result"
    }
   ],
   "source": [
    "a.symmetric_difference(b) #(i.e. all elements that are in exactly one of the sets.)"
   ]
  }
 ],
 "metadata": {
  "kernelspec": {
   "display_name": "Python 3 (ipykernel)",
   "language": "python",
   "name": "python3"
  },
  "language_info": {
   "codemirror_mode": {
    "name": "ipython",
    "version": 3
   },
   "file_extension": ".py",
   "mimetype": "text/x-python",
   "name": "python",
   "nbconvert_exporter": "python",
   "pygments_lexer": "ipython3",
   "version": "3.12.7"
  }
 },
 "nbformat": 4,
 "nbformat_minor": 5
}
