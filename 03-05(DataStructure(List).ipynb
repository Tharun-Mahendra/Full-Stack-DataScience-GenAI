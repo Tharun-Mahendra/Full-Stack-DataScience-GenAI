{
 "cells": [
  {
   "cell_type": "markdown",
   "id": "fb9f36d8-c505-4625-bc3a-28486b34a1dc",
   "metadata": {},
   "source": [
    "#### String List Slicing"
   ]
  },
  {
   "cell_type": "code",
   "execution_count": 1,
   "id": "ab8b08f7-274d-4ebd-b819-572b905334ef",
   "metadata": {},
   "outputs": [
    {
     "data": {
      "text/plain": [
       "'Tharun'"
      ]
     },
     "execution_count": 1,
     "metadata": {},
     "output_type": "execute_result"
    }
   ],
   "source": [
    "s1='Tharun'\n",
    "s1"
   ]
  },
  {
   "cell_type": "code",
   "execution_count": 2,
   "id": "fd74bfd0-1ea9-4bd2-97e5-f4e1ee973367",
   "metadata": {},
   "outputs": [
    {
     "data": {
      "text/plain": [
       "'T'"
      ]
     },
     "execution_count": 2,
     "metadata": {},
     "output_type": "execute_result"
    }
   ],
   "source": [
    "s1[0] #index value"
   ]
  },
  {
   "cell_type": "code",
   "execution_count": 3,
   "id": "647f2306-5493-4a3c-8470-103e2055d2cc",
   "metadata": {},
   "outputs": [
    {
     "data": {
      "text/plain": [
       "'n'"
      ]
     },
     "execution_count": 3,
     "metadata": {},
     "output_type": "execute_result"
    }
   ],
   "source": [
    "s1[5]"
   ]
  },
  {
   "cell_type": "code",
   "execution_count": 4,
   "id": "5cc08b58-a784-4953-96e6-afc32d6b68be",
   "metadata": {},
   "outputs": [
    {
     "name": "stdout",
     "output_type": "stream",
     "text": [
      "T\n",
      "h\n",
      "a\n",
      "r\n",
      "u\n",
      "n\n"
     ]
    }
   ],
   "source": [
    "for i in (s1):\n",
    "    print(i)"
   ]
  },
  {
   "cell_type": "markdown",
   "id": "b8a417f2-8501-44a6-a98b-d69a865f04c6",
   "metadata": {},
   "source": [
    "#### List Slicing"
   ]
  },
  {
   "cell_type": "code",
   "execution_count": 5,
   "id": "95d77df5-bf57-473c-bb97-808cde5f88b4",
   "metadata": {},
   "outputs": [
    {
     "data": {
      "text/plain": [
       "[10, 20, 51, 4, 8, 3, 64, 8, 1, 3, 702, 105, 18, 3, 18, 86.6]"
      ]
     },
     "execution_count": 5,
     "metadata": {},
     "output_type": "execute_result"
    }
   ],
   "source": [
    "l=[10,20,51,4,8,3,64,8,1,3,702,105,18,3,18,86.6]\n",
    "l"
   ]
  },
  {
   "cell_type": "code",
   "execution_count": 6,
   "id": "b70b084a-4d85-402e-bf4c-1df02fe283b7",
   "metadata": {},
   "outputs": [
    {
     "data": {
      "text/plain": [
       "[10, 20, 51, 4, 8, 3, 64, 8, 1, 3, 702, 105, 18, 3, 18, 86.6]"
      ]
     },
     "execution_count": 6,
     "metadata": {},
     "output_type": "execute_result"
    }
   ],
   "source": [
    "l[:] #entire list"
   ]
  },
  {
   "cell_type": "code",
   "execution_count": 7,
   "id": "64563e86-7949-4b0a-bebb-d0e41ae032f6",
   "metadata": {},
   "outputs": [
    {
     "data": {
      "text/plain": [
       "[10, 20, 51, 4]"
      ]
     },
     "execution_count": 7,
     "metadata": {},
     "output_type": "execute_result"
    }
   ],
   "source": [
    "l[0:4] #[StartIndex : StopIndex] [0:n-1]"
   ]
  },
  {
   "cell_type": "code",
   "execution_count": 8,
   "id": "5f08de60-c4cd-4c62-a18c-21016a810a04",
   "metadata": {},
   "outputs": [
    {
     "data": {
      "text/plain": [
       "[3, 64, 8, 1]"
      ]
     },
     "execution_count": 8,
     "metadata": {},
     "output_type": "execute_result"
    }
   ],
   "source": [
    "l[5:9]"
   ]
  },
  {
   "cell_type": "code",
   "execution_count": 9,
   "id": "8cebc172-fb95-4485-921b-4dd4b4e2ce39",
   "metadata": {},
   "outputs": [
    {
     "data": {
      "text/plain": [
       "[10, 20, 51, 4, 8, 3, 64, 8]"
      ]
     },
     "execution_count": 9,
     "metadata": {},
     "output_type": "execute_result"
    }
   ],
   "source": [
    "l[:8] #if we not specify startindex it starts from '0' [0:7]"
   ]
  },
  {
   "cell_type": "code",
   "execution_count": 10,
   "id": "568508e4-2cee-4477-9fc9-f6a34ed277b7",
   "metadata": {},
   "outputs": [
    {
     "data": {
      "text/plain": [
       "[1, 3, 702, 105, 18, 3, 18, 86.6]"
      ]
     },
     "execution_count": 10,
     "metadata": {},
     "output_type": "execute_result"
    }
   ],
   "source": [
    "l[8:] #same as last [8:n-1]"
   ]
  },
  {
   "cell_type": "markdown",
   "id": "b210e6a0-b5d6-4705-b077-2157d74b0722",
   "metadata": {},
   "source": [
    "##### Step Size"
   ]
  },
  {
   "cell_type": "code",
   "execution_count": 11,
   "id": "b6f2991e-6e89-449e-a15d-913d3d3f0473",
   "metadata": {},
   "outputs": [
    {
     "data": {
      "text/plain": [
       "[10, 20, 51, 4, 8, 3, 64, 8, 1, 3]"
      ]
     },
     "execution_count": 11,
     "metadata": {},
     "output_type": "execute_result"
    }
   ],
   "source": [
    "l[0:10]"
   ]
  },
  {
   "cell_type": "code",
   "execution_count": 12,
   "id": "3e28e490-f499-4d8c-a521-f83bc80f9128",
   "metadata": {},
   "outputs": [
    {
     "data": {
      "text/plain": [
       "[10, 51, 8, 64, 1]"
      ]
     },
     "execution_count": 12,
     "metadata": {},
     "output_type": "execute_result"
    }
   ],
   "source": [
    "l[0:10:2] #from 0 to 10 every second element [start:stop:stepsize] also it include start element defaulty"
   ]
  },
  {
   "cell_type": "code",
   "execution_count": 13,
   "id": "ce5f27cd-4986-45b9-8567-e697d0f0d924",
   "metadata": {},
   "outputs": [
    {
     "data": {
      "text/plain": [
       "[10, 20, 51, 4, 8, 3, 64, 8, 1, 3, 702, 105, 18, 3, 18, 86.6]"
      ]
     },
     "execution_count": 13,
     "metadata": {},
     "output_type": "execute_result"
    }
   ],
   "source": [
    "l"
   ]
  },
  {
   "cell_type": "code",
   "execution_count": 14,
   "id": "de47845f-a5d3-429b-a73a-7fa031c1b20c",
   "metadata": {},
   "outputs": [
    {
     "data": {
      "text/plain": [
       "[10, 3, 702, 86.6]"
      ]
     },
     "execution_count": 14,
     "metadata": {},
     "output_type": "execute_result"
    }
   ],
   "source": [
    "l[::5] #from start to stop every 5th elemnet"
   ]
  },
  {
   "cell_type": "code",
   "execution_count": 15,
   "id": "dc235d44-f298-4e57-a424-080ac5728053",
   "metadata": {},
   "outputs": [
    {
     "data": {
      "text/plain": [
       "[702, 18, 18]"
      ]
     },
     "execution_count": 15,
     "metadata": {},
     "output_type": "execute_result"
    }
   ],
   "source": [
    "l[10:15:2]"
   ]
  },
  {
   "cell_type": "markdown",
   "id": "46ee40a7-5195-4693-a377-52a1e9a6c67c",
   "metadata": {},
   "source": [
    "###### negative"
   ]
  },
  {
   "cell_type": "code",
   "execution_count": 16,
   "id": "671deb90-89d2-4d09-82ca-54d1edcb57b2",
   "metadata": {},
   "outputs": [
    {
     "data": {
      "text/plain": [
       "[86.6, 18, 3, 18, 105, 702, 3, 1, 8, 64, 3, 8, 4, 51, 20, 10]"
      ]
     },
     "execution_count": 16,
     "metadata": {},
     "output_type": "execute_result"
    }
   ],
   "source": [
    "l[::-1]  #negative indexing stepsize"
   ]
  },
  {
   "cell_type": "code",
   "execution_count": 17,
   "id": "e8df0004-1548-4d31-9e7a-dd1c787d362a",
   "metadata": {},
   "outputs": [
    {
     "data": {
      "text/plain": [
       "[86.6, 18, 3, 64, 4, 10]"
      ]
     },
     "execution_count": 17,
     "metadata": {},
     "output_type": "execute_result"
    }
   ],
   "source": [
    "l[::-3]"
   ]
  },
  {
   "cell_type": "code",
   "execution_count": 18,
   "id": "b2773ceb-b0ed-45a6-b935-a3ae1de1f6f8",
   "metadata": {},
   "outputs": [
    {
     "data": {
      "text/plain": [
       "702"
      ]
     },
     "execution_count": 18,
     "metadata": {},
     "output_type": "execute_result"
    }
   ],
   "source": [
    "l[10]"
   ]
  },
  {
   "cell_type": "code",
   "execution_count": 19,
   "id": "f1f41e29-97cd-4672-b21c-0c48df70ed6f",
   "metadata": {},
   "outputs": [
    {
     "ename": "IndexError",
     "evalue": "list index out of range",
     "output_type": "error",
     "traceback": [
      "\u001b[1;31m---------------------------------------------------------------------------\u001b[0m",
      "\u001b[1;31mIndexError\u001b[0m                                Traceback (most recent call last)",
      "Cell \u001b[1;32mIn[19], line 1\u001b[0m\n\u001b[1;32m----> 1\u001b[0m l[\u001b[38;5;241m150\u001b[39m]\n",
      "\u001b[1;31mIndexError\u001b[0m: list index out of range"
     ]
    }
   ],
   "source": [
    "l[150]"
   ]
  },
  {
   "cell_type": "markdown",
   "id": "d13079f9-1ced-4d0f-80b6-f71b48aac126",
   "metadata": {},
   "source": [
    "### Changing Values\n",
    "#### we can change values as list are mutable\n",
    "##### This means their content can be changed after they are created, allowing for the addition, removal, or modification of elements within a list without the need to create a new list.\n"
   ]
  },
  {
   "cell_type": "code",
   "execution_count": 20,
   "id": "787dee05-f149-471b-9b9f-d9c2478db8db",
   "metadata": {},
   "outputs": [
    {
     "data": {
      "text/plain": [
       "[10, 20, 51, 4, 8, 3, 64, 8, 1, 3, 702, 105, 18, 3, 18, 86.6]"
      ]
     },
     "execution_count": 20,
     "metadata": {},
     "output_type": "execute_result"
    }
   ],
   "source": [
    "l"
   ]
  },
  {
   "cell_type": "code",
   "execution_count": 21,
   "id": "7768b0f0-0abd-4bd5-a037-e2f685d030a3",
   "metadata": {},
   "outputs": [],
   "source": [
    "l[0]=45 #we can change the list value (from 10->45)"
   ]
  },
  {
   "cell_type": "code",
   "execution_count": 22,
   "id": "4af9b84b-fb19-46fb-8505-e13c2e092776",
   "metadata": {},
   "outputs": [
    {
     "data": {
      "text/plain": [
       "[45, 20, 51, 4, 8, 3, 64, 8, 1, 3, 702, 105, 18, 3, 18, 86.6]"
      ]
     },
     "execution_count": 22,
     "metadata": {},
     "output_type": "execute_result"
    }
   ],
   "source": [
    "l"
   ]
  },
  {
   "cell_type": "code",
   "execution_count": 23,
   "id": "cb301935-c81c-4bed-af5a-38124d03d844",
   "metadata": {},
   "outputs": [],
   "source": [
    "l[15]='New Element' #(86.6->New Element)"
   ]
  },
  {
   "cell_type": "code",
   "execution_count": 24,
   "id": "c205dfa3-1bc5-426b-b76a-a0cc5a83e390",
   "metadata": {},
   "outputs": [
    {
     "data": {
      "text/plain": [
       "[45, 20, 51, 4, 8, 3, 64, 8, 1, 3, 702, 105, 18, 3, 18, 'New Element']"
      ]
     },
     "execution_count": 24,
     "metadata": {},
     "output_type": "execute_result"
    }
   ],
   "source": [
    "l"
   ]
  },
  {
   "cell_type": "markdown",
   "id": "a2cc3d1a-5c5b-4440-8d60-28be0c699c25",
   "metadata": {},
   "source": [
    "##### NestedSlicing"
   ]
  },
  {
   "cell_type": "code",
   "execution_count": 25,
   "id": "35fdf80c-4c12-42c1-adfb-bbbd28130b6b",
   "metadata": {},
   "outputs": [
    {
     "data": {
      "text/plain": [
       "'New Element'"
      ]
     },
     "execution_count": 25,
     "metadata": {},
     "output_type": "execute_result"
    }
   ],
   "source": [
    "l[-1]"
   ]
  },
  {
   "cell_type": "code",
   "execution_count": 26,
   "id": "7d720ce1-b333-43f7-8dce-d062eed65aad",
   "metadata": {},
   "outputs": [
    {
     "data": {
      "text/plain": [
       "'N'"
      ]
     },
     "execution_count": 26,
     "metadata": {},
     "output_type": "execute_result"
    }
   ],
   "source": [
    "l[-1][0] #from l[-1] element [0]th index"
   ]
  },
  {
   "cell_type": "code",
   "execution_count": 27,
   "id": "f70eb508-7e99-4b9f-ae1c-b838f6923222",
   "metadata": {},
   "outputs": [
    {
     "data": {
      "text/plain": [
       "'E'"
      ]
     },
     "execution_count": 27,
     "metadata": {},
     "output_type": "execute_result"
    }
   ],
   "source": [
    "l[-1][4]"
   ]
  },
  {
   "cell_type": "code",
   "execution_count": 28,
   "id": "7a0f4d09-c4dc-4e92-9000-7a19e387714b",
   "metadata": {},
   "outputs": [
    {
     "ename": "TypeError",
     "evalue": "'int' object is not subscriptable",
     "output_type": "error",
     "traceback": [
      "\u001b[1;31m---------------------------------------------------------------------------\u001b[0m",
      "\u001b[1;31mTypeError\u001b[0m                                 Traceback (most recent call last)",
      "Cell \u001b[1;32mIn[28], line 1\u001b[0m\n\u001b[1;32m----> 1\u001b[0m l[\u001b[38;5;241m5\u001b[39m][\u001b[38;5;241m3\u001b[39m]\n",
      "\u001b[1;31mTypeError\u001b[0m: 'int' object is not subscriptable"
     ]
    }
   ],
   "source": [
    "l[5][3]"
   ]
  },
  {
   "cell_type": "markdown",
   "id": "f652512a-bf7d-4bf2-a771-cd6f4cfa2595",
   "metadata": {},
   "source": [
    "#### Adding Two Lists"
   ]
  },
  {
   "cell_type": "code",
   "execution_count": 29,
   "id": "0bbbaa42-2213-4f66-8065-998aa6feaae8",
   "metadata": {},
   "outputs": [
    {
     "name": "stdout",
     "output_type": "stream",
     "text": [
      "[45, 20, 51, 4, 8, 3, 64, 8, 1, 3, 702, 105, 18, 3, 18, 'New Element']\n",
      "16\n"
     ]
    }
   ],
   "source": [
    "print(l)\n",
    "print(len(l))"
   ]
  },
  {
   "cell_type": "code",
   "execution_count": 30,
   "id": "fdbbcd78-fad7-47b0-bad9-84eae5c10581",
   "metadata": {},
   "outputs": [
    {
     "data": {
      "text/plain": [
       "[89, 58]"
      ]
     },
     "execution_count": 30,
     "metadata": {},
     "output_type": "execute_result"
    }
   ],
   "source": [
    "l1=[89,58]\n",
    "l1"
   ]
  },
  {
   "cell_type": "code",
   "execution_count": 31,
   "id": "3b9f4278-4d95-46aa-b6ea-e483751a1aac",
   "metadata": {},
   "outputs": [],
   "source": [
    "l2=l+l1 #adding two lists"
   ]
  },
  {
   "cell_type": "code",
   "execution_count": 32,
   "id": "52dd7646-fdee-4f6c-957a-973ed5170ce2",
   "metadata": {},
   "outputs": [
    {
     "name": "stdout",
     "output_type": "stream",
     "text": [
      "[45, 20, 51, 4, 8, 3, 64, 8, 1, 3, 702, 105, 18, 3, 18, 'New Element', 89, 58]\n",
      "18\n"
     ]
    }
   ],
   "source": [
    "print(l2)\n",
    "print(len(l2))"
   ]
  },
  {
   "cell_type": "markdown",
   "id": "f42c505a-9fe9-4fc3-b80d-010970968f05",
   "metadata": {},
   "source": [
    "##### ListMemebership"
   ]
  },
  {
   "cell_type": "code",
   "execution_count": 33,
   "id": "7eaccd95-eb00-4a98-bd5e-4d2660810a6b",
   "metadata": {},
   "outputs": [
    {
     "data": {
      "text/plain": [
       "[45, 20, 51, 4, 8, 3, 64, 8, 1, 3, 702, 105, 18, 3, 18, 'New Element', 89, 58]"
      ]
     },
     "execution_count": 33,
     "metadata": {},
     "output_type": "execute_result"
    }
   ],
   "source": [
    "l2"
   ]
  },
  {
   "cell_type": "code",
   "execution_count": 34,
   "id": "d805a993-23cc-4aa7-b1cf-a57c3e7e29b2",
   "metadata": {},
   "outputs": [
    {
     "data": {
      "text/plain": [
       "False"
      ]
     },
     "execution_count": 34,
     "metadata": {},
     "output_type": "execute_result"
    }
   ],
   "source": [
    "100 in l2"
   ]
  },
  {
   "cell_type": "code",
   "execution_count": 35,
   "id": "9ee0f4ee-7d24-4b7f-9f9c-2479959864d6",
   "metadata": {},
   "outputs": [
    {
     "data": {
      "text/plain": [
       "True"
      ]
     },
     "execution_count": 35,
     "metadata": {},
     "output_type": "execute_result"
    }
   ],
   "source": [
    "702 in l2"
   ]
  },
  {
   "cell_type": "markdown",
   "id": "547fe423-9428-4620-8f59-2bb8a06177d7",
   "metadata": {},
   "source": [
    "### Enumerate"
   ]
  },
  {
   "cell_type": "code",
   "execution_count": 36,
   "id": "63b45659-3b46-4971-a087-9cb3d8cabbf5",
   "metadata": {},
   "outputs": [
    {
     "name": "stdout",
     "output_type": "stream",
     "text": [
      "45\n",
      "20\n",
      "51\n",
      "4\n",
      "8\n",
      "3\n",
      "64\n",
      "8\n",
      "1\n",
      "3\n",
      "702\n",
      "105\n",
      "18\n",
      "3\n",
      "18\n",
      "New Element\n"
     ]
    }
   ],
   "source": [
    "for i in l:\n",
    "    print(i)"
   ]
  },
  {
   "cell_type": "code",
   "execution_count": 37,
   "id": "be35dc36-1544-4da3-b1af-ff80235aff6a",
   "metadata": {},
   "outputs": [
    {
     "name": "stdout",
     "output_type": "stream",
     "text": [
      "(0, 45)\n",
      "(1, 20)\n",
      "(2, 51)\n",
      "(3, 4)\n",
      "(4, 8)\n",
      "(5, 3)\n",
      "(6, 64)\n",
      "(7, 8)\n",
      "(8, 1)\n",
      "(9, 3)\n",
      "(10, 702)\n",
      "(11, 105)\n",
      "(12, 18)\n",
      "(13, 3)\n",
      "(14, 18)\n",
      "(15, 'New Element')\n"
     ]
    }
   ],
   "source": [
    "for i in enumerate(l): #used to print along with the indexing \n",
    "    print(i)"
   ]
  },
  {
   "cell_type": "markdown",
   "id": "6fad37f1-9484-41e4-9f73-a363f92b98c6",
   "metadata": {},
   "source": [
    "### all()"
   ]
  },
  {
   "cell_type": "code",
   "execution_count": 38,
   "id": "7354473b-8e74-4851-8b43-060406f488bd",
   "metadata": {},
   "outputs": [
    {
     "data": {
      "text/plain": [
       "[45, 20, 51, 4, 8, 3, 64, 8, 1, 3, 702, 105, 18, 3, 18, 'New Element']"
      ]
     },
     "execution_count": 38,
     "metadata": {},
     "output_type": "execute_result"
    }
   ],
   "source": [
    "l"
   ]
  },
  {
   "cell_type": "code",
   "execution_count": 39,
   "id": "aa93e491-c98c-4387-b407-0d5fdad5e13a",
   "metadata": {},
   "outputs": [
    {
     "data": {
      "text/plain": [
       "True"
      ]
     },
     "execution_count": 39,
     "metadata": {},
     "output_type": "execute_result"
    }
   ],
   "source": [
    "all(l) #Return True if bool(x) is True for all values x in the iterable.\n",
    "# as there are no bool(0) in l"
   ]
  },
  {
   "cell_type": "code",
   "execution_count": 40,
   "id": "b86c9910-cf16-4f96-93d1-fd4db924e109",
   "metadata": {},
   "outputs": [
    {
     "data": {
      "text/plain": [
       "[45, 20, 51, 4, 8, 3, 64, 8, 1, 3, 702, 105, 18, 3, 18, 'New Element', 0]"
      ]
     },
     "execution_count": 40,
     "metadata": {},
     "output_type": "execute_result"
    }
   ],
   "source": [
    "l.append(0)\n",
    "l"
   ]
  },
  {
   "cell_type": "code",
   "execution_count": 41,
   "id": "0239f693-caab-43d1-809a-754120f63fd9",
   "metadata": {},
   "outputs": [
    {
     "data": {
      "text/plain": [
       "False"
      ]
     },
     "execution_count": 41,
     "metadata": {},
     "output_type": "execute_result"
    }
   ],
   "source": [
    "all(l) #as we add bool(0)"
   ]
  },
  {
   "cell_type": "markdown",
   "id": "5fbb0fe5-7f4a-4454-8f1f-de8e3fbcec4f",
   "metadata": {},
   "source": [
    "### any()"
   ]
  },
  {
   "cell_type": "code",
   "execution_count": 42,
   "id": "9575e6b4-b9e4-4a66-956d-aa73e10bdc98",
   "metadata": {},
   "outputs": [
    {
     "data": {
      "text/plain": [
       "[45, 20, 51, 4, 8, 3, 64, 8, 1, 3, 702, 105, 18, 3, 18, 'New Element', 0]"
      ]
     },
     "execution_count": 42,
     "metadata": {},
     "output_type": "execute_result"
    }
   ],
   "source": [
    "l"
   ]
  },
  {
   "cell_type": "code",
   "execution_count": 43,
   "id": "c967c792-24c8-4f79-a8ff-3ee4eacfb204",
   "metadata": {},
   "outputs": [
    {
     "data": {
      "text/plain": [
       "True"
      ]
     },
     "execution_count": 43,
     "metadata": {},
     "output_type": "execute_result"
    }
   ],
   "source": [
    "any(l) #Return True if bool(x) is True for any x in the iterable\n",
    "# as any single elment is true it returns true"
   ]
  },
  {
   "cell_type": "code",
   "execution_count": 44,
   "id": "c1f4dd81-b311-4344-80bd-5ac56ea4a78c",
   "metadata": {},
   "outputs": [],
   "source": [
    "l1=[0,0,0,False]"
   ]
  },
  {
   "cell_type": "code",
   "execution_count": 45,
   "id": "de853ffa-c2a9-4402-90de-e3dc252b0fb6",
   "metadata": {},
   "outputs": [
    {
     "data": {
      "text/plain": [
       "False"
      ]
     },
     "execution_count": 45,
     "metadata": {},
     "output_type": "execute_result"
    }
   ],
   "source": [
    "any(l1) #as every bool[0] returns false"
   ]
  }
 ],
 "metadata": {
  "kernelspec": {
   "display_name": "Python 3 (ipykernel)",
   "language": "python",
   "name": "python3"
  },
  "language_info": {
   "codemirror_mode": {
    "name": "ipython",
    "version": 3
   },
   "file_extension": ".py",
   "mimetype": "text/x-python",
   "name": "python",
   "nbconvert_exporter": "python",
   "pygments_lexer": "ipython3",
   "version": "3.12.7"
  }
 },
 "nbformat": 4,
 "nbformat_minor": 5
}
