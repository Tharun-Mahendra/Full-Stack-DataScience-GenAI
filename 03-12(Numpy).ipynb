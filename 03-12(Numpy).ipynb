{
 "cells": [
  {
   "cell_type": "code",
   "execution_count": 1,
   "id": "aa3bd85f-2873-4818-81d5-c4fd117d7e5d",
   "metadata": {},
   "outputs": [],
   "source": [
    "import numpy as np"
   ]
  },
  {
   "cell_type": "markdown",
   "id": "0b0dc5c6-8fc7-42e8-ba3b-1f5f44bb8407",
   "metadata": {},
   "source": [
    "# Functions"
   ]
  },
  {
   "cell_type": "markdown",
   "id": "02e7f29f-4f33-4c3a-b2a0-4f2d97aa3b1c",
   "metadata": {},
   "source": [
    "#### arange()"
   ]
  },
  {
   "cell_type": "code",
   "execution_count": 2,
   "id": "21921906-6888-4874-b307-3e98ac8841e7",
   "metadata": {},
   "outputs": [
    {
     "data": {
      "text/plain": [
       "array([0, 1, 2, 3, 4, 5, 6, 7, 8, 9])"
      ]
     },
     "execution_count": 2,
     "metadata": {},
     "output_type": "execute_result"
    }
   ],
   "source": [
    "np.arange(10) #arange([start,] stop[, step,], dtype=None, *, like=None)"
   ]
  },
  {
   "cell_type": "code",
   "execution_count": 3,
   "id": "400d491b-6ee3-4006-9e1c-59ec7655085a",
   "metadata": {},
   "outputs": [
    {
     "data": {
      "text/plain": [
       "array([0., 1., 2., 3., 4.])"
      ]
     },
     "execution_count": 3,
     "metadata": {},
     "output_type": "execute_result"
    }
   ],
   "source": [
    "np.arange(5.0)"
   ]
  },
  {
   "cell_type": "code",
   "execution_count": 4,
   "id": "0567e4bf-871e-4152-85de-e141cdac2ef6",
   "metadata": {},
   "outputs": [
    {
     "data": {
      "text/plain": [
       "array([10, 11, 12, 13, 14, 15, 16, 17, 18, 19])"
      ]
     },
     "execution_count": 4,
     "metadata": {},
     "output_type": "execute_result"
    }
   ],
   "source": [
    "np.arange(10,20)"
   ]
  },
  {
   "cell_type": "code",
   "execution_count": 5,
   "id": "00612abc-6add-4725-a444-7e036ed009de",
   "metadata": {},
   "outputs": [
    {
     "data": {
      "text/plain": [
       "array([], dtype=int32)"
      ]
     },
     "execution_count": 5,
     "metadata": {},
     "output_type": "execute_result"
    }
   ],
   "source": [
    "np.arange(20,10) #1st arg<2nd arg"
   ]
  },
  {
   "cell_type": "code",
   "execution_count": 6,
   "id": "04ab197a-4a53-4df7-ad7a-9a70eab02951",
   "metadata": {},
   "outputs": [
    {
     "data": {
      "text/plain": [
       "array([-20, -19, -18, -17, -16, -15, -14, -13, -12, -11, -10,  -9,  -8,\n",
       "        -7,  -6,  -5,  -4,  -3,  -2,  -1,   0,   1,   2,   3,   4,   5,\n",
       "         6,   7,   8,   9])"
      ]
     },
     "execution_count": 6,
     "metadata": {},
     "output_type": "execute_result"
    }
   ],
   "source": [
    "np.arange(-20,10)"
   ]
  },
  {
   "cell_type": "code",
   "execution_count": 7,
   "id": "3f96f1d1-2a8c-416b-afae-c0fc0d747f05",
   "metadata": {},
   "outputs": [
    {
     "data": {
      "text/plain": [
       "array([0., 1., 2., 3., 4., 5., 6., 7., 8., 9.])"
      ]
     },
     "execution_count": 7,
     "metadata": {},
     "output_type": "execute_result"
    }
   ],
   "source": [
    "np.arange(10,dtype=float)"
   ]
  },
  {
   "cell_type": "code",
   "execution_count": 8,
   "id": "39f786b9-3ac3-402d-ae05-6b31ee85efaa",
   "metadata": {},
   "outputs": [
    {
     "data": {
      "text/plain": [
       "array([0. , 0.5, 1. , 1.5, 2. , 2.5, 3. , 3.5, 4. , 4.5, 5. , 5.5, 6. ,\n",
       "       6.5, 7. , 7.5, 8. , 8.5, 9. , 9.5])"
      ]
     },
     "execution_count": 8,
     "metadata": {},
     "output_type": "execute_result"
    }
   ],
   "source": [
    "np.arange(0,10,0.5)"
   ]
  },
  {
   "cell_type": "code",
   "execution_count": 9,
   "id": "81b73b1e-0548-4fa8-ac63-66af8a953dc0",
   "metadata": {},
   "outputs": [
    {
     "ename": "TypeError",
     "evalue": "Cannot interpret '1' as a data type",
     "output_type": "error",
     "traceback": [
      "\u001b[1;31m---------------------------------------------------------------------------\u001b[0m",
      "\u001b[1;31mTypeError\u001b[0m                                 Traceback (most recent call last)",
      "Cell \u001b[1;32mIn[9], line 1\u001b[0m\n\u001b[1;32m----> 1\u001b[0m np\u001b[38;5;241m.\u001b[39marange(\u001b[38;5;241m0\u001b[39m,\u001b[38;5;241m10\u001b[39m,\u001b[38;5;241m5\u001b[39m,\u001b[38;5;241m1\u001b[39m)\n",
      "\u001b[1;31mTypeError\u001b[0m: Cannot interpret '1' as a data type"
     ]
    }
   ],
   "source": [
    "np.arange(0,10,5,1) #cant pass 4 arguments"
   ]
  },
  {
   "cell_type": "markdown",
   "id": "fcacc2a1-30e1-42b5-bbc9-7bf6b5d44f61",
   "metadata": {},
   "source": [
    "#### zeros()"
   ]
  },
  {
   "cell_type": "code",
   "execution_count": 10,
   "id": "a642441b-6061-44d2-9450-a44b4ef9fdd3",
   "metadata": {},
   "outputs": [
    {
     "data": {
      "text/plain": [
       "array([0., 0., 0.])"
      ]
     },
     "execution_count": 10,
     "metadata": {},
     "output_type": "execute_result"
    }
   ],
   "source": [
    "np.zeros(3) #zeros(shape, dtype=float, order='C', *, like=None)"
   ]
  },
  {
   "cell_type": "code",
   "execution_count": 11,
   "id": "25581e4a-b384-4d23-bb31-d70ebb690c95",
   "metadata": {},
   "outputs": [
    {
     "data": {
      "text/plain": [
       "array([0., 0., 0., 0., 0., 0., 0., 0., 0., 0.])"
      ]
     },
     "execution_count": 11,
     "metadata": {},
     "output_type": "execute_result"
    }
   ],
   "source": [
    "np.zeros(10) #parameter tuning->system by default gives parameter"
   ]
  },
  {
   "cell_type": "code",
   "execution_count": 12,
   "id": "bc2d19ef-2f5c-40a4-a20e-84e3db04c257",
   "metadata": {},
   "outputs": [
    {
     "data": {
      "text/plain": [
       "array([0, 0, 0, 0, 0])"
      ]
     },
     "execution_count": 12,
     "metadata": {},
     "output_type": "execute_result"
    }
   ],
   "source": [
    "np.zeros(5,dtype=int) #hyperparameter tuning->user defines/changes the parameter"
   ]
  },
  {
   "cell_type": "code",
   "execution_count": 13,
   "id": "2a72e6e3-6fb2-4daa-8089-12cff9cf6606",
   "metadata": {},
   "outputs": [
    {
     "data": {
      "text/plain": [
       "array([[0, 0],\n",
       "       [0, 0]])"
      ]
     },
     "execution_count": 13,
     "metadata": {},
     "output_type": "execute_result"
    }
   ],
   "source": [
    "np.zeros((2,2),dtype=int) #2d array"
   ]
  },
  {
   "cell_type": "code",
   "execution_count": 14,
   "id": "419e5c47-b09e-411e-9052-53ad90744f42",
   "metadata": {},
   "outputs": [
    {
     "data": {
      "text/plain": [
       "array([[0., 0., 0., 0., 0., 0.],\n",
       "       [0., 0., 0., 0., 0., 0.]])"
      ]
     },
     "execution_count": 14,
     "metadata": {},
     "output_type": "execute_result"
    }
   ],
   "source": [
    "np.zeros((2,6)) #2rows*6columns"
   ]
  },
  {
   "cell_type": "code",
   "execution_count": 15,
   "id": "5c298777-c1bd-4150-b8cf-57f01d00a806",
   "metadata": {},
   "outputs": [
    {
     "data": {
      "text/plain": [
       "array([[0, 0, 0, 0, 0, 0, 0, 0, 0, 0],\n",
       "       [0, 0, 0, 0, 0, 0, 0, 0, 0, 0],\n",
       "       [0, 0, 0, 0, 0, 0, 0, 0, 0, 0],\n",
       "       [0, 0, 0, 0, 0, 0, 0, 0, 0, 0],\n",
       "       [0, 0, 0, 0, 0, 0, 0, 0, 0, 0]])"
      ]
     },
     "execution_count": 15,
     "metadata": {},
     "output_type": "execute_result"
    }
   ],
   "source": [
    "np.zeros((5,10),dtype=int) #nd array"
   ]
  },
  {
   "cell_type": "markdown",
   "id": "bf450b5b-81a9-4166-9b5c-de328535aa20",
   "metadata": {},
   "source": [
    "#### ones()"
   ]
  },
  {
   "cell_type": "code",
   "execution_count": 16,
   "id": "ac2c3634-04e1-4f15-b3e9-efdcadf9f5f6",
   "metadata": {},
   "outputs": [
    {
     "data": {
      "text/plain": [
       "array([1., 1., 1.])"
      ]
     },
     "execution_count": 16,
     "metadata": {},
     "output_type": "execute_result"
    }
   ],
   "source": [
    "np.ones(3)"
   ]
  },
  {
   "cell_type": "code",
   "execution_count": 17,
   "id": "606ca006-b558-421a-91ab-70f698678cf9",
   "metadata": {},
   "outputs": [
    {
     "data": {
      "text/plain": [
       "array([1, 1, 1, 1, 1])"
      ]
     },
     "execution_count": 17,
     "metadata": {},
     "output_type": "execute_result"
    }
   ],
   "source": [
    "np.ones(5,dtype=int)"
   ]
  },
  {
   "cell_type": "code",
   "execution_count": 18,
   "id": "60c48dc4-b88c-407e-b5e0-f5d38ef0bd19",
   "metadata": {},
   "outputs": [
    {
     "data": {
      "text/plain": [
       "array([[1, 1, 1, 1],\n",
       "       [1, 1, 1, 1],\n",
       "       [1, 1, 1, 1],\n",
       "       [1, 1, 1, 1],\n",
       "       [1, 1, 1, 1]])"
      ]
     },
     "execution_count": 18,
     "metadata": {},
     "output_type": "execute_result"
    }
   ],
   "source": [
    "np.ones((5,4),dtype=int) #5rows*4columns"
   ]
  },
  {
   "cell_type": "markdown",
   "id": "6d3dc921-991e-469f-94e1-655d7125da2a",
   "metadata": {},
   "source": [
    "#### random()"
   ]
  },
  {
   "cell_type": "code",
   "execution_count": 19,
   "id": "cf66dae3-3c41-431d-9243-d2ed9691ee42",
   "metadata": {},
   "outputs": [
    {
     "data": {
      "text/plain": [
       "array([0.07387969, 0.74814021, 0.76913577, 0.8316839 , 0.54744859])"
      ]
     },
     "execution_count": 19,
     "metadata": {},
     "output_type": "execute_result"
    }
   ],
   "source": [
    "np.random.rand(5) #it gives o/p between 0-1"
   ]
  },
  {
   "cell_type": "code",
   "execution_count": 20,
   "id": "7371e114-f814-4a0f-a79a-093d0c635164",
   "metadata": {},
   "outputs": [
    {
     "data": {
      "text/plain": [
       "array([[0.61408654, 0.70336423, 0.92223473, 0.27790013, 0.28682153],\n",
       "       [0.80469061, 0.8683976 , 0.7601349 , 0.51949623, 0.3374311 ]])"
      ]
     },
     "execution_count": 20,
     "metadata": {},
     "output_type": "execute_result"
    }
   ],
   "source": [
    "np.random.rand(2,5)"
   ]
  },
  {
   "cell_type": "code",
   "execution_count": 21,
   "id": "94bbb709-c22a-49ad-96df-ea1f30ab687b",
   "metadata": {},
   "outputs": [
    {
     "data": {
      "text/plain": [
       "4"
      ]
     },
     "execution_count": 21,
     "metadata": {},
     "output_type": "execute_result"
    }
   ],
   "source": [
    "np.random.randint(10)#randint(low, high=None, size=None, dtype=int) Return random integers from `low` (inclusive) to `high` (exclusive).\n",
    "# low considered as '0' to 9 random number"
   ]
  },
  {
   "cell_type": "code",
   "execution_count": 22,
   "id": "3e28f31e-a27c-4e41-8006-6ad09ef44d2f",
   "metadata": {},
   "outputs": [
    {
     "data": {
      "text/plain": [
       "17"
      ]
     },
     "execution_count": 22,
     "metadata": {},
     "output_type": "execute_result"
    }
   ],
   "source": [
    "np.random.randint(5,50) #random number between 5 and 49"
   ]
  },
  {
   "cell_type": "code",
   "execution_count": 23,
   "id": "e98d9ae2-3fc5-47f8-9194-8cd73af93f91",
   "metadata": {},
   "outputs": [
    {
     "data": {
      "text/plain": [
       "array([95, 86, 67, 46, 84, 90, 14, 89, 12, 83, 29, 55, 10, 97,  8])"
      ]
     },
     "execution_count": 23,
     "metadata": {},
     "output_type": "execute_result"
    }
   ],
   "source": [
    "np.random.randint(0,100,15) #15 numbers"
   ]
  },
  {
   "cell_type": "code",
   "execution_count": 24,
   "id": "c063cfab-d275-40b9-b19f-de83bf149b4e",
   "metadata": {},
   "outputs": [
    {
     "data": {
      "text/plain": [
       "array([[84, 15, 39, 67, 49, 68, 81, 11, 77, 18],\n",
       "       [21, 53, 85, 82,  8,  0,  6, 38, 35, 20],\n",
       "       [ 0, 83, 44, 67, 32, 24, 82,  4, 16, 13],\n",
       "       [88,  0, 25, 26, 40, 90, 82, 58,  7, 84],\n",
       "       [88, 12, 40, 59, 25, 23, 68, 16, 51,  6],\n",
       "       [ 6, 33, 86, 60,  2, 81, 92, 81, 62, 70],\n",
       "       [36, 77, 39, 48, 54, 89, 26, 64, 23, 89],\n",
       "       [62, 76, 51, 72,  7, 53, 37, 67, 17,  9],\n",
       "       [13, 63, 38, 18, 92, 59,  0, 38, 45, 14],\n",
       "       [66, 30, 75, 32, 25, 52, 95, 87, 87, 75]])"
      ]
     },
     "execution_count": 24,
     "metadata": {},
     "output_type": "execute_result"
    }
   ],
   "source": [
    "np.random.randint(0,100,(10,10)) #10*10 array"
   ]
  },
  {
   "cell_type": "markdown",
   "id": "559c600c-9245-47fb-ae08-7f7567ccf82b",
   "metadata": {},
   "source": [
    "#### reshape()"
   ]
  },
  {
   "cell_type": "code",
   "execution_count": 25,
   "id": "e5325193-6540-4ab1-9cdb-155ce82637ca",
   "metadata": {},
   "outputs": [
    {
     "data": {
      "text/plain": [
       "array([ 1,  2,  3,  4,  5,  6,  7,  8,  9, 10, 11, 12, 13, 14])"
      ]
     },
     "execution_count": 25,
     "metadata": {},
     "output_type": "execute_result"
    }
   ],
   "source": [
    "arr=np.arange(1,15)\n",
    "arr"
   ]
  },
  {
   "cell_type": "code",
   "execution_count": 26,
   "id": "c5d17291-cfae-4c9d-9803-265cd5dcf890",
   "metadata": {},
   "outputs": [
    {
     "data": {
      "text/plain": [
       "array([[ 1,  2],\n",
       "       [ 3,  4],\n",
       "       [ 5,  6],\n",
       "       [ 7,  8],\n",
       "       [ 9, 10],\n",
       "       [11, 12],\n",
       "       [13, 14]])"
      ]
     },
     "execution_count": 26,
     "metadata": {},
     "output_type": "execute_result"
    }
   ],
   "source": [
    "arr.reshape(7,2) #Returns an array containing the same data with a new shape."
   ]
  },
  {
   "cell_type": "code",
   "execution_count": 27,
   "id": "76e14690-297f-4d28-a505-7be6c491b880",
   "metadata": {},
   "outputs": [
    {
     "ename": "ValueError",
     "evalue": "cannot reshape array of size 14 into shape (8,1)",
     "output_type": "error",
     "traceback": [
      "\u001b[1;31m---------------------------------------------------------------------------\u001b[0m",
      "\u001b[1;31mValueError\u001b[0m                                Traceback (most recent call last)",
      "Cell \u001b[1;32mIn[27], line 1\u001b[0m\n\u001b[1;32m----> 1\u001b[0m arr\u001b[38;5;241m.\u001b[39mreshape(\u001b[38;5;241m8\u001b[39m,\u001b[38;5;241m1\u001b[39m)\n",
      "\u001b[1;31mValueError\u001b[0m: cannot reshape array of size 14 into shape (8,1)"
     ]
    }
   ],
   "source": [
    "arr.reshape(8,1) #the reshape size should be exacty same as array elements size"
   ]
  },
  {
   "cell_type": "code",
   "execution_count": 28,
   "id": "82393523-fabd-4fa4-ab62-34afe88fd157",
   "metadata": {},
   "outputs": [
    {
     "data": {
      "text/plain": [
       "array([[ 1],\n",
       "       [ 2],\n",
       "       [ 3],\n",
       "       [ 4],\n",
       "       [ 5],\n",
       "       [ 6],\n",
       "       [ 7],\n",
       "       [ 8],\n",
       "       [ 9],\n",
       "       [10],\n",
       "       [11],\n",
       "       [12],\n",
       "       [13],\n",
       "       [14]])"
      ]
     },
     "execution_count": 28,
     "metadata": {},
     "output_type": "execute_result"
    }
   ],
   "source": [
    "arr.reshape(14,1)"
   ]
  },
  {
   "cell_type": "code",
   "execution_count": 29,
   "id": "f03ab5d7-1e3c-4bcd-a988-978910f19b5f",
   "metadata": {},
   "outputs": [
    {
     "data": {
      "text/plain": [
       "array([[23, 74, 88, 93],\n",
       "       [97, 51, 21, 41],\n",
       "       [83, 54, 35, 67],\n",
       "       [35, 80,  8, 87],\n",
       "       [26, 72, 70,  8]])"
      ]
     },
     "execution_count": 29,
     "metadata": {},
     "output_type": "execute_result"
    }
   ],
   "source": [
    "arr2=np.random.randint(0,100,(5,4))\n",
    "arr2"
   ]
  },
  {
   "cell_type": "code",
   "execution_count": 30,
   "id": "0972cf2d-8687-47ef-96d5-15dfc993de42",
   "metadata": {},
   "outputs": [
    {
     "data": {
      "text/plain": [
       "array([[23, 74],\n",
       "       [88, 93],\n",
       "       [97, 51],\n",
       "       [21, 41],\n",
       "       [83, 54],\n",
       "       [35, 67],\n",
       "       [35, 80],\n",
       "       [ 8, 87],\n",
       "       [26, 72],\n",
       "       [70,  8]])"
      ]
     },
     "execution_count": 30,
     "metadata": {},
     "output_type": "execute_result"
    }
   ],
   "source": [
    "arr2.reshape(10,2)"
   ]
  }
 ],
 "metadata": {
  "kernelspec": {
   "display_name": "Python 3 (ipykernel)",
   "language": "python",
   "name": "python3"
  },
  "language_info": {
   "codemirror_mode": {
    "name": "ipython",
    "version": 3
   },
   "file_extension": ".py",
   "mimetype": "text/x-python",
   "name": "python",
   "nbconvert_exporter": "python",
   "pygments_lexer": "ipython3",
   "version": "3.12.7"
  }
 },
 "nbformat": 4,
 "nbformat_minor": 5
}
