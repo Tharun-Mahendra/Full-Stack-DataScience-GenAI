{
 "cells": [
  {
   "cell_type": "markdown",
   "id": "e9c1eea0-dc56-4c1c-8851-0779518e9d70",
   "metadata": {},
   "source": [
    "#### Boolean"
   ]
  },
  {
   "cell_type": "code",
   "execution_count": 1,
   "id": "55d42c53-b68f-4c8c-bade-811bc7e13cb2",
   "metadata": {},
   "outputs": [
    {
     "data": {
      "text/plain": [
       "True"
      ]
     },
     "execution_count": 1,
     "metadata": {},
     "output_type": "execute_result"
    }
   ],
   "source": [
    "bool(2)"
   ]
  },
  {
   "cell_type": "code",
   "execution_count": 2,
   "id": "31bed854-1425-4991-8256-6ff18e95e9f9",
   "metadata": {},
   "outputs": [
    {
     "data": {
      "text/plain": [
       "False"
      ]
     },
     "execution_count": 2,
     "metadata": {},
     "output_type": "execute_result"
    }
   ],
   "source": [
    "bool(0)"
   ]
  },
  {
   "cell_type": "code",
   "execution_count": 3,
   "id": "cfa14cd1-83a4-4f39-b2c5-bd376e918b9f",
   "metadata": {},
   "outputs": [
    {
     "ename": "TypeError",
     "evalue": "bool expected at most 1 argument, got 2",
     "output_type": "error",
     "traceback": [
      "\u001b[1;31m---------------------------------------------------------------------------\u001b[0m",
      "\u001b[1;31mTypeError\u001b[0m                                 Traceback (most recent call last)",
      "Cell \u001b[1;32mIn[3], line 1\u001b[0m\n\u001b[1;32m----> 1\u001b[0m \u001b[38;5;28mbool\u001b[39m(\u001b[38;5;241m2\u001b[39m,\u001b[38;5;241m3\u001b[39m)\n",
      "\u001b[1;31mTypeError\u001b[0m: bool expected at most 1 argument, got 2"
     ]
    }
   ],
   "source": [
    "bool(2,3)"
   ]
  },
  {
   "cell_type": "code",
   "execution_count": 4,
   "id": "8a22b805-3fca-4c39-b04d-0633c4d6d4b3",
   "metadata": {},
   "outputs": [
    {
     "data": {
      "text/plain": [
       "True"
      ]
     },
     "execution_count": 4,
     "metadata": {},
     "output_type": "execute_result"
    }
   ],
   "source": [
    "bool(3.2)"
   ]
  },
  {
   "cell_type": "code",
   "execution_count": 5,
   "id": "8e5d395a-57a4-4427-96d3-9fa0209f424e",
   "metadata": {},
   "outputs": [
    {
     "data": {
      "text/plain": [
       "True"
      ]
     },
     "execution_count": 5,
     "metadata": {},
     "output_type": "execute_result"
    }
   ],
   "source": [
    "bool(1+2j)"
   ]
  },
  {
   "cell_type": "code",
   "execution_count": 6,
   "id": "892b5288-7596-42a6-9fc0-ab99c79f89da",
   "metadata": {},
   "outputs": [
    {
     "data": {
      "text/plain": [
       "False"
      ]
     },
     "execution_count": 6,
     "metadata": {},
     "output_type": "execute_result"
    }
   ],
   "source": [
    "bool(0+0j)"
   ]
  },
  {
   "cell_type": "code",
   "execution_count": 7,
   "id": "5faa08dd-3db4-47b9-8169-844393d4343c",
   "metadata": {},
   "outputs": [
    {
     "data": {
      "text/plain": [
       "True"
      ]
     },
     "execution_count": 7,
     "metadata": {},
     "output_type": "execute_result"
    }
   ],
   "source": [
    "bool('hi')"
   ]
  },
  {
   "cell_type": "code",
   "execution_count": 8,
   "id": "f50fb66d-0c8e-483d-bbba-d8cebb7c056f",
   "metadata": {},
   "outputs": [
    {
     "data": {
      "text/plain": [
       "False"
      ]
     },
     "execution_count": 8,
     "metadata": {},
     "output_type": "execute_result"
    }
   ],
   "source": [
    "bool()"
   ]
  },
  {
   "cell_type": "markdown",
   "id": "ca1543f3-4c7c-4cdc-9466-c902d60b9907",
   "metadata": {},
   "source": [
    "#### String"
   ]
  },
  {
   "cell_type": "code",
   "execution_count": 9,
   "id": "ed13a319-aaa5-40a4-acc8-26909b4d41c7",
   "metadata": {},
   "outputs": [
    {
     "data": {
      "text/plain": [
       "'7'"
      ]
     },
     "execution_count": 9,
     "metadata": {},
     "output_type": "execute_result"
    }
   ],
   "source": [
    "str(7)"
   ]
  },
  {
   "cell_type": "code",
   "execution_count": 10,
   "id": "936d7c4e-a681-4e4f-818c-4f13546bc299",
   "metadata": {},
   "outputs": [
    {
     "data": {
      "text/plain": [
       "'40.5'"
      ]
     },
     "execution_count": 10,
     "metadata": {},
     "output_type": "execute_result"
    }
   ],
   "source": [
    "str(40.5)"
   ]
  },
  {
   "cell_type": "code",
   "execution_count": 11,
   "id": "55c7bca7-b03e-4bc4-bce5-3e6d802023ea",
   "metadata": {},
   "outputs": [
    {
     "data": {
      "text/plain": [
       "'(1+2j)'"
      ]
     },
     "execution_count": 11,
     "metadata": {},
     "output_type": "execute_result"
    }
   ],
   "source": [
    "str(1+2j)"
   ]
  },
  {
   "cell_type": "code",
   "execution_count": 12,
   "id": "8bddb8b0-aadd-4027-b790-8719013fd8a6",
   "metadata": {},
   "outputs": [
    {
     "data": {
      "text/plain": [
       "'True'"
      ]
     },
     "execution_count": 12,
     "metadata": {},
     "output_type": "execute_result"
    }
   ],
   "source": [
    "str(True)"
   ]
  },
  {
   "cell_type": "code",
   "execution_count": 13,
   "id": "4850d9a1-b90b-4db6-8aa7-26e897da55b9",
   "metadata": {},
   "outputs": [
    {
     "ename": "NameError",
     "evalue": "name 'TRUE' is not defined",
     "output_type": "error",
     "traceback": [
      "\u001b[1;31m---------------------------------------------------------------------------\u001b[0m",
      "\u001b[1;31mNameError\u001b[0m                                 Traceback (most recent call last)",
      "Cell \u001b[1;32mIn[13], line 1\u001b[0m\n\u001b[1;32m----> 1\u001b[0m \u001b[38;5;28mstr\u001b[39m(TRUE)\n",
      "\u001b[1;31mNameError\u001b[0m: name 'TRUE' is not defined"
     ]
    }
   ],
   "source": [
    "str(TRUE)"
   ]
  },
  {
   "cell_type": "markdown",
   "id": "edb4209e-8ff9-4f0d-83e8-f2db14877611",
   "metadata": {},
   "source": [
    "# Operators"
   ]
  },
  {
   "cell_type": "markdown",
   "id": "9e7b92b6-bb4f-4a9a-b4d1-9f7407c5f1d9",
   "metadata": {},
   "source": [
    "#### Arthimetic Operators\n"
   ]
  },
  {
   "cell_type": "code",
   "execution_count": 14,
   "id": "a254faa2-36e7-4957-977c-80652818ecc2",
   "metadata": {},
   "outputs": [],
   "source": [
    "x,y=10,2"
   ]
  },
  {
   "cell_type": "code",
   "execution_count": 15,
   "id": "5d3ca711-056c-4c97-80f5-8044147d2956",
   "metadata": {},
   "outputs": [
    {
     "data": {
      "text/plain": [
       "12"
      ]
     },
     "execution_count": 15,
     "metadata": {},
     "output_type": "execute_result"
    }
   ],
   "source": [
    "x+y #Addition"
   ]
  },
  {
   "cell_type": "code",
   "execution_count": 16,
   "id": "a4ba333a-0d9e-47f4-9ad7-15e84ea4ddd9",
   "metadata": {},
   "outputs": [
    {
     "data": {
      "text/plain": [
       "8"
      ]
     },
     "execution_count": 16,
     "metadata": {},
     "output_type": "execute_result"
    }
   ],
   "source": [
    "x-y #Subtraction"
   ]
  },
  {
   "cell_type": "code",
   "execution_count": 17,
   "id": "482db1e3-9a68-4a82-8b90-1e889ba196a0",
   "metadata": {},
   "outputs": [
    {
     "data": {
      "text/plain": [
       "20"
      ]
     },
     "execution_count": 17,
     "metadata": {},
     "output_type": "execute_result"
    }
   ],
   "source": [
    "x*y #Multiplication"
   ]
  },
  {
   "cell_type": "code",
   "execution_count": 18,
   "id": "82b327d8-e68f-4f17-9437-c67b00f9a61a",
   "metadata": {},
   "outputs": [
    {
     "data": {
      "text/plain": [
       "5.0"
      ]
     },
     "execution_count": 18,
     "metadata": {},
     "output_type": "execute_result"
    }
   ],
   "source": [
    "x/y #Division(Float Division)"
   ]
  },
  {
   "cell_type": "code",
   "execution_count": 19,
   "id": "6fdf3265-3c70-4f95-aff6-c698585d9de6",
   "metadata": {},
   "outputs": [
    {
     "data": {
      "text/plain": [
       "5"
      ]
     },
     "execution_count": 19,
     "metadata": {},
     "output_type": "execute_result"
    }
   ],
   "source": [
    "x//y #Floor_Division(Int Division)"
   ]
  },
  {
   "cell_type": "code",
   "execution_count": 20,
   "id": "5fa59215-9fe4-4d70-9ff8-102910a4d95c",
   "metadata": {},
   "outputs": [
    {
     "data": {
      "text/plain": [
       "0"
      ]
     },
     "execution_count": 20,
     "metadata": {},
     "output_type": "execute_result"
    }
   ],
   "source": [
    "x%y #Remainder"
   ]
  },
  {
   "cell_type": "code",
   "execution_count": 21,
   "id": "07679cd8-b315-43c1-bb7b-fc781efc8683",
   "metadata": {},
   "outputs": [
    {
     "data": {
      "text/plain": [
       "100"
      ]
     },
     "execution_count": 21,
     "metadata": {},
     "output_type": "execute_result"
    }
   ],
   "source": [
    "x**y #Exponential"
   ]
  },
  {
   "cell_type": "code",
   "execution_count": 22,
   "id": "9512fcad-5d2e-45d3-8a1d-14aa3666985c",
   "metadata": {},
   "outputs": [
    {
     "name": "stdout",
     "output_type": "stream",
     "text": [
      "addition = 5\n",
      "subtraction = 1\n",
      "multiplication = 6\n",
      "floatDivision = 1.5\n",
      "exponent = 9\n",
      "remainder = 1\n",
      "intDivision = 1\n"
     ]
    }
   ],
   "source": [
    "print('addition =',3 + 2)   \n",
    "print('subtraction =',3 - 2)\n",
    "print('multiplication =',3 * 2)\n",
    "print('floatDivision =',3 / 2) \n",
    "print('exponent =',3 ** 2)  \n",
    "print('remainder =',3 % 2)  \n",
    "print('intDivision =',3 // 2)"
   ]
  },
  {
   "cell_type": "markdown",
   "id": "fffd86fa-0d5b-40b7-96d0-a63b37164640",
   "metadata": {},
   "source": [
    "#### Assignment Operators"
   ]
  },
  {
   "cell_type": "code",
   "execution_count": 23,
   "id": "6a154f19-022b-4b22-aeb6-03ba60df010f",
   "metadata": {},
   "outputs": [
    {
     "data": {
      "text/plain": [
       "2"
      ]
     },
     "execution_count": 23,
     "metadata": {},
     "output_type": "execute_result"
    }
   ],
   "source": [
    "x=2\n",
    "x"
   ]
  },
  {
   "cell_type": "code",
   "execution_count": 24,
   "id": "23782c29-e57b-4efb-b247-6a3f9edf1cf0",
   "metadata": {},
   "outputs": [
    {
     "data": {
      "text/plain": [
       "4"
      ]
     },
     "execution_count": 24,
     "metadata": {},
     "output_type": "execute_result"
    }
   ],
   "source": [
    "x=x+2\n",
    "x"
   ]
  },
  {
   "cell_type": "code",
   "execution_count": 25,
   "id": "fdb283d0-9011-42ea-aeec-14f1de627b62",
   "metadata": {},
   "outputs": [
    {
     "data": {
      "text/plain": [
       "6"
      ]
     },
     "execution_count": 25,
     "metadata": {},
     "output_type": "execute_result"
    }
   ],
   "source": [
    "x+=2\n",
    "x"
   ]
  },
  {
   "cell_type": "code",
   "execution_count": 26,
   "id": "24a5119d-6441-42a8-993f-c18103d21cf9",
   "metadata": {},
   "outputs": [
    {
     "data": {
      "text/plain": [
       "4"
      ]
     },
     "execution_count": 26,
     "metadata": {},
     "output_type": "execute_result"
    }
   ],
   "source": [
    "x-=2\n",
    "x"
   ]
  },
  {
   "cell_type": "code",
   "execution_count": 27,
   "id": "d21f49f8-1574-4736-88a9-59fc49b6dbb5",
   "metadata": {},
   "outputs": [
    {
     "data": {
      "text/plain": [
       "12"
      ]
     },
     "execution_count": 27,
     "metadata": {},
     "output_type": "execute_result"
    }
   ],
   "source": [
    "x*=3\n",
    "x"
   ]
  },
  {
   "cell_type": "code",
   "execution_count": 28,
   "id": "17abff85-55e4-456f-9fce-9b2ecff3863f",
   "metadata": {},
   "outputs": [
    {
     "data": {
      "text/plain": [
       "6.0"
      ]
     },
     "execution_count": 28,
     "metadata": {},
     "output_type": "execute_result"
    }
   ],
   "source": [
    "x/=2\n",
    "x"
   ]
  },
  {
   "cell_type": "markdown",
   "id": "b23d36cb-726a-4036-b2a4-f0110adcf567",
   "metadata": {},
   "source": [
    "#### Unary Operator"
   ]
  },
  {
   "cell_type": "code",
   "execution_count": 29,
   "id": "93d3a6d1-54bd-48dd-b920-c18298b0c66f",
   "metadata": {},
   "outputs": [
    {
     "data": {
      "text/plain": [
       "7"
      ]
     },
     "execution_count": 29,
     "metadata": {},
     "output_type": "execute_result"
    }
   ],
   "source": [
    "n=7\n",
    "n"
   ]
  },
  {
   "cell_type": "code",
   "execution_count": 30,
   "id": "8fb2e4a4-9df2-4b08-bfb6-e13195f542e4",
   "metadata": {},
   "outputs": [
    {
     "data": {
      "text/plain": [
       "-7"
      ]
     },
     "execution_count": 30,
     "metadata": {},
     "output_type": "execute_result"
    }
   ],
   "source": [
    "m=-n\n",
    "m"
   ]
  },
  {
   "cell_type": "code",
   "execution_count": 31,
   "id": "75997864-21d0-430f-b63a-504190cac973",
   "metadata": {},
   "outputs": [
    {
     "data": {
      "text/plain": [
       "7"
      ]
     },
     "execution_count": 31,
     "metadata": {},
     "output_type": "execute_result"
    }
   ],
   "source": [
    "n"
   ]
  },
  {
   "cell_type": "code",
   "execution_count": 32,
   "id": "1458c084-7ed9-4d05-ba2b-bb953d3c62ce",
   "metadata": {},
   "outputs": [
    {
     "data": {
      "text/plain": [
       "-7"
      ]
     },
     "execution_count": 32,
     "metadata": {},
     "output_type": "execute_result"
    }
   ],
   "source": [
    "-n"
   ]
  },
  {
   "cell_type": "markdown",
   "id": "a984719c-eaf4-4851-a1d0-eccfdb7ed6b8",
   "metadata": {},
   "source": [
    "#### Relational Operators"
   ]
  },
  {
   "cell_type": "code",
   "execution_count": 33,
   "id": "c64aaf58-1ae5-44d3-a510-d4845af1cafc",
   "metadata": {},
   "outputs": [],
   "source": [
    "r1=5\n",
    "r2=6"
   ]
  },
  {
   "cell_type": "code",
   "execution_count": 34,
   "id": "ac3866e1-fb5e-4c52-bb47-eb63a88c2108",
   "metadata": {},
   "outputs": [
    {
     "data": {
      "text/plain": [
       "False"
      ]
     },
     "execution_count": 34,
     "metadata": {},
     "output_type": "execute_result"
    }
   ],
   "source": [
    "r1>r2 #greaterthan"
   ]
  },
  {
   "cell_type": "code",
   "execution_count": 35,
   "id": "64d6996f-09ab-4838-aa80-be3b06f8056b",
   "metadata": {},
   "outputs": [
    {
     "data": {
      "text/plain": [
       "True"
      ]
     },
     "execution_count": 35,
     "metadata": {},
     "output_type": "execute_result"
    }
   ],
   "source": [
    "r1<r2 #lessthan"
   ]
  },
  {
   "cell_type": "code",
   "execution_count": 36,
   "id": "571ada8a-d408-4080-a5e6-dc1592445974",
   "metadata": {},
   "outputs": [
    {
     "data": {
      "text/plain": [
       "False"
      ]
     },
     "execution_count": 36,
     "metadata": {},
     "output_type": "execute_result"
    }
   ],
   "source": [
    "r1==r2 #Equalto(Comparision)"
   ]
  },
  {
   "cell_type": "code",
   "execution_count": 37,
   "id": "3e4409c4-f6a7-4c40-93c2-89f1d185be52",
   "metadata": {},
   "outputs": [
    {
     "data": {
      "text/plain": [
       "True"
      ]
     },
     "execution_count": 37,
     "metadata": {},
     "output_type": "execute_result"
    }
   ],
   "source": [
    "r1!=r2 #NotEqualto"
   ]
  },
  {
   "cell_type": "code",
   "execution_count": 38,
   "id": "f0cc054d-801c-4a72-b788-22acacd4887e",
   "metadata": {},
   "outputs": [],
   "source": [
    "r3=6"
   ]
  },
  {
   "cell_type": "code",
   "execution_count": 39,
   "id": "0ce9a36e-e92b-4026-bc9c-fb2e6325dc83",
   "metadata": {},
   "outputs": [
    {
     "data": {
      "text/plain": [
       "False"
      ]
     },
     "execution_count": 39,
     "metadata": {},
     "output_type": "execute_result"
    }
   ],
   "source": [
    "r1==r3"
   ]
  },
  {
   "cell_type": "code",
   "execution_count": 40,
   "id": "0c3efb41-3b72-4afd-b8b1-8d6a3312024a",
   "metadata": {},
   "outputs": [
    {
     "data": {
      "text/plain": [
       "True"
      ]
     },
     "execution_count": 40,
     "metadata": {},
     "output_type": "execute_result"
    }
   ],
   "source": [
    "r2==r3"
   ]
  },
  {
   "cell_type": "code",
   "execution_count": 41,
   "id": "b9626196-c81b-4fa0-b054-191cd94b77e7",
   "metadata": {},
   "outputs": [
    {
     "data": {
      "text/plain": [
       "False"
      ]
     },
     "execution_count": 41,
     "metadata": {},
     "output_type": "execute_result"
    }
   ],
   "source": [
    "r1>=r2 #GreaterthanEqualto"
   ]
  },
  {
   "cell_type": "code",
   "execution_count": 42,
   "id": "f2eebf67-c01a-4205-bebe-f5fc9cf7a7b9",
   "metadata": {},
   "outputs": [
    {
     "data": {
      "text/plain": [
       "True"
      ]
     },
     "execution_count": 42,
     "metadata": {},
     "output_type": "execute_result"
    }
   ],
   "source": [
    "r1<=r2 #LessthanEqualto"
   ]
  },
  {
   "cell_type": "markdown",
   "id": "89481698-24d6-41d4-9061-087806e9f3dd",
   "metadata": {},
   "source": [
    "#### Logical Operators"
   ]
  },
  {
   "cell_type": "markdown",
   "id": "4a380afc-299f-431b-b749-6f7981a03280",
   "metadata": {},
   "source": [
    "##### AND \n",
    "##### if both of them are true then returns true else false"
   ]
  },
  {
   "cell_type": "code",
   "execution_count": 43,
   "id": "ed67e7b9-7a24-40ea-8a3d-719ce106fd3b",
   "metadata": {},
   "outputs": [],
   "source": [
    "a=5\n",
    "b=4"
   ]
  },
  {
   "cell_type": "code",
   "execution_count": 44,
   "id": "bc52b02a-add9-4e98-85ca-a7c06c743ed9",
   "metadata": {},
   "outputs": [
    {
     "data": {
      "text/plain": [
       "True"
      ]
     },
     "execution_count": 44,
     "metadata": {},
     "output_type": "execute_result"
    }
   ],
   "source": [
    "a<8 and b<5 "
   ]
  },
  {
   "cell_type": "code",
   "execution_count": 45,
   "id": "a51a837c-d3fd-4691-a7d6-eded2b29cb0c",
   "metadata": {},
   "outputs": [
    {
     "data": {
      "text/plain": [
       "False"
      ]
     },
     "execution_count": 45,
     "metadata": {},
     "output_type": "execute_result"
    }
   ],
   "source": [
    "a>8 and b<5"
   ]
  },
  {
   "cell_type": "markdown",
   "id": "25bbb1a0-7809-4b8a-b8ae-6936a7981caa",
   "metadata": {},
   "source": [
    "##### OR\n",
    "##### if any one true returns true"
   ]
  },
  {
   "cell_type": "code",
   "execution_count": 46,
   "id": "6c0c0846-b355-496d-95c8-59afd6558a6d",
   "metadata": {},
   "outputs": [],
   "source": [
    "a=10\n",
    "b=13"
   ]
  },
  {
   "cell_type": "code",
   "execution_count": 47,
   "id": "9d1c8b84-df7e-4eeb-b7f9-e3449466a48f",
   "metadata": {},
   "outputs": [
    {
     "data": {
      "text/plain": [
       "True"
      ]
     },
     "execution_count": 47,
     "metadata": {},
     "output_type": "execute_result"
    }
   ],
   "source": [
    "a>5 or b<15"
   ]
  },
  {
   "cell_type": "code",
   "execution_count": 48,
   "id": "16bdd998-aa9c-42c7-bfe0-faf426eaa6b0",
   "metadata": {},
   "outputs": [
    {
     "data": {
      "text/plain": [
       "False"
      ]
     },
     "execution_count": 48,
     "metadata": {},
     "output_type": "execute_result"
    }
   ],
   "source": [
    "a<5 or b>15"
   ]
  },
  {
   "cell_type": "markdown",
   "id": "f0474fea-da84-495e-855c-cba77c77cf19",
   "metadata": {},
   "source": [
    "##### NOT\n",
    "##### if true returns false\n",
    "##### if false returns true.Viceversa"
   ]
  },
  {
   "cell_type": "code",
   "execution_count": 49,
   "id": "08a440e6-1216-4a7d-afda-a5d06dfa192c",
   "metadata": {},
   "outputs": [
    {
     "data": {
      "text/plain": [
       "False"
      ]
     },
     "execution_count": 49,
     "metadata": {},
     "output_type": "execute_result"
    }
   ],
   "source": [
    "not x"
   ]
  },
  {
   "cell_type": "code",
   "execution_count": 50,
   "id": "8403639a-6b5b-421b-acc8-5f212687b6cc",
   "metadata": {},
   "outputs": [
    {
     "data": {
      "text/plain": [
       "False"
      ]
     },
     "execution_count": 50,
     "metadata": {},
     "output_type": "execute_result"
    }
   ],
   "source": [
    "not y"
   ]
  },
  {
   "cell_type": "code",
   "execution_count": 51,
   "id": "ac1ed9da-1829-4e8f-9387-bfa14a20526b",
   "metadata": {},
   "outputs": [],
   "source": [
    "x=False"
   ]
  },
  {
   "cell_type": "code",
   "execution_count": 52,
   "id": "38018ffa-3317-4e8c-8db8-e64367d84e94",
   "metadata": {},
   "outputs": [
    {
     "data": {
      "text/plain": [
       "True"
      ]
     },
     "execution_count": 52,
     "metadata": {},
     "output_type": "execute_result"
    }
   ],
   "source": [
    "not x"
   ]
  }
 ],
 "metadata": {
  "kernelspec": {
   "display_name": "Python 3 (ipykernel)",
   "language": "python",
   "name": "python3"
  },
  "language_info": {
   "codemirror_mode": {
    "name": "ipython",
    "version": 3
   },
   "file_extension": ".py",
   "mimetype": "text/x-python",
   "name": "python",
   "nbconvert_exporter": "python",
   "pygments_lexer": "ipython3",
   "version": "3.12.7"
  }
 },
 "nbformat": 4,
 "nbformat_minor": 5
}
